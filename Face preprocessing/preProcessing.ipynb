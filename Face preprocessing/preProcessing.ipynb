{
 "cells": [
  {
   "cell_type": "code",
   "execution_count": 1,
   "id": "777de7b3-5a52-49e7-8e41-b6e8fb2ae770",
   "metadata": {
    "id": "777de7b3-5a52-49e7-8e41-b6e8fb2ae770"
   },
   "outputs": [],
   "source": [
    "import os\n",
    "import cv2\n",
    "import numpy as np"
   ]
  },
  {
   "cell_type": "code",
   "execution_count": 2,
   "id": "febd4a3e-5412-469d-bbe4-d703d3c066a5",
   "metadata": {
    "id": "febd4a3e-5412-469d-bbe4-d703d3c066a5"
   },
   "outputs": [],
   "source": [
    "input_folder = 'input'\n",
    "output_folder = 'output'\n"
   ]
  },
  {
   "cell_type": "code",
   "execution_count": null,
   "id": "9e75da27-0eb1-40f2-88d2-2dd21342dbb5",
   "metadata": {
    "id": "9e75da27-0eb1-40f2-88d2-2dd21342dbb5"
   },
   "outputs": [],
   "source": [
    "if not os.path.exists(output_folder):\n",
    "    os.makedirs(output_folder)"
   ]
  },
  {
   "cell_type": "code",
   "execution_count": 3,
   "id": "c9f0e40b-41d0-4743-b382-e67a1abac76a",
   "metadata": {
    "id": "c9f0e40b-41d0-4743-b382-e67a1abac76a"
   },
   "outputs": [],
   "source": [
    "image_files = [f for f in os.listdir(input_folder) if f.lower().endswith(('.jpg', '.jpeg', '.png', '.gif', '.bmp', '.tiff'))]"
   ]
  },
  {
   "cell_type": "code",
   "execution_count": 5,
   "id": "ab0deb02-33c5-43a0-a02d-6ea1727859a4",
   "metadata": {
    "id": "ab0deb02-33c5-43a0-a02d-6ea1727859a4",
    "outputId": "49cbd7fa-7d0c-47e0-efd9-8ae987702c5f"
   },
   "outputs": [
    {
     "name": "stdout",
     "output_type": "stream",
     "text": [
      "Processed: f265.jpg\n",
      "Processed: f266.jpg\n",
      "Processed: f267.jpg\n",
      "Processed: f268.jpg\n",
      "Processed: f269.jpg\n",
      "Processed: f273.jpg\n",
      "Processed: f274.jpg\n",
      "Processed: f275.jpg\n",
      "All images processed and saved.\n"
     ]
    }
   ],
   "source": [
    "for filename in os.listdir(input_folder):\n",
    "    # Read the image\n",
    "    image_path = os.path.join(input_folder, filename)\n",
    "    image = cv2.imread(image_path)\n",
    "\n",
    "    if image is not None:\n",
    "        brightness_increase = 20  # You can adjust this value as needed\n",
    "        brightened_image = cv2.add(image, brightness_increase)\n",
    "\n",
    "        #Sharp\n",
    "        kernel = np.array([[-1, -1, -1],\n",
    "                           [-1, 9, -1],\n",
    "                           [-1, -1, -1]])\n",
    "        sharpened_image = cv2.filter2D(brightened_image, -1, kernel)\n",
    "\n",
    "        output_path = os.path.join(output_folder, filename)\n",
    "        cv2.imwrite(output_path, sharpened_image)\n",
    "\n",
    "        print(f\"Processed: {filename}\")\n",
    "    else:\n",
    "        print(f\"Could not read: {filename}\")\n",
    "\n",
    "print(\"All images processed and saved.\")"
   ]
  },
  {
   "cell_type": "code",
   "execution_count": null,
   "id": "ad13c3b2-5397-4c49-8487-19de63cbc5f8",
   "metadata": {
    "id": "ad13c3b2-5397-4c49-8487-19de63cbc5f8"
   },
   "outputs": [],
   "source": []
  }
 ],
 "metadata": {
  "colab": {
   "provenance": []
  },
  "kernelspec": {
   "display_name": "Python 3 (ipykernel)",
   "language": "python",
   "name": "python3"
  },
  "language_info": {
   "codemirror_mode": {
    "name": "ipython",
    "version": 3
   },
   "file_extension": ".py",
   "mimetype": "text/x-python",
   "name": "python",
   "nbconvert_exporter": "python",
   "pygments_lexer": "ipython3",
   "version": "3.11.4"
  }
 },
 "nbformat": 4,
 "nbformat_minor": 5
}

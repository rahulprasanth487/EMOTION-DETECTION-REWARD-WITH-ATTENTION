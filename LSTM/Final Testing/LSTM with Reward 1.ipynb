{
 "cells": [
  {
   "cell_type": "code",
   "execution_count": 1,
   "id": "16022040-5157-4cf9-8068-c49426c8f799",
   "metadata": {},
   "outputs": [],
   "source": [
    "# !pip install mediapipe"
   ]
  },
  {
   "cell_type": "code",
   "execution_count": 1,
   "id": "1104ebbf-97a5-48b3-9233-17c9da023e05",
   "metadata": {},
   "outputs": [],
   "source": [
    "import cv2\n",
    "import numpy as np\n",
    "import os\n",
    "from matplotlib import pyplot as plt\n",
    "import time\n",
    "import mediapipe as mp"
   ]
  },
  {
   "cell_type": "markdown",
   "id": "d29bb235-f0a3-432a-b6fe-130fd2e57095",
   "metadata": {},
   "source": [
    "## KEYPOINT EXTRACTION"
   ]
  },
  {
   "cell_type": "code",
   "execution_count": 2,
   "id": "6e46526b-0577-4a30-9430-78b58cb2a81a",
   "metadata": {},
   "outputs": [
    {
     "data": {
      "text/plain": [
       "<module 'mediapipe' from 'H:\\\\PYTHON\\\\PYTHON SYSTEM FILES\\\\Lib\\\\site-packages\\\\mediapipe\\\\__init__.py'>"
      ]
     },
     "execution_count": 2,
     "metadata": {},
     "output_type": "execute_result"
    }
   ],
   "source": [
    "mp"
   ]
  },
  {
   "cell_type": "code",
   "execution_count": 3,
   "id": "9f2cbb71-6772-42f2-a018-c2c9c4e921d1",
   "metadata": {},
   "outputs": [],
   "source": [
    "mp_holistic = mp.solutions.holistic\n",
    "mp_drawing = mp.solutions.drawing_utils"
   ]
  },
  {
   "cell_type": "code",
   "execution_count": 4,
   "id": "73a21f6e-1bbf-4c24-86bc-3bb187173e9f",
   "metadata": {},
   "outputs": [
    {
     "data": {
      "text/plain": [
       "<module 'mediapipe.python.solutions.holistic' from 'H:\\\\PYTHON\\\\PYTHON SYSTEM FILES\\\\Lib\\\\site-packages\\\\mediapipe\\\\python\\\\solutions\\\\holistic.py'>"
      ]
     },
     "execution_count": 4,
     "metadata": {},
     "output_type": "execute_result"
    }
   ],
   "source": [
    "mp_holistic"
   ]
  },
  {
   "cell_type": "code",
   "execution_count": null,
   "id": "9e69f905-6924-4bd2-9816-c7bb0434f456",
   "metadata": {},
   "outputs": [],
   "source": []
  },
  {
   "cell_type": "code",
   "execution_count": 5,
   "id": "4ed74f7f-e394-4138-ba7a-b45e4b5bc91d",
   "metadata": {},
   "outputs": [],
   "source": [
    "def mediapipe_detection(image, model):\n",
    "    image = cv2.cvtColor(image, cv2.COLOR_BGR2RGB)\n",
    "    image.flags.writeable = False                  \n",
    "    results = model.process(image)                \n",
    "    image.flags.writeable = True                   \n",
    "    image = cv2.cvtColor(image, cv2.COLOR_RGB2BGR) \n",
    "    return image, results"
   ]
  },
  {
   "cell_type": "code",
   "execution_count": null,
   "id": "59fc2cad-075d-466b-bfbe-12d851becf58",
   "metadata": {},
   "outputs": [],
   "source": []
  },
  {
   "cell_type": "code",
   "execution_count": 6,
   "id": "e091b913-87f3-4511-bbcf-b52ca7fe2511",
   "metadata": {},
   "outputs": [],
   "source": [
    "def draw_landmarks(image, results):\n",
    "    mp_drawing.draw_landmarks(image, results.face_landmarks, mp_holistic.FACEMESH_CONTOURS) # face connections\n",
    "    mp_drawing.draw_landmarks(image, results.pose_landmarks, mp_holistic.POSE_CONNECTIONS) # pose connections\n",
    "    mp_drawing.draw_landmarks(image, results.left_hand_landmarks, mp_holistic.HAND_CONNECTIONS) # left hand connections\n",
    "    mp_drawing.draw_landmarks(image, results.right_hand_landmarks, mp_holistic.HAND_CONNECTIONS) # right hand connections"
   ]
  },
  {
   "cell_type": "code",
   "execution_count": null,
   "id": "c59a2614-3bdf-4de7-82e5-3702600b48ac",
   "metadata": {},
   "outputs": [],
   "source": []
  },
  {
   "cell_type": "code",
   "execution_count": 7,
   "id": "8e260e47-7896-4ae4-badf-108cc4c10476",
   "metadata": {},
   "outputs": [],
   "source": [
    "def draw_styled_landmarks(image, results):\n",
    "    mp_drawing.draw_landmarks(image, results.face_landmarks, mp_holistic.FACEMESH_CONTOURS, \n",
    "                             mp_drawing.DrawingSpec(color=(80,110,10), thickness=1, circle_radius=1), \n",
    "                             mp_drawing.DrawingSpec(color=(80,256,121), thickness=1, circle_radius=1)\n",
    "                             ) \n",
    "\n",
    "    \n",
    "    mp_drawing.draw_landmarks(image, results.pose_landmarks, mp_holistic.POSE_CONNECTIONS,\n",
    "                             mp_drawing.DrawingSpec(color=(80,22,10), thickness=2, circle_radius=4), \n",
    "                             mp_drawing.DrawingSpec(color=(80,44,121), thickness=2, circle_radius=2)\n",
    "                             ) \n",
    "   \n",
    "    mp_drawing.draw_landmarks(image, results.left_hand_landmarks, mp_holistic.HAND_CONNECTIONS, \n",
    "                             mp_drawing.DrawingSpec(color=(121,22,76), thickness=2, circle_radius=4), \n",
    "                             mp_drawing.DrawingSpec(color=(121,44,250), thickness=2, circle_radius=2)\n",
    "                             ) \n",
    "      \n",
    "    mp_drawing.draw_landmarks(image, results.right_hand_landmarks, mp_holistic.HAND_CONNECTIONS, \n",
    "                             mp_drawing.DrawingSpec(color=(245,117,66), thickness=2, circle_radius=4), \n",
    "                             mp_drawing.DrawingSpec(color=(245,66,230), thickness=2, circle_radius=2)\n",
    "                             ) "
   ]
  },
  {
   "cell_type": "code",
   "execution_count": null,
   "id": "fa8ab11f-c884-4ef9-9468-debb9fc4ad01",
   "metadata": {},
   "outputs": [],
   "source": []
  },
  {
   "cell_type": "code",
   "execution_count": 8,
   "id": "5699a1d4-0cee-4b96-879f-1ca7c91dffad",
   "metadata": {},
   "outputs": [],
   "source": [
    "def extract_keypoints(results):\n",
    "    pose = np.array([[res.x, res.y, res.z, res.visibility] for res in results.pose_landmarks.landmark]).flatten() if results.pose_landmarks else np.zeros(33*4)\n",
    "    face = np.array([[res.x, res.y, res.z] for res in results.face_landmarks.landmark]).flatten() if results.face_landmarks else np.zeros(468*3)\n",
    "    lh = np.array([[res.x, res.y, res.z] for res in results.left_hand_landmarks.landmark]).flatten() if results.left_hand_landmarks else np.zeros(21*3)\n",
    "    rh = np.array([[res.x, res.y, res.z] for res in results.right_hand_landmarks.landmark]).flatten() if results.right_hand_landmarks else np.zeros(21*3)\n",
    "    return np.concatenate([pose, face, lh, rh])\n"
   ]
  },
  {
   "cell_type": "code",
   "execution_count": null,
   "id": "07a6ed65-d8bc-45b1-99b0-d5da5ee4020f",
   "metadata": {},
   "outputs": [],
   "source": []
  },
  {
   "cell_type": "code",
   "execution_count": null,
   "id": "f5b86001-6bcc-4e27-9591-760e1f24b147",
   "metadata": {},
   "outputs": [],
   "source": []
  },
  {
   "cell_type": "markdown",
   "id": "eeb245fe-1e85-4547-90d2-c61e4659327d",
   "metadata": {},
   "source": [
    "## DATA ARRANGEMENT"
   ]
  },
  {
   "cell_type": "code",
   "execution_count": 9,
   "id": "aef46937-8cd0-4ecb-b6d3-c6369550cbab",
   "metadata": {
    "scrolled": true
   },
   "outputs": [],
   "source": [
    "# !pip install moviepy"
   ]
  },
  {
   "cell_type": "code",
   "execution_count": 10,
   "id": "aa455d51-26c2-4a87-9416-c84258448e9b",
   "metadata": {},
   "outputs": [],
   "source": [
    "DATA_PATH = os.path.join('data2') \n",
    "\n",
    "# Actions that we try to detect\n",
    "actions = np.array(['happy','sad','anger','surprise','fear','neutral'])\n",
    "actions.sort()\n",
    "\n",
    "# 62 videos\n",
    "no_sequences = 75\n",
    "\n",
    "# 30 frames\n",
    "sequence_length = 30\n",
    "\n",
    "#start new folder after 30 frames for data prep\n",
    "start_folder = 30"
   ]
  },
  {
   "cell_type": "code",
   "execution_count": null,
   "id": "44ac9f5c-2959-45e3-99e0-d1a7fefa424e",
   "metadata": {},
   "outputs": [],
   "source": []
  },
  {
   "cell_type": "markdown",
   "id": "dab4366e-8045-441f-94a0-096725f9e03a",
   "metadata": {},
   "source": [
    "## Preprocess Data and Create Labels and Features"
   ]
  },
  {
   "cell_type": "code",
   "execution_count": 11,
   "id": "f87cceb8-1987-45a8-9e42-5a90380dcb92",
   "metadata": {},
   "outputs": [],
   "source": [
    "from sklearn.model_selection import train_test_split\n",
    "from tensorflow.keras.utils import to_categorical"
   ]
  },
  {
   "cell_type": "code",
   "execution_count": 12,
   "id": "c912858f-9380-4af1-93a8-5b7233baad12",
   "metadata": {},
   "outputs": [],
   "source": [
    "label_map = {label:num for num, label in enumerate(actions)}"
   ]
  },
  {
   "cell_type": "code",
   "execution_count": 13,
   "id": "90137584-0c37-4769-9053-3ad94329cff9",
   "metadata": {},
   "outputs": [
    {
     "data": {
      "text/plain": [
       "{'anger': 0, 'fear': 1, 'happy': 2, 'neutral': 3, 'sad': 4, 'surprise': 5}"
      ]
     },
     "execution_count": 13,
     "metadata": {},
     "output_type": "execute_result"
    }
   ],
   "source": [
    "label_map"
   ]
  },
  {
   "cell_type": "code",
   "execution_count": 14,
   "id": "4dcbe868-6d6c-486d-900f-5e7632589a94",
   "metadata": {},
   "outputs": [
    {
     "data": {
      "text/plain": [
       "'data2'"
      ]
     },
     "execution_count": 14,
     "metadata": {},
     "output_type": "execute_result"
    }
   ],
   "source": [
    "DATA_PATH"
   ]
  },
  {
   "cell_type": "code",
   "execution_count": null,
   "id": "a20609a7-0bd9-4724-8455-e3f21242499d",
   "metadata": {},
   "outputs": [],
   "source": []
  },
  {
   "cell_type": "code",
   "execution_count": 15,
   "id": "3b2b4525-a446-45b3-8f3b-793ab4affa32",
   "metadata": {
    "scrolled": true
   },
   "outputs": [],
   "source": [
    "sequences, labels = [], []\n",
    "for action in actions:\n",
    "    for sequence in np.array(os.listdir(os.path.join(DATA_PATH, action))).astype(int):\n",
    "        window = []\n",
    "        for frame_num in range(sequence_length):\n",
    "            res = np.load(os.path.join(DATA_PATH, action, str(sequence), \"{}.npy\".format(frame_num)))\n",
    "            window.append(res)\n",
    "        sequences.append(window)\n",
    "        labels.append(label_map[action])"
   ]
  },
  {
   "cell_type": "code",
   "execution_count": 16,
   "id": "7d8c9858-4d42-498f-b382-307818fa361e",
   "metadata": {
    "scrolled": true
   },
   "outputs": [
    {
     "data": {
      "text/plain": [
       "(450, 30, 1662)"
      ]
     },
     "execution_count": 16,
     "metadata": {},
     "output_type": "execute_result"
    }
   ],
   "source": [
    "np.array(sequences).shape"
   ]
  },
  {
   "cell_type": "code",
   "execution_count": 17,
   "id": "ed91b784-556d-4bb9-b594-618e3ec906fe",
   "metadata": {},
   "outputs": [
    {
     "data": {
      "text/plain": [
       "(450,)"
      ]
     },
     "execution_count": 17,
     "metadata": {},
     "output_type": "execute_result"
    }
   ],
   "source": [
    "np.array(labels).shape"
   ]
  },
  {
   "cell_type": "code",
   "execution_count": 18,
   "id": "6f6ccc95-c320-41d7-b6e9-f325229949e5",
   "metadata": {},
   "outputs": [],
   "source": [
    "X = np.array(sequences)"
   ]
  },
  {
   "cell_type": "code",
   "execution_count": 19,
   "id": "39277fe4-5581-492b-b1ad-b2abe08d9271",
   "metadata": {},
   "outputs": [
    {
     "data": {
      "text/plain": [
       "(450, 30, 1662)"
      ]
     },
     "execution_count": 19,
     "metadata": {},
     "output_type": "execute_result"
    }
   ],
   "source": [
    "X.shape"
   ]
  },
  {
   "cell_type": "code",
   "execution_count": 20,
   "id": "a0cc01c6-2342-4548-b847-079bc83e5d48",
   "metadata": {},
   "outputs": [],
   "source": [
    "y = to_categorical(labels).astype(int)"
   ]
  },
  {
   "cell_type": "code",
   "execution_count": 21,
   "id": "1fff5284-6f73-4deb-a683-0bdae1be02fe",
   "metadata": {},
   "outputs": [
    {
     "data": {
      "text/plain": [
       "array([[1, 0, 0, 0, 0, 0],\n",
       "       [1, 0, 0, 0, 0, 0],\n",
       "       [1, 0, 0, 0, 0, 0],\n",
       "       ...,\n",
       "       [0, 0, 0, 0, 0, 1],\n",
       "       [0, 0, 0, 0, 0, 1],\n",
       "       [0, 0, 0, 0, 0, 1]])"
      ]
     },
     "execution_count": 21,
     "metadata": {},
     "output_type": "execute_result"
    }
   ],
   "source": [
    "y"
   ]
  },
  {
   "cell_type": "code",
   "execution_count": 26,
   "id": "9e18bcf7-4297-4f7e-9afd-fb01e14ea845",
   "metadata": {},
   "outputs": [],
   "source": [
    "X_train, X_test, y_train, y_test = train_test_split(X, y, test_size=0.08)"
   ]
  },
  {
   "cell_type": "code",
   "execution_count": 27,
   "id": "770fd454-8890-4e00-8d8e-1d1150cad978",
   "metadata": {},
   "outputs": [
    {
     "data": {
      "text/plain": [
       "(36, 6)"
      ]
     },
     "execution_count": 27,
     "metadata": {},
     "output_type": "execute_result"
    }
   ],
   "source": [
    "y_test.shape"
   ]
  },
  {
   "cell_type": "code",
   "execution_count": 28,
   "id": "9e1838ed-a33f-4975-812b-e8c9fb8278c5",
   "metadata": {},
   "outputs": [],
   "source": [
    "emotion_labels_train, emotion_labels_test=y_train, y_test"
   ]
  },
  {
   "cell_type": "code",
   "execution_count": null,
   "id": "b65bbbe9-8b76-4c11-ab63-994cb4b83ca5",
   "metadata": {},
   "outputs": [],
   "source": []
  },
  {
   "cell_type": "markdown",
   "id": "c16e1965-ed84-479e-8669-c08a14bc01f0",
   "metadata": {},
   "source": [
    "## Build Network"
   ]
  },
  {
   "cell_type": "code",
   "execution_count": 37,
   "id": "93bffeab-a281-4e82-84f9-eb4db2d579a5",
   "metadata": {},
   "outputs": [],
   "source": [
    "from tensorflow.keras.models import Model\n",
    "from tensorflow.keras.layers import LSTM, Dense,Input\n",
    "from tensorflow.keras.callbacks import TensorBoard"
   ]
  },
  {
   "cell_type": "code",
   "execution_count": 38,
   "id": "9780e573-179a-4ff3-9f98-1030df16c771",
   "metadata": {},
   "outputs": [],
   "source": [
    "log_dir = os.path.join('Logs')\n",
    "tb_callback = TensorBoard(log_dir=log_dir)"
   ]
  },
  {
   "cell_type": "code",
   "execution_count": 39,
   "id": "dd0b8cbb-f735-4a59-a663-154faf8e8462",
   "metadata": {},
   "outputs": [],
   "source": [
    "import tensorflow as tf"
   ]
  },
  {
   "cell_type": "code",
   "execution_count": 40,
   "id": "65b177ef-3669-429c-991e-8ed6132d9124",
   "metadata": {},
   "outputs": [],
   "source": [
    "class Attention(tf.keras.layers.Layer):\n",
    "    def __init__(self):\n",
    "        super(Attention, self).__init__()\n",
    "\n",
    "    def build(self, input_shape):\n",
    "        super(Attention, self).build(input_shape)\n",
    "\n",
    "    def call(self, q, k, v):\n",
    "        # Calculate attention scores using scalar dot product\n",
    "        attention_scores = tf.matmul(q, k, transpose_b=True)\n",
    "        attention_scores = tf.nn.softmax(attention_scores, axis=-1)\n",
    "        \n",
    "        output = tf.matmul(attention_scores, v)\n",
    "        return output, attention_scores"
   ]
  },
  {
   "cell_type": "code",
   "execution_count": null,
   "id": "d41940d7-873d-4eb3-9a10-a98344019408",
   "metadata": {},
   "outputs": [],
   "source": []
  },
  {
   "cell_type": "code",
   "execution_count": 41,
   "id": "8c67a197-c015-4e83-bd19-a604713b3b85",
   "metadata": {
    "scrolled": true
   },
   "outputs": [],
   "source": [
    "input_layer = Input(shape=(30, 1662))\n",
    "\n",
    "# LSTM layer\n",
    "lstm_layer = LSTM(64, return_sequences=True, activation='relu', return_state=True)\n",
    "output, state_h, state_c = lstm_layer(input_layer)\n",
    "\n",
    "# Attention layer\n",
    "attention_layer = Attention()  # You might need to adjust this based on your Attention layer implementation.\n",
    "output, attention_scores = attention_layer(output, output, output)\n",
    "\n",
    "# Continue with the rest of your model architecture using 'output'\n",
    "x = LSTM(128, return_sequences=True, activation='relu')(output)\n",
    "x = LSTM(64, return_sequences=False, activation='relu')(x)\n",
    "x = Dense(64, activation='relu')(x)\n",
    "x = Dense(32, activation='relu')(x)\n",
    "output_layer = Dense(actions.shape[0], activation='softmax')(x)\n",
    "\n",
    "# Build the model\n",
    "model = Model(inputs=input_layer, outputs=output_layer)\n",
    "model.compile(optimizer='Adam', loss='categorical_crossentropy', metrics=['accuracy'])"
   ]
  },
  {
   "cell_type": "code",
   "execution_count": 42,
   "id": "02fedd96-8b2f-412a-9741-2d80bf2f9ced",
   "metadata": {},
   "outputs": [],
   "source": [
    "# model.compile(optimizer='Adam', loss='categorical_crossentropy', metrics=['categorical_accuracy'])"
   ]
  },
  {
   "cell_type": "code",
   "execution_count": 43,
   "id": "bbc45604-bee4-4378-86b5-a7220feb3a56",
   "metadata": {},
   "outputs": [
    {
     "name": "stdout",
     "output_type": "stream",
     "text": [
      "Model: \"model_1\"\n",
      "__________________________________________________________________________________________________\n",
      " Layer (type)                Output Shape                 Param #   Connected to                  \n",
      "==================================================================================================\n",
      " input_2 (InputLayer)        [(None, 30, 1662)]           0         []                            \n",
      "                                                                                                  \n",
      " lstm_3 (LSTM)               [(None, 30, 64),             442112    ['input_2[0][0]']             \n",
      "                              (None, 64),                                                         \n",
      "                              (None, 64)]                                                         \n",
      "                                                                                                  \n",
      " attention_1 (Attention)     ((None, 30, 64),             0         ['lstm_3[0][0]',              \n",
      "                              (None, 30, 30))                        'lstm_3[0][0]',              \n",
      "                                                                     'lstm_3[0][0]']              \n",
      "                                                                                                  \n",
      " lstm_4 (LSTM)               (None, 30, 128)              98816     ['attention_1[0][0]']         \n",
      "                                                                                                  \n",
      " lstm_5 (LSTM)               (None, 64)                   49408     ['lstm_4[0][0]']              \n",
      "                                                                                                  \n",
      " dense_3 (Dense)             (None, 64)                   4160      ['lstm_5[0][0]']              \n",
      "                                                                                                  \n",
      " dense_4 (Dense)             (None, 32)                   2080      ['dense_3[0][0]']             \n",
      "                                                                                                  \n",
      " dense_5 (Dense)             (None, 6)                    198       ['dense_4[0][0]']             \n",
      "                                                                                                  \n",
      "==================================================================================================\n",
      "Total params: 596774 (2.28 MB)\n",
      "Trainable params: 596774 (2.28 MB)\n",
      "Non-trainable params: 0 (0.00 Byte)\n",
      "__________________________________________________________________________________________________\n"
     ]
    }
   ],
   "source": [
    "model.summary()"
   ]
  },
  {
   "cell_type": "code",
   "execution_count": 44,
   "id": "7d9ce928-ca89-450b-bdaa-20fa0ac850c0",
   "metadata": {},
   "outputs": [
    {
     "name": "stdout",
     "output_type": "stream",
     "text": [
      "Epoch 1/50\n",
      "13/13 [==============================] - 9s 135ms/step - loss: 9.8306 - accuracy: 0.1787\n",
      "Epoch 2/50\n",
      "13/13 [==============================] - 2s 135ms/step - loss: 26.6480 - accuracy: 0.1932\n",
      "Epoch 3/50\n",
      "13/13 [==============================] - 2s 155ms/step - loss: 23.7447 - accuracy: 0.1667\n",
      "Epoch 4/50\n",
      "13/13 [==============================] - 2s 136ms/step - loss: 15.9107 - accuracy: 0.1860\n",
      "Epoch 5/50\n",
      "13/13 [==============================] - 2s 152ms/step - loss: 19.3187 - accuracy: 0.1908\n",
      "Epoch 6/50\n",
      "13/13 [==============================] - 2s 128ms/step - loss: 19.7987 - accuracy: 0.1232\n",
      "Epoch 7/50\n",
      "13/13 [==============================] - 2s 130ms/step - loss: 9.7848 - accuracy: 0.1401\n",
      "Epoch 8/50\n",
      "13/13 [==============================] - 8s 668ms/step - loss: 4.2557 - accuracy: 0.2198\n",
      "Epoch 9/50\n",
      "13/13 [==============================] - 7s 517ms/step - loss: 2.8344 - accuracy: 0.2174\n",
      "Epoch 10/50\n",
      "13/13 [==============================] - 2s 131ms/step - loss: 3.0528 - accuracy: 0.1981\n",
      "Epoch 11/50\n",
      "13/13 [==============================] - 2s 146ms/step - loss: 2.5950 - accuracy: 0.1812\n",
      "Epoch 12/50\n",
      "13/13 [==============================] - 2s 132ms/step - loss: 1.9097 - accuracy: 0.2536\n",
      "Epoch 13/50\n",
      "13/13 [==============================] - 2s 136ms/step - loss: 2.0598 - accuracy: 0.2609\n",
      "Epoch 14/50\n",
      "13/13 [==============================] - 2s 152ms/step - loss: 2.0535 - accuracy: 0.2802\n",
      "Epoch 15/50\n",
      "13/13 [==============================] - 2s 143ms/step - loss: 1.8388 - accuracy: 0.2440\n",
      "Epoch 16/50\n",
      "13/13 [==============================] - 2s 123ms/step - loss: 1.9154 - accuracy: 0.2271\n",
      "Epoch 17/50\n",
      "13/13 [==============================] - 2s 131ms/step - loss: 1.9163 - accuracy: 0.1981\n",
      "Epoch 18/50\n",
      "13/13 [==============================] - 2s 131ms/step - loss: 1.7028 - accuracy: 0.2802\n",
      "Epoch 19/50\n",
      "13/13 [==============================] - 11s 861ms/step - loss: 1.6487 - accuracy: 0.3019\n",
      "Epoch 20/50\n",
      "13/13 [==============================] - 4s 290ms/step - loss: 1.7510 - accuracy: 0.2391\n",
      "Epoch 21/50\n",
      "13/13 [==============================] - 2s 159ms/step - loss: 1.6982 - accuracy: 0.2440\n",
      "Epoch 22/50\n",
      "13/13 [==============================] - 3s 237ms/step - loss: 1.6365 - accuracy: 0.2778\n",
      "Epoch 23/50\n",
      "13/13 [==============================] - 2s 169ms/step - loss: 1.6294 - accuracy: 0.2609\n",
      "Epoch 24/50\n",
      "13/13 [==============================] - 2s 130ms/step - loss: 1.6292 - accuracy: 0.3019\n",
      "Epoch 25/50\n",
      "13/13 [==============================] - 2s 168ms/step - loss: 1.5995 - accuracy: 0.2995\n",
      "Epoch 26/50\n",
      "13/13 [==============================] - 2s 167ms/step - loss: 1.5211 - accuracy: 0.3213\n",
      "Epoch 27/50\n",
      "13/13 [==============================] - 2s 165ms/step - loss: 1.4776 - accuracy: 0.3551\n",
      "Epoch 28/50\n",
      "13/13 [==============================] - 2s 151ms/step - loss: 1.4702 - accuracy: 0.3889\n",
      "Epoch 29/50\n",
      "13/13 [==============================] - 2s 155ms/step - loss: 1.3930 - accuracy: 0.3768\n",
      "Epoch 30/50\n",
      "13/13 [==============================] - 2s 139ms/step - loss: 1.3761 - accuracy: 0.3792\n",
      "Epoch 31/50\n",
      "13/13 [==============================] - 2s 138ms/step - loss: 1.3387 - accuracy: 0.3671\n",
      "Epoch 32/50\n",
      "13/13 [==============================] - 2s 149ms/step - loss: 1.2969 - accuracy: 0.4179\n",
      "Epoch 33/50\n",
      "13/13 [==============================] - 2s 137ms/step - loss: 1.2994 - accuracy: 0.4179\n",
      "Epoch 34/50\n",
      "13/13 [==============================] - 2s 134ms/step - loss: 1.2913 - accuracy: 0.4203\n",
      "Epoch 35/50\n",
      "13/13 [==============================] - 2s 130ms/step - loss: 1.2957 - accuracy: 0.4372\n",
      "Epoch 36/50\n",
      "13/13 [==============================] - 2s 140ms/step - loss: 1.2705 - accuracy: 0.4807\n",
      "Epoch 37/50\n",
      "13/13 [==============================] - 2s 166ms/step - loss: 1.2030 - accuracy: 0.4952\n",
      "Epoch 38/50\n",
      "13/13 [==============================] - 2s 128ms/step - loss: 1.3653 - accuracy: 0.4758\n",
      "Epoch 39/50\n",
      "13/13 [==============================] - 2s 135ms/step - loss: 1.1745 - accuracy: 0.5072\n",
      "Epoch 40/50\n",
      "13/13 [==============================] - 2s 131ms/step - loss: 1.1384 - accuracy: 0.5048\n",
      "Epoch 41/50\n",
      "13/13 [==============================] - 2s 134ms/step - loss: 1.1600 - accuracy: 0.5072\n",
      "Epoch 42/50\n",
      "13/13 [==============================] - 2s 135ms/step - loss: 1.1258 - accuracy: 0.5217\n",
      "Epoch 43/50\n",
      "13/13 [==============================] - 2s 145ms/step - loss: 1.1151 - accuracy: 0.4952\n",
      "Epoch 44/50\n",
      "13/13 [==============================] - 2s 151ms/step - loss: 1.0814 - accuracy: 0.5242\n",
      "Epoch 45/50\n",
      "13/13 [==============================] - 2s 141ms/step - loss: 1.1089 - accuracy: 0.4928\n",
      "Epoch 46/50\n",
      "13/13 [==============================] - 2s 146ms/step - loss: 1.1920 - accuracy: 0.4686\n",
      "Epoch 47/50\n",
      "13/13 [==============================] - 2s 138ms/step - loss: 1.0763 - accuracy: 0.5217\n",
      "Epoch 48/50\n",
      "13/13 [==============================] - 2s 153ms/step - loss: 1.0634 - accuracy: 0.5121\n",
      "Epoch 49/50\n",
      "13/13 [==============================] - 2s 149ms/step - loss: 1.0390 - accuracy: 0.5121\n",
      "Epoch 50/50\n",
      "13/13 [==============================] - 2s 136ms/step - loss: 1.0188 - accuracy: 0.5556\n"
     ]
    }
   ],
   "source": [
    "history = model.fit(X_train, y_train, epochs=50, callbacks=[tb_callback])"
   ]
  },
  {
   "cell_type": "code",
   "execution_count": 45,
   "id": "d31d898e-047e-4651-9460-17555228b977",
   "metadata": {},
   "outputs": [
    {
     "data": {
      "image/png": "[encoded data removed]",
      "text/plain": [
       "<Figure size 2000x1000 with 2 Axes>"
      ]
     },
     "metadata": {},
     "output_type": "display_data"
    }
   ],
   "source": [
    "plt.style.use('dark_background')\n",
    "\n",
    "# Plot loss and accuracy graphs\n",
    "plt.figure(figsize=(20, 10))\n",
    "\n",
    "# Plot training loss\n",
    "plt.subplot(1, 2, 1)\n",
    "plt.plot(history.history['loss'], label='Training Loss')\n",
    "plt.title('Training Loss')\n",
    "plt.xlabel('Epoch')\n",
    "plt.legend()\n",
    "\n",
    "# Plot training accuracy\n",
    "plt.subplot(1, 2, 2)\n",
    "plt.plot(history.history['accuracy'], label='Training Accuracy')\n",
    "plt.title('Training Accuracy')\n",
    "plt.xlabel('Epoch')\n",
    "plt.legend()\n",
    "\n",
    "plt.tight_layout()\n",
    "plt.show()"
   ]
  },
  {
   "cell_type": "code",
   "execution_count": 46,
   "id": "96545626-7ac1-489b-b949-999e11002c3b",
   "metadata": {
    "scrolled": true
   },
   "outputs": [
    {
     "data": {
      "text/plain": [
       "<KerasTensor: shape=(None, 30, 30) dtype=float32 (created by layer 'attention_1')>"
      ]
     },
     "execution_count": 46,
     "metadata": {},
     "output_type": "execute_result"
    }
   ],
   "source": [
    "attention_scores"
   ]
  },
  {
   "cell_type": "code",
   "execution_count": null,
   "id": "87f2c73d-e593-4a13-91c3-3b8cc25c25a2",
   "metadata": {},
   "outputs": [],
   "source": []
  },
  {
   "cell_type": "code",
   "execution_count": null,
   "id": "ffef59bd-3970-4a3a-be97-4c330fb0d292",
   "metadata": {},
   "outputs": [],
   "source": []
  },
  {
   "cell_type": "code",
   "execution_count": 49,
   "id": "498a7476-be17-46a5-906a-a4d85d383bd1",
   "metadata": {},
   "outputs": [
    {
     "name": "stdout",
     "output_type": "stream",
     "text": [
      "4/4 [==============================] - 0s 44ms/step\n",
      "0.5575221238938053\n"
     ]
    }
   ],
   "source": [
    "from sklearn.metrics import multilabel_confusion_matrix, accuracy_score\n",
    "_, test1, _, test1_label = train_test_split(X, y, test_size=0.25)\n",
    "yhat = model.predict(test1)\n",
    "ytrue = np.argmax(test1_label, axis=1).tolist()\n",
    "yhat = np.argmax(yhat, axis=1).tolist()\n",
    "print(accuracy_score(ytrue, yhat))"
   ]
  },
  {
   "cell_type": "code",
   "execution_count": null,
   "id": "8a23e087-65b8-4c42-9899-33588eaa1d9d",
   "metadata": {},
   "outputs": [],
   "source": []
  },
  {
   "attachments": {
    "cd4069e6-143a-4976-912b-54089497e3fd.png": {
     "image/png": "[encoded data removed]"
    }
   },
   "cell_type": "markdown",
   "id": "e58e872a-edee-4efe-8e78-795b6a90bd4d",
   "metadata": {},
   "source": [
    "![image.png](attachment:cd4069e6-143a-4976-912b-54089497e3fd.png)"
   ]
  },
  {
   "cell_type": "code",
   "execution_count": null,
   "id": "546b1a6c-c342-4650-baac-b921d6f70bb1",
   "metadata": {
    "scrolled": true
   },
   "outputs": [],
   "source": []
  },
  {
   "cell_type": "code",
   "execution_count": 50,
   "id": "61f5db5b-b7de-4c72-9677-3890333bb97b",
   "metadata": {},
   "outputs": [
    {
     "data": {
      "text/plain": [
       "((414, 30, 1662), 414)"
      ]
     },
     "execution_count": 50,
     "metadata": {},
     "output_type": "execute_result"
    }
   ],
   "source": [
    "X_train.shape,y_train.shape[0]"
   ]
  },
  {
   "cell_type": "code",
   "execution_count": 51,
   "id": "7692a362-c271-4e4f-a3f1-2c706d77e403",
   "metadata": {
    "scrolled": true
   },
   "outputs": [
    {
     "data": {
      "text/plain": [
       "<keras.src.engine.functional.Functional at 0x1c654a5e290>"
      ]
     },
     "execution_count": 51,
     "metadata": {},
     "output_type": "execute_result"
    }
   ],
   "source": [
    "model"
   ]
  },
  {
   "cell_type": "code",
   "execution_count": 52,
   "id": "94dd774f-b1f6-40b7-a89d-fd173f8d1d23",
   "metadata": {
    "scrolled": true
   },
   "outputs": [
    {
     "name": "stdout",
     "output_type": "stream",
     "text": [
      "0 tf.Tensor([[0.2918774  0.00110781 0.137156   0.16274492 0.00317149 0.40394235]], shape=(1, 6), dtype=float32)\n",
      "1 tf.Tensor([[0.17091963 0.06672319 0.20381032 0.24276267 0.05829655 0.25748762]], shape=(1, 6), dtype=float32)\n",
      "2 tf.Tensor([[0.00288642 0.39918095 0.0031099  0.01939351 0.574412   0.00101725]], shape=(1, 6), dtype=float32)\n",
      "3 tf.Tensor([[0.02523608 0.5619711  0.07787476 0.10827637 0.22237293 0.00426875]], shape=(1, 6), dtype=float32)\n",
      "4 tf.Tensor([[0.01609522 0.33505356 0.01880777 0.05847699 0.5657534  0.00581308]], shape=(1, 6), dtype=float32)\n",
      "5 tf.Tensor(\n",
      "[[6.3672243e-04 6.8675518e-01 1.4616374e-04 2.1312632e-02 2.9088399e-01\n",
      "  2.6532312e-04]], shape=(1, 6), dtype=float32)\n",
      "6 tf.Tensor([[0.10735586 0.09295834 0.1233118  0.33898208 0.1061469  0.23124506]], shape=(1, 6), dtype=float32)\n",
      "7 tf.Tensor(\n",
      "[[2.2207803e-07 4.7076720e-01 1.0535610e-07 9.1259723e-04 5.2831966e-01\n",
      "  2.3716295e-07]], shape=(1, 6), dtype=float32)\n",
      "8 tf.Tensor([[0.05818174 0.04659942 0.58487606 0.25117788 0.00774161 0.05142331]], shape=(1, 6), dtype=float32)\n",
      "9 tf.Tensor([[0.3602654  0.00054565 0.03884747 0.07989395 0.00531858 0.51512897]], shape=(1, 6), dtype=float32)\n",
      "10 tf.Tensor([[0.1311209  0.30875614 0.07871154 0.23653726 0.13586207 0.10901206]], shape=(1, 6), dtype=float32)\n",
      "11 tf.Tensor([[0.00922409 0.26574984 0.00312743 0.01564003 0.69843656 0.00782202]], shape=(1, 6), dtype=float32)\n",
      "12 tf.Tensor([[0.11900494 0.1068369  0.12969725 0.30308774 0.11832596 0.22304717]], shape=(1, 6), dtype=float32)\n",
      "13 tf.Tensor(\n",
      "[[3.9998465e-03 3.3618223e-02 1.4925736e-03 8.4008771e-04 9.5964324e-01\n",
      "  4.0598272e-04]], shape=(1, 6), dtype=float32)\n",
      "14 tf.Tensor([[0.08358717 0.02588319 0.13729407 0.4340339  0.0271251  0.2920766 ]], shape=(1, 6), dtype=float32)\n",
      "15 tf.Tensor(\n",
      "[[1.6734553e-04 4.0952703e-01 7.6831631e-05 2.6291283e-03 5.8759952e-01\n",
      "  1.9013987e-07]], shape=(1, 6), dtype=float32)\n",
      "16 tf.Tensor([[0.04863143 0.04844231 0.19255592 0.5752331  0.03296071 0.1021766 ]], shape=(1, 6), dtype=float32)\n",
      "17 tf.Tensor(\n",
      "[[2.4320295e-01 3.4230485e-04 2.4470087e-02 1.2646954e-01 5.0414740e-03\n",
      "  6.0047364e-01]], shape=(1, 6), dtype=float32)\n",
      "18 tf.Tensor([[0.11592671 0.01104834 0.26975927 0.21574402 0.0091396  0.3783821 ]], shape=(1, 6), dtype=float32)\n",
      "19 tf.Tensor(\n",
      "[[9.1982400e-01 6.9885451e-04 7.6906629e-02 2.0200398e-05 2.3616331e-03\n",
      "  1.8863483e-04]], shape=(1, 6), dtype=float32)\n",
      "20 tf.Tensor([[0.03176313 0.00287093 0.07934228 0.6981229  0.01072665 0.17717405]], shape=(1, 6), dtype=float32)\n",
      "21 tf.Tensor([[0.3435674  0.02201807 0.5917974  0.01082917 0.00520364 0.02658433]], shape=(1, 6), dtype=float32)\n",
      "22 tf.Tensor(\n",
      "[[2.5022885e-01 3.7532658e-04 2.3942614e-02 1.1996876e-01 5.5217198e-03\n",
      "  5.9996271e-01]], shape=(1, 6), dtype=float32)\n",
      "23 tf.Tensor([[0.05493806 0.07983296 0.26772463 0.48244834 0.03828644 0.07676954]], shape=(1, 6), dtype=float32)\n",
      "24 tf.Tensor([[0.5816896  0.02827331 0.29923978 0.00390062 0.08490939 0.00198727]], shape=(1, 6), dtype=float32)\n",
      "25 tf.Tensor(\n",
      "[[2.3665199e-07 9.0139413e-01 2.3482187e-08 1.8030830e-03 9.6802630e-02\n",
      "  3.7804870e-09]], shape=(1, 6), dtype=float32)\n",
      "26 tf.Tensor([[0.11160463 0.03933205 0.72505224 0.07686758 0.00531739 0.04182606]], shape=(1, 6), dtype=float32)\n",
      "27 tf.Tensor([[0.03419695 0.4378612  0.22248617 0.17284706 0.11971381 0.0128948 ]], shape=(1, 6), dtype=float32)\n",
      "28 tf.Tensor(\n",
      "[[7.0805190e-06 6.3958722e-01 3.4021529e-08 4.6631511e-02 3.1377420e-01\n",
      "  2.3361033e-10]], shape=(1, 6), dtype=float32)\n",
      "29 tf.Tensor([[0.0142223  0.27442408 0.00620907 0.02882317 0.6643775  0.01194381]], shape=(1, 6), dtype=float32)\n",
      "30 tf.Tensor([[0.12254865 0.2517784  0.14547135 0.12989436 0.31440347 0.03590367]], shape=(1, 6), dtype=float32)\n",
      "31 tf.Tensor(\n",
      "[[3.8756731e-09 9.1168588e-01 2.4006411e-10 3.2553260e-04 8.7988578e-02\n",
      "  9.0148965e-11]], shape=(1, 6), dtype=float32)\n",
      "32 tf.Tensor([[0.33433196 0.01902372 0.6097579  0.00862208 0.00403415 0.02423024]], shape=(1, 6), dtype=float32)\n",
      "33 tf.Tensor([[0.09055001 0.24610618 0.14768636 0.11114369 0.33612326 0.06839044]], shape=(1, 6), dtype=float32)\n",
      "34 tf.Tensor([[0.02147967 0.4503287  0.06929451 0.14516562 0.30425268 0.00947886]], shape=(1, 6), dtype=float32)\n",
      "35 tf.Tensor([[0.32134652 0.02223958 0.6179001  0.00966028 0.00464561 0.02420798]], shape=(1, 6), dtype=float32)\n",
      "36 tf.Tensor(\n",
      "[[8.7819444e-07 5.6672823e-01 1.3937741e-08 5.2650683e-03 4.2800531e-01\n",
      "  4.8954922e-07]], shape=(1, 6), dtype=float32)\n",
      "37 tf.Tensor([[0.19314869 0.00769633 0.08348979 0.28689268 0.02789941 0.40087318]], shape=(1, 6), dtype=float32)\n",
      "38 tf.Tensor([[0.07361968 0.06453364 0.6462243  0.16240454 0.00919493 0.04402287]], shape=(1, 6), dtype=float32)\n",
      "39 tf.Tensor([[0.37547037 0.08579018 0.21836267 0.00378368 0.3143952  0.00219789]], shape=(1, 6), dtype=float32)\n",
      "40 tf.Tensor([[0.01217443 0.42882463 0.01465869 0.03771557 0.45847544 0.04815114]], shape=(1, 6), dtype=float32)\n",
      "41 tf.Tensor([[0.02293991 0.00300877 0.05408505 0.7951119  0.01008247 0.11477185]], shape=(1, 6), dtype=float32)\n",
      "42 tf.Tensor([[0.00730587 0.19771555 0.00221765 0.00493482 0.78539723 0.00242886]], shape=(1, 6), dtype=float32)\n",
      "43 tf.Tensor([[0.04945825 0.1323352  0.64174396 0.14330429 0.01413721 0.01902103]], shape=(1, 6), dtype=float32)\n",
      "44 tf.Tensor([[0.0968718  0.34240153 0.47284025 0.0302264  0.04937509 0.00828497]], shape=(1, 6), dtype=float32)\n",
      "45 tf.Tensor([[0.1233316  0.11220742 0.13183239 0.29015666 0.12288176 0.21959023]], shape=(1, 6), dtype=float32)\n",
      "46 tf.Tensor([[0.10736079 0.08422396 0.1254291  0.40169427 0.14627573 0.1350161 ]], shape=(1, 6), dtype=float32)\n",
      "47 tf.Tensor([[0.2395534  0.00309104 0.06400845 0.22136015 0.01765423 0.45433274]], shape=(1, 6), dtype=float32)\n",
      "48 tf.Tensor(\n",
      "[[8.7825233e-01 1.0538556e-02 9.6104093e-02 4.3820203e-04 1.4390477e-02\n",
      "  2.7638240e-04]], shape=(1, 6), dtype=float32)\n",
      "49 tf.Tensor([[0.0522164  0.07829028 0.6941252  0.14362428 0.00817022 0.02357369]], shape=(1, 6), dtype=float32)\n",
      "50 tf.Tensor([[0.11829193 0.1059635  0.12933297 0.30523875 0.11757693 0.22359583]], shape=(1, 6), dtype=float32)\n",
      "51 tf.Tensor([[0.11116341 0.097405   0.12550025 0.32706934 0.11011413 0.22874776]], shape=(1, 6), dtype=float32)\n",
      "52 tf.Tensor([[0.0526108  0.04552215 0.76489526 0.11014497 0.0040137  0.02281307]], shape=(1, 6), dtype=float32)\n",
      "53 tf.Tensor([[0.05914486 0.00108763 0.05480221 0.16594566 0.01773108 0.7012885 ]], shape=(1, 6), dtype=float32)\n",
      "54 tf.Tensor([[0.08346867 0.25240418 0.1037056  0.18206704 0.32412252 0.05423201]], shape=(1, 6), dtype=float32)\n",
      "55 tf.Tensor([[0.35256353 0.03412082 0.47504425 0.00238873 0.00362984 0.1322528 ]], shape=(1, 6), dtype=float32)\n",
      "56 tf.Tensor([[0.06058055 0.225657   0.13451873 0.08678007 0.40657687 0.08588676]], shape=(1, 6), dtype=float32)\n",
      "57 tf.Tensor([[0.02192059 0.09099675 0.02404522 0.00885744 0.8531534  0.00102664]], shape=(1, 6), dtype=float32)\n",
      "58 tf.Tensor([[0.27658284 0.00110139 0.04451941 0.14564088 0.00920625 0.52294916]], shape=(1, 6), dtype=float32)\n",
      "59 tf.Tensor([[0.12095773 0.08273163 0.1423437  0.3217375  0.08824118 0.24398834]], shape=(1, 6), dtype=float32)\n",
      "60 tf.Tensor(\n",
      "[[8.7819444e-07 5.6672823e-01 1.3937741e-08 5.2650683e-03 4.2800531e-01\n",
      "  4.8954922e-07]], shape=(1, 6), dtype=float32)\n",
      "61 tf.Tensor([[0.04945825 0.1323352  0.64174396 0.14330429 0.01413721 0.01902103]], shape=(1, 6), dtype=float32)\n",
      "62 tf.Tensor([[0.06193259 0.01625826 0.6434391  0.21005508 0.00245709 0.0658578 ]], shape=(1, 6), dtype=float32)\n",
      "63 tf.Tensor(\n",
      "[[4.7318341e-08 5.1614577e-01 2.1955097e-08 5.1364611e-04 4.8334050e-01\n",
      "  8.8592358e-08]], shape=(1, 6), dtype=float32)\n",
      "64 tf.Tensor([[0.04885117 0.00188687 0.18919188 0.5604283  0.00165398 0.19798774]], shape=(1, 6), dtype=float32)\n",
      "65 tf.Tensor([[0.08346867 0.25240418 0.1037056  0.18206704 0.32412252 0.05423201]], shape=(1, 6), dtype=float32)\n",
      "66 tf.Tensor(\n",
      "[[9.0385133e-01 1.9427193e-03 8.9403704e-02 3.1782372e-05 4.6793623e-03\n",
      "  9.1207374e-05]], shape=(1, 6), dtype=float32)\n",
      "67 tf.Tensor([[0.04464273 0.292664   0.28601912 0.2649517  0.08703622 0.0246862 ]], shape=(1, 6), dtype=float32)\n",
      "68 tf.Tensor([[0.04519741 0.21038732 0.14613594 0.3968607  0.15707631 0.04434224]], shape=(1, 6), dtype=float32)\n",
      "69 tf.Tensor([[0.05893694 0.04498695 0.64592606 0.20124303 0.0063571  0.04254995]], shape=(1, 6), dtype=float32)\n",
      "70 tf.Tensor(\n",
      "[[3.3624976e-05 6.6064012e-01 4.6440646e-06 4.2195488e-03 3.3509758e-01\n",
      "  4.4462345e-06]], shape=(1, 6), dtype=float32)\n",
      "71 tf.Tensor([[0.09825791 0.48356226 0.04033972 0.20755197 0.10893924 0.06134893]], shape=(1, 6), dtype=float32)\n",
      "72 tf.Tensor(\n",
      "[[8.18821609e-01 2.42726947e-03 1.64589465e-01 1.17845375e-05\n",
      "  1.41433682e-02 6.58088720e-06]], shape=(1, 6), dtype=float32)\n",
      "73 tf.Tensor([[0.12305426 0.11185949 0.13169943 0.29097936 0.12258919 0.21981831]], shape=(1, 6), dtype=float32)\n",
      "74 tf.Tensor([[0.03748996 0.3723351  0.18080252 0.0635117  0.31444457 0.03141616]], shape=(1, 6), dtype=float32)\n",
      "75 tf.Tensor(\n",
      "[[7.0805190e-06 6.3958722e-01 3.4021529e-08 4.6631511e-02 3.1377420e-01\n",
      "  2.3361033e-10]], shape=(1, 6), dtype=float32)\n",
      "76 tf.Tensor([[0.11206719 0.01842102 0.11420779 0.4415117  0.0364431  0.27734923]], shape=(1, 6), dtype=float32)\n",
      "77 tf.Tensor([[0.351738   0.00081864 0.04507742 0.097854   0.00719652 0.49731535]], shape=(1, 6), dtype=float32)\n",
      "78 tf.Tensor([[0.3435674  0.02201807 0.5917974  0.01082917 0.00520364 0.02658433]], shape=(1, 6), dtype=float32)\n",
      "79 tf.Tensor([[0.15718114 0.01278806 0.09316074 0.3437352  0.03557609 0.35755873]], shape=(1, 6), dtype=float32)\n",
      "80 tf.Tensor(\n",
      "[[2.8915167e-05 8.8716245e-01 5.1884035e-06 1.6254768e-02 9.6546233e-02\n",
      "  2.4399001e-06]], shape=(1, 6), dtype=float32)\n",
      "81 tf.Tensor([[0.11900494 0.1068369  0.12969725 0.30308774 0.11832596 0.22304717]], shape=(1, 6), dtype=float32)\n",
      "82 tf.Tensor([[0.09173883 0.00635132 0.2918286  0.1521808  0.00564307 0.45225742]], shape=(1, 6), dtype=float32)\n",
      "83 tf.Tensor([[0.04896063 0.03978134 0.1666975  0.59665054 0.03269341 0.11521657]], shape=(1, 6), dtype=float32)\n",
      "84 tf.Tensor(\n",
      "[[8.4103334e-01 3.3129011e-03 1.5295720e-01 1.0092361e-04 2.0309621e-03\n",
      "  5.6468928e-04]], shape=(1, 6), dtype=float32)\n",
      "85 tf.Tensor([[0.00316853 0.12661521 0.00088498 0.00204434 0.8658007  0.00148629]], shape=(1, 6), dtype=float32)\n",
      "86 tf.Tensor([[0.35806906 0.02082526 0.57462704 0.01187895 0.00536137 0.02923828]], shape=(1, 6), dtype=float32)\n",
      "87 tf.Tensor([[0.30909196 0.00072348 0.09556609 0.14231198 0.00316218 0.4491443 ]], shape=(1, 6), dtype=float32)\n",
      "88 tf.Tensor([[0.13932553 0.00252815 0.20953263 0.33432695 0.00320413 0.31108263]], shape=(1, 6), dtype=float32)\n",
      "89 tf.Tensor([[0.09849688 0.05502988 0.13216943 0.39035615 0.06073887 0.26320875]], shape=(1, 6), dtype=float32)\n",
      "90 tf.Tensor([[0.13112922 0.1922223  0.1652805  0.20719238 0.20880087 0.0953747 ]], shape=(1, 6), dtype=float32)\n",
      "91 tf.Tensor([[0.10031178 0.0070647  0.38206035 0.3352085  0.00337751 0.17197724]], shape=(1, 6), dtype=float32)\n",
      "92 tf.Tensor([[0.15983802 0.01282804 0.10695077 0.35998204 0.03429165 0.32610953]], shape=(1, 6), dtype=float32)\n",
      "93 tf.Tensor([[0.04623952 0.24752149 0.42294487 0.21646357 0.04549724 0.02133342]], shape=(1, 6), dtype=float32)\n",
      "94 tf.Tensor([[0.08223581 0.04860969 0.11541638 0.43620196 0.05690543 0.2606307 ]], shape=(1, 6), dtype=float32)\n",
      "95 tf.Tensor([[0.23785259 0.20156217 0.23733237 0.08120075 0.20587932 0.0361728 ]], shape=(1, 6), dtype=float32)\n",
      "96 tf.Tensor([[0.10025815 0.1631212  0.1496789  0.22622208 0.21628898 0.14443073]], shape=(1, 6), dtype=float32)\n",
      "97 tf.Tensor([[0.03748996 0.3723351  0.18080252 0.0635117  0.31444457 0.03141616]], shape=(1, 6), dtype=float32)\n",
      "98 tf.Tensor(\n",
      "[[4.3143699e-01 1.9514588e-05 6.1782636e-03 2.2626797e-02 1.3122595e-03\n",
      "  5.3842622e-01]], shape=(1, 6), dtype=float32)\n",
      "99 tf.Tensor([[0.17330782 0.03593829 0.24063164 0.23786318 0.02810521 0.28415385]], shape=(1, 6), dtype=float32)\n",
      "100 tf.Tensor([[0.12255686 0.00308326 0.05364017 0.42099783 0.0178411  0.38188085]], shape=(1, 6), dtype=float32)\n",
      "101 tf.Tensor([[0.16296534 0.06679935 0.19586845 0.2556416  0.05983822 0.25888708]], shape=(1, 6), dtype=float32)\n",
      "102 tf.Tensor(\n",
      "[[2.3665199e-07 9.0139413e-01 2.3482187e-08 1.8030830e-03 9.6802630e-02\n",
      "  3.7804870e-09]], shape=(1, 6), dtype=float32)\n",
      "103 tf.Tensor([[0.10471958 0.08992845 0.12173915 0.34733835 0.10340756 0.23286694]], shape=(1, 6), dtype=float32)\n",
      "104 tf.Tensor([[0.0968718  0.34240153 0.47284025 0.0302264  0.04937509 0.00828497]], shape=(1, 6), dtype=float32)\n",
      "105 tf.Tensor([[0.06190375 0.02817494 0.3290549  0.46120954 0.0119629  0.10769405]], shape=(1, 6), dtype=float32)\n",
      "106 tf.Tensor([[0.00825417 0.22868097 0.01416448 0.20350066 0.54114383 0.00425586]], shape=(1, 6), dtype=float32)\n",
      "107 tf.Tensor([[0.02174046 0.5472352  0.02383623 0.00164196 0.392564   0.01298217]], shape=(1, 6), dtype=float32)\n",
      "108 tf.Tensor([[0.24072279 0.10026169 0.25436923 0.14756723 0.07562723 0.18145184]], shape=(1, 6), dtype=float32)\n",
      "109 tf.Tensor([[0.11972265 0.10771935 0.13006037 0.30092832 0.11908045 0.22248884]], shape=(1, 6), dtype=float32)\n",
      "110 tf.Tensor(\n",
      "[[9.2333859e-01 9.1103958e-03 3.6336035e-02 4.7621925e-04 3.0608770e-02\n",
      "  1.2999211e-04]], shape=(1, 6), dtype=float32)\n",
      "111 tf.Tensor(\n",
      "[[1.0548785e-07 4.6833447e-01 5.1987623e-08 7.1786117e-04 5.3094739e-01\n",
      "  1.3413278e-07]], shape=(1, 6), dtype=float32)\n",
      "112 tf.Tensor(\n",
      "[[2.1484232e-04 2.6385209e-01 3.9396104e-03 5.5609815e-02 6.7580587e-01\n",
      "  5.7780347e-04]], shape=(1, 6), dtype=float32)\n",
      "113 tf.Tensor(\n",
      "[[8.7825233e-01 1.0538556e-02 9.6104093e-02 4.3820203e-04 1.4390477e-02\n",
      "  2.7638240e-04]], shape=(1, 6), dtype=float32)\n",
      "114 tf.Tensor(\n",
      "[[9.4271815e-01 5.6768497e-03 3.4686003e-02 2.5177008e-04 1.6564716e-02\n",
      "  1.0245440e-04]], shape=(1, 6), dtype=float32)\n",
      "115 tf.Tensor([[0.10395902 0.2125092  0.23999578 0.16904372 0.18204103 0.09245124]], shape=(1, 6), dtype=float32)\n",
      "116 tf.Tensor([[0.05229912 0.08013016 0.6818506  0.1523313  0.00868002 0.02470879]], shape=(1, 6), dtype=float32)\n",
      "117 tf.Tensor([[0.09390504 0.00504223 0.02570663 0.3671519  0.05165138 0.45654282]], shape=(1, 6), dtype=float32)\n",
      "118 tf.Tensor([[0.06082717 0.04211449 0.11247348 0.58455974 0.06441558 0.13560955]], shape=(1, 6), dtype=float32)\n",
      "119 tf.Tensor([[0.16162083 0.16616721 0.14462891 0.18374108 0.16411349 0.17972848]], shape=(1, 6), dtype=float32)\n",
      "120 tf.Tensor([[0.02654416 0.29858395 0.0322421  0.11596845 0.5125113  0.01414999]], shape=(1, 6), dtype=float32)\n",
      "121 tf.Tensor([[0.11972265 0.10771935 0.13006037 0.30092832 0.11908045 0.22248884]], shape=(1, 6), dtype=float32)\n",
      "122 tf.Tensor(\n",
      "[[3.3682179e-01 1.2381838e-03 6.4100492e-01 1.5597624e-03 1.4692056e-04\n",
      "  1.9228326e-02]], shape=(1, 6), dtype=float32)\n",
      "123 tf.Tensor([[0.0777486  0.00665213 0.02591755 0.41331872 0.0594275  0.4169355 ]], shape=(1, 6), dtype=float32)\n",
      "124 tf.Tensor([[0.04292835 0.31801268 0.4766174  0.11319346 0.03844826 0.01079991]], shape=(1, 6), dtype=float32)\n",
      "125 tf.Tensor([[0.32086715 0.00581204 0.650822   0.00330727 0.00080495 0.01838662]], shape=(1, 6), dtype=float32)\n",
      "126 tf.Tensor([[0.00730587 0.19771555 0.00221765 0.00493482 0.78539723 0.00242886]], shape=(1, 6), dtype=float32)\n",
      "127 tf.Tensor([[0.07453386 0.23283017 0.09830325 0.17882574 0.33545694 0.08005003]], shape=(1, 6), dtype=float32)\n",
      "128 tf.Tensor([[0.07488597 0.4124492  0.05469142 0.1910514  0.20540798 0.06151405]], shape=(1, 6), dtype=float32)\n",
      "129 tf.Tensor([[0.00800056 0.0525614  0.00172773 0.00124935 0.9352233  0.00123763]], shape=(1, 6), dtype=float32)\n",
      "130 tf.Tensor(\n",
      "[[1.8961075e-01 6.6291878e-04 5.0252449e-02 7.5052463e-02 8.8221114e-03\n",
      "  6.7559928e-01]], shape=(1, 6), dtype=float32)\n",
      "131 tf.Tensor(\n",
      "[[1.5616642e-04 4.6292061e-01 4.1627165e-05 4.1779708e-03 5.3266186e-01\n",
      "  4.1797983e-05]], shape=(1, 6), dtype=float32)\n",
      "132 tf.Tensor([[0.01354915 0.78053254 0.10294862 0.08371686 0.00189561 0.01735723]], shape=(1, 6), dtype=float32)\n",
      "133 tf.Tensor([[0.10737551 0.00305982 0.06728616 0.45490873 0.01286618 0.35450357]], shape=(1, 6), dtype=float32)\n",
      "134 tf.Tensor([[0.3117413  0.00078256 0.03969475 0.10727866 0.00717885 0.5333238 ]], shape=(1, 6), dtype=float32)\n",
      "135 tf.Tensor([[0.11529543 0.08284824 0.1377935  0.33563286 0.09027034 0.23815967]], shape=(1, 6), dtype=float32)\n",
      "136 tf.Tensor([[0.09369827 0.00604839 0.29293635 0.16469143 0.00520175 0.4374238 ]], shape=(1, 6), dtype=float32)\n",
      "137 tf.Tensor([[0.05333671 0.22055492 0.13493808 0.07172056 0.43261293 0.08683679]], shape=(1, 6), dtype=float32)\n",
      "138 tf.Tensor([[0.00824159 0.5962209  0.0275872  0.03567056 0.33072838 0.00155134]], shape=(1, 6), dtype=float32)\n",
      "139 tf.Tensor([[0.05333671 0.22055492 0.13493808 0.07172056 0.43261293 0.08683679]], shape=(1, 6), dtype=float32)\n",
      "140 tf.Tensor([[0.06591141 0.19488236 0.0941587  0.30560243 0.27444768 0.06499747]], shape=(1, 6), dtype=float32)\n",
      "141 tf.Tensor([[0.19264798 0.03767663 0.7261412  0.01733396 0.00494877 0.02125146]], shape=(1, 6), dtype=float32)\n",
      "142 tf.Tensor([[0.18870099 0.00235574 0.02964496 0.22524768 0.02349479 0.5305558 ]], shape=(1, 6), dtype=float32)\n",
      "143 tf.Tensor([[0.05281461 0.0885257  0.71060306 0.12003701 0.00860674 0.0194129 ]], shape=(1, 6), dtype=float32)\n",
      "144 tf.Tensor([[0.1518923  0.04519976 0.7437388  0.02903206 0.00554333 0.0245937 ]], shape=(1, 6), dtype=float32)\n",
      "145 tf.Tensor([[0.09747849 0.05320743 0.0993361  0.00757468 0.74028736 0.00211591]], shape=(1, 6), dtype=float32)\n",
      "146 tf.Tensor([[0.17486252 0.04105908 0.23459244 0.23732767 0.03272311 0.2794352 ]], shape=(1, 6), dtype=float32)\n",
      "147 tf.Tensor([[0.16688053 0.08339493 0.18819517 0.24214663 0.07615317 0.24322961]], shape=(1, 6), dtype=float32)\n",
      "148 tf.Tensor([[0.16650224 0.13414788 0.17190412 0.21613713 0.12851478 0.18279381]], shape=(1, 6), dtype=float32)\n",
      "149 tf.Tensor(\n",
      "[[8.5883224e-01 2.9618337e-03 1.2952237e-01 2.3877628e-05 8.6360648e-03\n",
      "  2.3659726e-05]], shape=(1, 6), dtype=float32)\n",
      "150 tf.Tensor([[0.03095457 0.57497746 0.24551739 0.05609574 0.08800769 0.00444721]], shape=(1, 6), dtype=float32)\n",
      "151 tf.Tensor([[0.09173883 0.00635132 0.2918286  0.1521808  0.00564307 0.45225742]], shape=(1, 6), dtype=float32)\n",
      "152 tf.Tensor([[0.10737551 0.00305982 0.06728616 0.45490873 0.01286618 0.35450357]], shape=(1, 6), dtype=float32)\n",
      "153 tf.Tensor([[0.04419549 0.00225947 0.18632612 0.57778996 0.00184681 0.1875822 ]], shape=(1, 6), dtype=float32)\n",
      "154 tf.Tensor([[0.06545825 0.02833499 0.43898803 0.35545757 0.00771567 0.10404548]], shape=(1, 6), dtype=float32)\n",
      "155 tf.Tensor([[0.16545908 0.10630192 0.18426634 0.2400117  0.1000347  0.20392624]], shape=(1, 6), dtype=float32)\n",
      "156 tf.Tensor([[0.5956245  0.00627392 0.33987167 0.0006726  0.00228734 0.05526991]], shape=(1, 6), dtype=float32)\n",
      "157 tf.Tensor([[0.07633016 0.21937814 0.25490913 0.28516942 0.10219722 0.06201594]], shape=(1, 6), dtype=float32)\n",
      "158 tf.Tensor([[0.08358717 0.02588319 0.13729407 0.4340339  0.0271251  0.2920766 ]], shape=(1, 6), dtype=float32)\n",
      "159 tf.Tensor(\n",
      "[[3.1417786e-09 6.9808394e-01 4.5337095e-15 2.4616449e-05 3.0189145e-01\n",
      "  3.7551215e-16]], shape=(1, 6), dtype=float32)\n",
      "160 tf.Tensor(\n",
      "[[4.8519500e-08 4.8312405e-01 4.4523148e-08 1.0734886e-03 5.1580209e-01\n",
      "  2.6164764e-07]], shape=(1, 6), dtype=float32)\n",
      "161 tf.Tensor([[0.53834516 0.02460005 0.3808078  0.0071414  0.01946757 0.02963803]], shape=(1, 6), dtype=float32)\n",
      "162 tf.Tensor(\n",
      "[[3.5352498e-01 4.1662736e-04 2.8765958e-02 7.5319447e-02 5.4589142e-03\n",
      "  5.3651410e-01]], shape=(1, 6), dtype=float32)\n",
      "163 tf.Tensor([[0.11906171 0.10690659 0.1297261  0.30291668 0.11838564 0.22300321]], shape=(1, 6), dtype=float32)\n",
      "164 tf.Tensor(\n",
      "[[1.1233470e-03 4.7675484e-01 2.1466969e-05 1.2508838e-02 5.0937569e-01\n",
      "  2.1579619e-04]], shape=(1, 6), dtype=float32)\n",
      "165 tf.Tensor([[0.08848844 0.00698132 0.5270939  0.24720842 0.0019238  0.12830411]], shape=(1, 6), dtype=float32)\n",
      "166 tf.Tensor([[0.10395902 0.2125092  0.23999578 0.16904372 0.18204103 0.09245124]], shape=(1, 6), dtype=float32)\n",
      "167 tf.Tensor([[0.14094591 0.00439556 0.03031079 0.3062955  0.03635004 0.4817022 ]], shape=(1, 6), dtype=float32)\n",
      "168 tf.Tensor([[0.31768426 0.10700797 0.30670184 0.08415144 0.08109231 0.10336216]], shape=(1, 6), dtype=float32)\n",
      "169 tf.Tensor([[0.19264798 0.03767663 0.7261412  0.01733396 0.00494877 0.02125146]], shape=(1, 6), dtype=float32)\n",
      "170 tf.Tensor([[0.41692573 0.09280363 0.31496102 0.02137891 0.14323868 0.01069208]], shape=(1, 6), dtype=float32)\n",
      "171 tf.Tensor(\n",
      "[[3.5410163e-01 4.7042439e-04 3.0116126e-02 7.7212811e-02 5.8623003e-03\n",
      "  5.3223675e-01]], shape=(1, 6), dtype=float32)\n",
      "172 tf.Tensor([[0.11515887 0.10216355 0.1276911  0.31475982 0.11429118 0.22593547]], shape=(1, 6), dtype=float32)\n",
      "173 tf.Tensor([[0.02284143 0.81728137 0.00423501 0.11417592 0.03404154 0.00742467]], shape=(1, 6), dtype=float32)\n",
      "174 tf.Tensor([[0.0577988  0.07989768 0.4718153  0.3201853  0.01817833 0.05212456]], shape=(1, 6), dtype=float32)\n",
      "175 tf.Tensor([[0.00984296 0.6131512  0.0367625  0.04152636 0.29682112 0.00189583]], shape=(1, 6), dtype=float32)\n",
      "176 tf.Tensor(\n",
      "[[7.8690535e-04 5.4523748e-01 4.0734296e-05 4.4259015e-03 4.4949529e-01\n",
      "  1.3714111e-05]], shape=(1, 6), dtype=float32)\n",
      "177 tf.Tensor([[0.18928361 0.00071326 0.03123529 0.2168689  0.008144   0.55375487]], shape=(1, 6), dtype=float32)\n",
      "178 tf.Tensor(\n",
      "[[3.0408275e-01 1.9404950e-03 6.7605579e-01 1.6553166e-03 1.9593276e-04\n",
      "  1.6069757e-02]], shape=(1, 6), dtype=float32)\n",
      "179 tf.Tensor([[0.11720034 0.04109603 0.16685547 0.35004944 0.04002118 0.28477752]], shape=(1, 6), dtype=float32)\n",
      "180 tf.Tensor([[0.13932553 0.00252815 0.20953263 0.33432695 0.00320413 0.31108263]], shape=(1, 6), dtype=float32)\n",
      "181 tf.Tensor([[0.49090648 0.05046157 0.3781505  0.00852445 0.0566572  0.01529976]], shape=(1, 6), dtype=float32)\n",
      "182 tf.Tensor([[0.00922409 0.26574984 0.00312743 0.01564003 0.69843656 0.00782202]], shape=(1, 6), dtype=float32)\n",
      "183 tf.Tensor([[0.13720147 0.13275674 0.16255653 0.27709654 0.13832285 0.15206587]], shape=(1, 6), dtype=float32)\n",
      "184 tf.Tensor([[0.12414716 0.11323362 0.13222028 0.2877421  0.12374254 0.21891427]], shape=(1, 6), dtype=float32)\n",
      "185 tf.Tensor(\n",
      "[[4.8519500e-08 4.8312405e-01 4.4523148e-08 1.0734886e-03 5.1580209e-01\n",
      "  2.6164764e-07]], shape=(1, 6), dtype=float32)\n",
      "186 tf.Tensor([[0.00800056 0.0525614  0.00172773 0.00124935 0.9352233  0.00123763]], shape=(1, 6), dtype=float32)\n",
      "187 tf.Tensor([[0.00696775 0.00370951 0.04486349 0.90295315 0.00469548 0.03681061]], shape=(1, 6), dtype=float32)\n",
      "188 tf.Tensor(\n",
      "[[8.5883778e-01 4.7857123e-03 1.2196202e-01 1.1865559e-05 1.4397406e-02\n",
      "  5.1556999e-06]], shape=(1, 6), dtype=float32)\n",
      "189 tf.Tensor([[0.11208496 0.09849402 0.1260152  0.32421324 0.11107627 0.22811641]], shape=(1, 6), dtype=float32)\n",
      "190 tf.Tensor([[0.4781288  0.06268986 0.35339254 0.01272125 0.0781505  0.01491712]], shape=(1, 6), dtype=float32)\n",
      "191 tf.Tensor([[0.05514922 0.01310711 0.7962148  0.09951534 0.00114022 0.03487326]], shape=(1, 6), dtype=float32)\n",
      "192 tf.Tensor([[0.12618217 0.11581391 0.13316785 0.28174835 0.12589332 0.21719432]], shape=(1, 6), dtype=float32)\n",
      "193 tf.Tensor([[0.15708026 0.18105313 0.18082526 0.20394646 0.1763765  0.10071846]], shape=(1, 6), dtype=float32)\n",
      "194 tf.Tensor([[0.10736079 0.08422396 0.1254291  0.40169427 0.14627573 0.1350161 ]], shape=(1, 6), dtype=float32)\n",
      "195 tf.Tensor([[0.02458652 0.23903315 0.02808286 0.02414768 0.6810442  0.00310555]], shape=(1, 6), dtype=float32)\n",
      "196 tf.Tensor([[0.10780923 0.0080375  0.28164148 0.18752837 0.00660045 0.40838295]], shape=(1, 6), dtype=float32)\n",
      "197 tf.Tensor(\n",
      "[[6.88667234e-04 1.16078360e-02 6.06511385e-05 4.35633352e-03\n",
      "  9.83273625e-01 1.29118325e-05]], shape=(1, 6), dtype=float32)\n",
      "198 tf.Tensor(\n",
      "[[3.3682179e-01 1.2381838e-03 6.4100492e-01 1.5597624e-03 1.4692056e-04\n",
      "  1.9228326e-02]], shape=(1, 6), dtype=float32)\n",
      "199 tf.Tensor(\n",
      "[[9.1970617e-01 9.6910156e-04 7.6684989e-02 2.0070755e-05 2.4943131e-03\n",
      "  1.2534737e-04]], shape=(1, 6), dtype=float32)\n",
      "200 tf.Tensor([[0.08848844 0.00698132 0.5270939  0.24720842 0.0019238  0.12830411]], shape=(1, 6), dtype=float32)\n",
      "201 tf.Tensor([[0.5742015  0.00378291 0.37979302 0.000757   0.00284091 0.03862469]], shape=(1, 6), dtype=float32)\n",
      "202 tf.Tensor([[0.06251071 0.0525755  0.37982157 0.40110126 0.01702361 0.08696732]], shape=(1, 6), dtype=float32)\n",
      "203 tf.Tensor([[0.0526108  0.04552215 0.76489526 0.11014497 0.0040137  0.02281307]], shape=(1, 6), dtype=float32)\n",
      "204 tf.Tensor(\n",
      "[[3.5170230e-01 4.8347205e-04 3.6235828e-02 8.0137379e-02 5.0234608e-03\n",
      "  5.2641755e-01]], shape=(1, 6), dtype=float32)\n",
      "205 tf.Tensor([[0.04863143 0.04844231 0.19255592 0.5752331  0.03296071 0.1021766 ]], shape=(1, 6), dtype=float32)\n",
      "206 tf.Tensor(\n",
      "[[9.3067980e-01 8.3892443e-04 6.6215955e-02 2.2412125e-05 2.0499553e-03\n",
      "  1.9295186e-04]], shape=(1, 6), dtype=float32)\n",
      "207 tf.Tensor([[0.15718114 0.01278806 0.09316074 0.3437352  0.03557609 0.35755873]], shape=(1, 6), dtype=float32)\n",
      "208 tf.Tensor([[0.14893065 0.152169   0.1754041  0.24392818 0.15263596 0.12693205]], shape=(1, 6), dtype=float32)\n",
      "209 tf.Tensor([[0.09055001 0.24610618 0.14768636 0.11114369 0.33612326 0.06839044]], shape=(1, 6), dtype=float32)\n",
      "210 tf.Tensor([[0.37547037 0.08579018 0.21836267 0.00378368 0.3143952  0.00219789]], shape=(1, 6), dtype=float32)\n",
      "211 tf.Tensor([[0.02174046 0.5472352  0.02383623 0.00164196 0.392564   0.01298217]], shape=(1, 6), dtype=float32)\n",
      "212 tf.Tensor(\n",
      "[[9.3067980e-01 8.3892443e-04 6.6215955e-02 2.2412125e-05 2.0499553e-03\n",
      "  1.9295186e-04]], shape=(1, 6), dtype=float32)\n",
      "213 tf.Tensor(\n",
      "[[1.1939773e-05 6.1266369e-01 1.5223986e-05 1.0852832e-02 3.7638354e-01\n",
      "  7.2767194e-05]], shape=(1, 6), dtype=float32)\n",
      "214 tf.Tensor([[0.23802586 0.0044827  0.0688934  0.2415471  0.02413131 0.42291966]], shape=(1, 6), dtype=float32)\n",
      "215 tf.Tensor(\n",
      "[[7.5310759e-06 5.1475680e-01 7.3471710e-07 2.2255927e-03 4.8300833e-01\n",
      "  9.6222243e-07]], shape=(1, 6), dtype=float32)\n",
      "216 tf.Tensor([[0.16650224 0.13414788 0.17190412 0.21613713 0.12851478 0.18279381]], shape=(1, 6), dtype=float32)\n",
      "217 tf.Tensor([[0.08782574 0.23186314 0.09286626 0.22209817 0.2902535  0.07509316]], shape=(1, 6), dtype=float32)\n",
      "218 tf.Tensor(\n",
      "[[1.9246466e-01 3.2815404e-04 2.8497834e-02 5.1274639e-02 5.6447089e-03\n",
      "  7.2178996e-01]], shape=(1, 6), dtype=float32)\n",
      "219 tf.Tensor(\n",
      "[[6.3672243e-04 6.8675518e-01 1.4616374e-04 2.1312632e-02 2.9088399e-01\n",
      "  2.6532312e-04]], shape=(1, 6), dtype=float32)\n",
      "220 tf.Tensor(\n",
      "[[1.9775492e-03 2.7142543e-02 9.5117860e-04 6.0124107e-04 9.6900386e-01\n",
      "  3.2368553e-04]], shape=(1, 6), dtype=float32)\n",
      "221 tf.Tensor([[0.46482688 0.07034942 0.33964905 0.0136035  0.10236329 0.00920796]], shape=(1, 6), dtype=float32)\n",
      "222 tf.Tensor([[0.15720604 0.35684258 0.04507868 0.19590618 0.15223052 0.09273602]], shape=(1, 6), dtype=float32)\n",
      "223 tf.Tensor(\n",
      "[[8.6931002e-01 5.3692260e-03 1.2186550e-01 1.5650758e-04 2.8358907e-03\n",
      "  4.6290518e-04]], shape=(1, 6), dtype=float32)\n",
      "224 tf.Tensor([[0.09369827 0.00604839 0.29293635 0.16469143 0.00520175 0.4374238 ]], shape=(1, 6), dtype=float32)\n",
      "225 tf.Tensor([[0.11700341 0.07162943 0.1439551  0.33813846 0.07607427 0.25319937]], shape=(1, 6), dtype=float32)\n",
      "226 tf.Tensor(\n",
      "[[2.2207803e-07 4.7076720e-01 1.0535610e-07 9.1259723e-04 5.2831966e-01\n",
      "  2.3716295e-07]], shape=(1, 6), dtype=float32)\n",
      "227 tf.Tensor([[0.07966299 0.24594843 0.10204716 0.17752455 0.33132935 0.06348753]], shape=(1, 6), dtype=float32)\n",
      "228 tf.Tensor([[0.10913877 0.05269761 0.14686361 0.36628866 0.05519483 0.26981655]], shape=(1, 6), dtype=float32)\n",
      "229 tf.Tensor(\n",
      "[[4.4925534e-04 6.0600793e-01 2.9437157e-04 1.2063233e-02 3.8105458e-01\n",
      "  1.3061974e-04]], shape=(1, 6), dtype=float32)\n",
      "230 tf.Tensor([[0.10031178 0.0070647  0.38206035 0.3352085  0.00337751 0.17197724]], shape=(1, 6), dtype=float32)\n",
      "231 tf.Tensor([[0.05766668 0.09055041 0.37483323 0.38801855 0.02838571 0.0605454 ]], shape=(1, 6), dtype=float32)\n",
      "232 tf.Tensor([[0.00465495 0.06615144 0.00953134 0.8506578  0.03982708 0.02917739]], shape=(1, 6), dtype=float32)\n",
      "233 tf.Tensor([[0.02192059 0.09099675 0.02404522 0.00885744 0.8531534  0.00102664]], shape=(1, 6), dtype=float32)\n",
      "234 tf.Tensor([[0.02654416 0.29858395 0.0322421  0.11596845 0.5125113  0.01414999]], shape=(1, 6), dtype=float32)\n",
      "235 tf.Tensor(\n",
      "[[1.8242024e-01 4.3557133e-04 2.8457480e-02 1.9033074e-01 5.1086228e-03\n",
      "  5.9324735e-01]], shape=(1, 6), dtype=float32)\n",
      "236 tf.Tensor([[0.12353845 0.0669627  0.1540095  0.32784048 0.06869598 0.2589528 ]], shape=(1, 6), dtype=float32)\n",
      "237 tf.Tensor([[0.15302792 0.25191477 0.17978132 0.12541749 0.23864356 0.05121497]], shape=(1, 6), dtype=float32)\n",
      "238 tf.Tensor([[0.00825417 0.22868097 0.01416448 0.20350066 0.54114383 0.00425586]], shape=(1, 6), dtype=float32)\n",
      "239 tf.Tensor([[0.00967878 0.7003081  0.04318769 0.02138365 0.2244253  0.00101648]], shape=(1, 6), dtype=float32)\n",
      "240 tf.Tensor([[0.04786259 0.00202185 0.18722549 0.5686233  0.00177056 0.1924962 ]], shape=(1, 6), dtype=float32)\n",
      "241 tf.Tensor([[0.17871676 0.01058525 0.10985119 0.3192806  0.02835813 0.35320812]], shape=(1, 6), dtype=float32)\n",
      "242 tf.Tensor([[0.00824159 0.5962209  0.0275872  0.03567056 0.33072838 0.00155134]], shape=(1, 6), dtype=float32)\n",
      "243 tf.Tensor([[0.64395195 0.02783735 0.20781738 0.00779704 0.11027002 0.00232625]], shape=(1, 6), dtype=float32)\n",
      "244 tf.Tensor(\n",
      "[[5.7508972e-02 3.8194729e-04 2.4747199e-01 3.0287650e-01 2.1233674e-04\n",
      "  3.9154825e-01]], shape=(1, 6), dtype=float32)\n",
      "245 tf.Tensor([[0.05216497 0.12032352 0.22246392 0.47306883 0.06682231 0.06515644]], shape=(1, 6), dtype=float32)\n",
      "246 tf.Tensor([[0.03224    0.01916684 0.05887481 0.632479   0.02804792 0.22919141]], shape=(1, 6), dtype=float32)\n",
      "247 tf.Tensor([[0.3512271  0.00062179 0.04024952 0.0888294  0.00597848 0.5130937 ]], shape=(1, 6), dtype=float32)\n",
      "248 tf.Tensor([[0.50508213 0.03643358 0.40272006 0.00492022 0.04690998 0.00393394]], shape=(1, 6), dtype=float32)\n",
      "249 tf.Tensor([[0.12123898 0.10959464 0.1308159  0.296385   0.12067606 0.22128938]], shape=(1, 6), dtype=float32)\n",
      "250 tf.Tensor([[0.08228482 0.04598825 0.68654937 0.13165326 0.00619515 0.04732913]], shape=(1, 6), dtype=float32)\n",
      "251 tf.Tensor(\n",
      "[[1.9667518e-06 5.5146068e-01 6.1008063e-07 2.1085667e-03 4.4642711e-01\n",
      "  1.1066684e-06]], shape=(1, 6), dtype=float32)\n",
      "252 tf.Tensor(\n",
      "[[5.7508972e-02 3.8194729e-04 2.4747199e-01 3.0287650e-01 2.1233674e-04\n",
      "  3.9154825e-01]], shape=(1, 6), dtype=float32)\n",
      "253 tf.Tensor(\n",
      "[[9.1970617e-01 9.6910156e-04 7.6684989e-02 2.0070755e-05 2.4943131e-03\n",
      "  1.2534737e-04]], shape=(1, 6), dtype=float32)\n",
      "254 tf.Tensor([[0.42526853 0.06885722 0.38129258 0.00568938 0.1149148  0.00397747]], shape=(1, 6), dtype=float32)\n",
      "255 tf.Tensor([[0.85665745 0.03342067 0.02545563 0.00974866 0.07368331 0.00103431]], shape=(1, 6), dtype=float32)\n",
      "256 tf.Tensor([[0.13853465 0.132119   0.13828185 0.2462754  0.13904136 0.20574777]], shape=(1, 6), dtype=float32)\n",
      "257 tf.Tensor([[0.12254865 0.2517784  0.14547135 0.12989436 0.31440347 0.03590367]], shape=(1, 6), dtype=float32)\n",
      "258 tf.Tensor([[0.2937999  0.00714515 0.67617565 0.00395562 0.00093055 0.01799312]], shape=(1, 6), dtype=float32)\n",
      "259 tf.Tensor([[0.03063522 0.34835663 0.06928924 0.18812868 0.34650922 0.01708099]], shape=(1, 6), dtype=float32)\n",
      "260 tf.Tensor(\n",
      "[[6.2590068e-08 2.6395735e-01 1.0877479e-02 2.5268605e-02 6.9989580e-01\n",
      "  6.4833495e-07]], shape=(1, 6), dtype=float32)\n",
      "261 tf.Tensor(\n",
      "[[2.7839869e-01 3.0415005e-04 2.3608750e-02 9.9856839e-02 4.6967519e-03\n",
      "  5.9313488e-01]], shape=(1, 6), dtype=float32)\n",
      "262 tf.Tensor([[0.11829193 0.1059635  0.12933297 0.30523875 0.11757693 0.22359583]], shape=(1, 6), dtype=float32)\n",
      "263 tf.Tensor([[0.5956245  0.00627392 0.33987167 0.0006726  0.00228734 0.05526991]], shape=(1, 6), dtype=float32)\n",
      "264 tf.Tensor([[0.14425717 0.00361637 0.04979786 0.38528782 0.02431486 0.39272594]], shape=(1, 6), dtype=float32)\n",
      "265 tf.Tensor(\n",
      "[[4.7318341e-08 5.1614577e-01 2.1955097e-08 5.1364611e-04 4.8334050e-01\n",
      "  8.8592358e-08]], shape=(1, 6), dtype=float32)\n",
      "266 tf.Tensor([[0.01872621 0.00278938 0.04832891 0.8368918  0.00746087 0.08580288]], shape=(1, 6), dtype=float32)\n",
      "267 tf.Tensor([[0.15720604 0.35684258 0.04507868 0.19590618 0.15223052 0.09273602]], shape=(1, 6), dtype=float32)\n",
      "268 tf.Tensor([[0.08872429 0.07235703 0.11118644 0.4001196  0.0869138  0.2406989 ]], shape=(1, 6), dtype=float32)\n",
      "269 tf.Tensor([[0.08782574 0.23186314 0.09286626 0.22209817 0.2902535  0.07509316]], shape=(1, 6), dtype=float32)\n",
      "270 tf.Tensor([[0.1566015  0.20713557 0.18055077 0.17174679 0.20142166 0.08254372]], shape=(1, 6), dtype=float32)\n",
      "271 tf.Tensor(\n",
      "[[1.5616642e-04 4.6292061e-01 4.1627165e-05 4.1779708e-03 5.3266186e-01\n",
      "  4.1797983e-05]], shape=(1, 6), dtype=float32)\n",
      "272 tf.Tensor([[0.35603547 0.00055923 0.03909039 0.0822993  0.00542501 0.51659054]], shape=(1, 6), dtype=float32)\n",
      "273 tf.Tensor([[0.17330782 0.03593829 0.24063164 0.23786318 0.02810521 0.28415385]], shape=(1, 6), dtype=float32)\n",
      "274 tf.Tensor([[0.18785532 0.04168623 0.2001175  0.09620617 0.41917253 0.05496224]], shape=(1, 6), dtype=float32)\n",
      "275 tf.Tensor([[0.01609522 0.33505356 0.01880777 0.05847699 0.5657534  0.00581308]], shape=(1, 6), dtype=float32)\n",
      "276 tf.Tensor([[0.05595345 0.04472265 0.39347002 0.41310257 0.01351003 0.07924127]], shape=(1, 6), dtype=float32)\n",
      "277 tf.Tensor([[0.10232547 0.10456592 0.12597801 0.36048782 0.12252241 0.18412031]], shape=(1, 6), dtype=float32)\n",
      "278 tf.Tensor([[0.13472149 0.02229179 0.12256943 0.40567234 0.04611805 0.26862684]], shape=(1, 6), dtype=float32)\n",
      "279 tf.Tensor([[0.15302792 0.25191477 0.17978132 0.12541749 0.23864356 0.05121497]], shape=(1, 6), dtype=float32)\n",
      "280 tf.Tensor(\n",
      "[[9.1982400e-01 6.9885451e-04 7.6906629e-02 2.0200398e-05 2.3616331e-03\n",
      "  1.8863483e-04]], shape=(1, 6), dtype=float32)\n",
      "281 tf.Tensor(\n",
      "[[4.2125490e-03 2.2636827e-02 6.3828018e-04 3.1122277e-04 9.7176838e-01\n",
      "  4.3271808e-04]], shape=(1, 6), dtype=float32)\n",
      "282 tf.Tensor(\n",
      "[[3.2133043e-01 2.2016303e-03 6.5530634e-01 2.1373881e-03 2.6961783e-04\n",
      "  1.8754587e-02]], shape=(1, 6), dtype=float32)\n",
      "283 tf.Tensor([[0.10309634 0.4390212  0.06472846 0.14436385 0.14363697 0.10515326]], shape=(1, 6), dtype=float32)\n",
      "284 tf.Tensor(\n",
      "[[6.4832300e-02 6.6735252e-04 4.2852718e-02 1.0773843e-01 1.2216731e-02\n",
      "  7.7169240e-01]], shape=(1, 6), dtype=float32)\n",
      "285 tf.Tensor([[0.4781288  0.06268986 0.35339254 0.01272125 0.0781505  0.01491712]], shape=(1, 6), dtype=float32)\n",
      "286 tf.Tensor(\n",
      "[[3.9998465e-03 3.3618223e-02 1.4925736e-03 8.4008771e-04 9.5964324e-01\n",
      "  4.0598272e-04]], shape=(1, 6), dtype=float32)\n",
      "287 tf.Tensor([[0.23169231 0.10724646 0.25033194 0.15717767 0.08321638 0.17033525]], shape=(1, 6), dtype=float32)\n",
      "288 tf.Tensor([[0.1136288  0.08945005 0.1389863  0.3438364  0.09873649 0.21536198]], shape=(1, 6), dtype=float32)\n",
      "289 tf.Tensor([[0.00316853 0.12661521 0.00088498 0.00204434 0.8658007  0.00148629]], shape=(1, 6), dtype=float32)\n",
      "290 tf.Tensor([[0.14425717 0.00361637 0.04979786 0.38528782 0.02431486 0.39272594]], shape=(1, 6), dtype=float32)\n",
      "291 tf.Tensor(\n",
      "[[3.3624976e-05 6.6064012e-01 4.6440646e-06 4.2195488e-03 3.3509758e-01\n",
      "  4.4462345e-06]], shape=(1, 6), dtype=float32)\n",
      "292 tf.Tensor(\n",
      "[[1.0548785e-07 4.6833447e-01 5.1987623e-08 7.1786117e-04 5.3094739e-01\n",
      "  1.3413278e-07]], shape=(1, 6), dtype=float32)\n",
      "293 tf.Tensor(\n",
      "[[2.1484232e-04 2.6385209e-01 3.9396104e-03 5.5609815e-02 6.7580587e-01\n",
      "  5.7780347e-04]], shape=(1, 6), dtype=float32)\n",
      "294 tf.Tensor([[0.13112922 0.1922223  0.1652805  0.20719238 0.20880087 0.0953747 ]], shape=(1, 6), dtype=float32)\n",
      "295 tf.Tensor([[0.0566236  0.031728   0.7370948  0.13764274 0.0033469  0.03356382]], shape=(1, 6), dtype=float32)\n",
      "296 tf.Tensor([[0.05947484 0.35811663 0.05726924 0.04136456 0.46198973 0.02178502]], shape=(1, 6), dtype=float32)\n",
      "297 tf.Tensor([[0.15237491 0.24731727 0.16978826 0.1213484  0.25653386 0.05263731]], shape=(1, 6), dtype=float32)\n",
      "298 tf.Tensor([[0.11592671 0.01104834 0.26975927 0.21574402 0.0091396  0.3783821 ]], shape=(1, 6), dtype=float32)\n",
      "299 tf.Tensor([[0.11449898 0.10137097 0.12733674 0.31677967 0.11360031 0.22641325]], shape=(1, 6), dtype=float32)\n",
      "300 tf.Tensor([[0.01961173 0.01127941 0.04083167 0.7059918  0.01819886 0.20408648]], shape=(1, 6), dtype=float32)\n",
      "301 tf.Tensor([[0.09849688 0.05502988 0.13216943 0.39035615 0.06073887 0.26320875]], shape=(1, 6), dtype=float32)\n",
      "302 tf.Tensor([[0.05514922 0.01310711 0.7962148  0.09951534 0.00114022 0.03487326]], shape=(1, 6), dtype=float32)\n",
      "303 tf.Tensor([[0.20815349 0.00571745 0.07752633 0.26384377 0.02373856 0.4210204 ]], shape=(1, 6), dtype=float32)\n",
      "304 tf.Tensor([[0.11110882 0.26459593 0.1288893  0.16464193 0.28570282 0.04506114]], shape=(1, 6), dtype=float32)\n",
      "305 tf.Tensor([[0.03767018 0.00228859 0.10408068 0.71971184 0.00379926 0.13244948]], shape=(1, 6), dtype=float32)\n",
      "306 tf.Tensor([[0.05317676 0.0721673  0.30428922 0.4673142  0.02871482 0.07433759]], shape=(1, 6), dtype=float32)\n",
      "307 tf.Tensor([[0.12632765 0.11599945 0.13323449 0.28132161 0.12604722 0.21706957]], shape=(1, 6), dtype=float32)\n",
      "308 tf.Tensor([[0.6320184  0.01421196 0.3236499  0.00320675 0.02433106 0.00258192]], shape=(1, 6), dtype=float32)\n",
      "309 tf.Tensor([[0.12366094 0.11262128 0.1319896  0.2891808  0.12322927 0.2193182 ]], shape=(1, 6), dtype=float32)\n",
      "310 tf.Tensor([[0.10780923 0.0080375  0.28164148 0.18752837 0.00660045 0.40838295]], shape=(1, 6), dtype=float32)\n",
      "311 tf.Tensor([[0.13377528 0.12570047 0.13644335 0.2597635  0.13395593 0.21036147]], shape=(1, 6), dtype=float32)\n",
      "312 tf.Tensor(\n",
      "[[1.1939773e-05 6.1266369e-01 1.5223986e-05 1.0852832e-02 3.7638354e-01\n",
      "  7.2767194e-05]], shape=(1, 6), dtype=float32)\n",
      "313 tf.Tensor([[0.00821053 0.17053983 0.00250302 0.00472969 0.81155396 0.00246304]], shape=(1, 6), dtype=float32)\n",
      "314 tf.Tensor([[0.11160463 0.03933205 0.72505224 0.07686758 0.00531739 0.04182606]], shape=(1, 6), dtype=float32)\n",
      "315 tf.Tensor([[0.14961593 0.12957542 0.14890423 0.23271668 0.13119324 0.20799448]], shape=(1, 6), dtype=float32)\n",
      "316 tf.Tensor([[0.12123898 0.10959464 0.1308159  0.296385   0.12067606 0.22128938]], shape=(1, 6), dtype=float32)\n",
      "317 tf.Tensor([[0.02338366 0.37872553 0.02421985 0.06382529 0.49638918 0.01345638]], shape=(1, 6), dtype=float32)\n",
      "318 tf.Tensor([[0.07633016 0.21937814 0.25490913 0.28516942 0.10219722 0.06201594]], shape=(1, 6), dtype=float32)\n",
      "319 tf.Tensor([[0.00821053 0.17053983 0.00250302 0.00472969 0.81155396 0.00246304]], shape=(1, 6), dtype=float32)\n",
      "320 tf.Tensor([[0.00771375 0.35027233 0.01066823 0.04844007 0.5798955  0.00301021]], shape=(1, 6), dtype=float32)\n",
      "321 tf.Tensor([[0.01767835 0.00275368 0.04744665 0.84909075 0.00659778 0.07643282]], shape=(1, 6), dtype=float32)\n",
      "322 tf.Tensor([[0.2938069  0.00100001 0.04314758 0.13666688 0.00906612 0.5163125 ]], shape=(1, 6), dtype=float32)\n",
      "323 tf.Tensor([[0.11082774 0.00382849 0.05690503 0.461702   0.02005656 0.34668016]], shape=(1, 6), dtype=float32)\n",
      "324 tf.Tensor([[0.10178398 0.08660047 0.11993273 0.35675132 0.10036428 0.23456718]], shape=(1, 6), dtype=float32)\n",
      "325 tf.Tensor([[0.05563782 0.0347251  0.11889528 0.6071084  0.04729347 0.13633981]], shape=(1, 6), dtype=float32)\n",
      "326 tf.Tensor([[0.19165361 0.17886773 0.17681547 0.15089376 0.16034725 0.14142221]], shape=(1, 6), dtype=float32)\n",
      "327 tf.Tensor([[0.41692573 0.09280363 0.31496102 0.02137891 0.14323868 0.01069208]], shape=(1, 6), dtype=float32)\n",
      "328 tf.Tensor([[0.12437003 0.11351483 0.13232549 0.2870835  0.1239779  0.21872821]], shape=(1, 6), dtype=float32)\n",
      "329 tf.Tensor(\n",
      "[[1.6734553e-04 4.0952703e-01 7.6831631e-05 2.6291283e-03 5.8759952e-01\n",
      "  1.9013987e-07]], shape=(1, 6), dtype=float32)\n",
      "330 tf.Tensor([[0.12206484 0.11062232 0.13122068 0.29392126 0.12154604 0.22062488]], shape=(1, 6), dtype=float32)\n",
      "331 tf.Tensor(\n",
      "[[6.2590068e-08 2.6395735e-01 1.0877479e-02 2.5268605e-02 6.9989580e-01\n",
      "  6.4833495e-07]], shape=(1, 6), dtype=float32)\n",
      "332 tf.Tensor([[0.12166703 0.11012676 0.1310263  0.29510707 0.1211269  0.22094594]], shape=(1, 6), dtype=float32)\n",
      "333 tf.Tensor([[0.12033448 0.08908181 0.13861424 0.31754395 0.09613757 0.238288  ]], shape=(1, 6), dtype=float32)\n",
      "334 tf.Tensor(\n",
      "[[1.8467048e-01 5.6138530e-04 2.9459391e-02 2.0556702e-01 6.5834420e-03\n",
      "  5.7315826e-01]], shape=(1, 6), dtype=float32)\n",
      "335 tf.Tensor([[0.10309634 0.4390212  0.06472846 0.14436385 0.14363697 0.10515326]], shape=(1, 6), dtype=float32)\n",
      "336 tf.Tensor(\n",
      "[[1.9667518e-06 5.5146068e-01 6.1008063e-07 2.1085667e-03 4.4642711e-01\n",
      "  1.1066684e-06]], shape=(1, 6), dtype=float32)\n",
      "337 tf.Tensor([[0.33758777 0.00639472 0.6345296  0.00306776 0.00092727 0.01749289]], shape=(1, 6), dtype=float32)\n",
      "338 tf.Tensor([[0.1278321  0.11792693 0.1339147  0.27692097 0.12764014 0.21576515]], shape=(1, 6), dtype=float32)\n",
      "339 tf.Tensor(\n",
      "[[3.1417786e-09 6.9808394e-01 4.5337095e-15 2.4616449e-05 3.0189145e-01\n",
      "  3.7551215e-16]], shape=(1, 6), dtype=float32)\n",
      "340 tf.Tensor(\n",
      "[[9.4271815e-01 5.6768497e-03 3.4686003e-02 2.5177008e-04 1.6564716e-02\n",
      "  1.0245440e-04]], shape=(1, 6), dtype=float32)\n",
      "341 tf.Tensor([[0.23169231 0.10724646 0.25033194 0.15717767 0.08321638 0.17033525]], shape=(1, 6), dtype=float32)\n",
      "342 tf.Tensor([[0.14893065 0.152169   0.1754041  0.24392818 0.15263596 0.12693205]], shape=(1, 6), dtype=float32)\n",
      "343 tf.Tensor(\n",
      "[[2.7839869e-01 3.0415005e-04 2.3608750e-02 9.9856839e-02 4.6967519e-03\n",
      "  5.9313488e-01]], shape=(1, 6), dtype=float32)\n",
      "344 tf.Tensor(\n",
      "[[2.4320295e-01 3.4230485e-04 2.4470087e-02 1.2646954e-01 5.0414740e-03\n",
      "  6.0047364e-01]], shape=(1, 6), dtype=float32)\n",
      "345 tf.Tensor(\n",
      "[[9.2333859e-01 9.1103958e-03 3.6336035e-02 4.7621925e-04 3.0608770e-02\n",
      "  1.2999211e-04]], shape=(1, 6), dtype=float32)\n",
      "346 tf.Tensor([[0.33784175 0.02061635 0.60158193 0.00980538 0.00461489 0.02553964]], shape=(1, 6), dtype=float32)\n",
      "347 tf.Tensor([[0.00506819 0.7596033  0.00236505 0.13410307 0.09657256 0.00228777]], shape=(1, 6), dtype=float32)\n",
      "348 tf.Tensor([[0.06716014 0.03891617 0.09353046 0.5718956  0.07903309 0.14946456]], shape=(1, 6), dtype=float32)\n",
      "349 tf.Tensor(\n",
      "[[3.2133043e-01 2.2016303e-03 6.5530634e-01 2.1373881e-03 2.6961783e-04\n",
      "  1.8754587e-02]], shape=(1, 6), dtype=float32)\n",
      "350 tf.Tensor([[0.28083718 0.00179766 0.05548367 0.16196781 0.01222843 0.4876852 ]], shape=(1, 6), dtype=float32)\n",
      "351 tf.Tensor([[0.20208436 0.07932047 0.22215381 0.19335218 0.06486245 0.2382267 ]], shape=(1, 6), dtype=float32)\n",
      "352 tf.Tensor([[0.06058055 0.225657   0.13451873 0.08678007 0.40657687 0.08588676]], shape=(1, 6), dtype=float32)\n",
      "353 tf.Tensor([[0.00465495 0.06615144 0.00953134 0.8506578  0.03982708 0.02917739]], shape=(1, 6), dtype=float32)\n",
      "354 tf.Tensor([[0.02147967 0.4503287  0.06929451 0.14516562 0.30425268 0.00947886]], shape=(1, 6), dtype=float32)\n",
      "355 tf.Tensor([[0.11831775 0.10599506 0.12934624 0.30516085 0.11760403 0.22357611]], shape=(1, 6), dtype=float32)\n",
      "356 tf.Tensor(\n",
      "[[7.8690535e-04 5.4523748e-01 4.0734296e-05 4.4259015e-03 4.4949529e-01\n",
      "  1.3714111e-05]], shape=(1, 6), dtype=float32)\n",
      "357 tf.Tensor([[0.04034648 0.00284155 0.01815817 0.48606    0.03555002 0.4170438 ]], shape=(1, 6), dtype=float32)\n",
      "358 tf.Tensor(\n",
      "[[1.7935571e-01 6.0750887e-04 4.8468884e-02 6.9097750e-02 8.6401589e-03\n",
      "  6.9383001e-01]], shape=(1, 6), dtype=float32)\n",
      "359 tf.Tensor(\n",
      "[[3.0217746e-01 1.8157801e-03 6.7789596e-01 1.6425512e-03 1.8162398e-04\n",
      "  1.6286625e-02]], shape=(1, 6), dtype=float32)\n",
      "360 tf.Tensor(\n",
      "[[4.4925534e-04 6.0600793e-01 2.9437157e-04 1.2063233e-02 3.8105458e-01\n",
      "  1.3061974e-04]], shape=(1, 6), dtype=float32)\n",
      "361 tf.Tensor(\n",
      "[[7.1317911e-02 6.4337952e-04 2.1431966e-02 6.8842895e-02 1.3951290e-02\n",
      "  8.2381254e-01]], shape=(1, 6), dtype=float32)\n",
      "362 tf.Tensor([[0.07794273 0.14441986 0.24430335 0.35769984 0.07127685 0.10435745]], shape=(1, 6), dtype=float32)\n",
      "363 tf.Tensor([[0.00288642 0.39918095 0.0031099  0.01939351 0.574412   0.00101725]], shape=(1, 6), dtype=float32)\n",
      "364 tf.Tensor([[0.33967152 0.0174061  0.60606945 0.00831188 0.00373758 0.02480346]], shape=(1, 6), dtype=float32)\n",
      "365 tf.Tensor([[0.12414716 0.11323362 0.13222028 0.2877421  0.12374254 0.21891427]], shape=(1, 6), dtype=float32)\n",
      "366 tf.Tensor([[0.06375133 0.24409856 0.07277522 0.23111129 0.3379452  0.05031841]], shape=(1, 6), dtype=float32)\n",
      "367 tf.Tensor([[0.3557912  0.00057797 0.03948934 0.08444572 0.00562351 0.5140723 ]], shape=(1, 6), dtype=float32)\n",
      "368 tf.Tensor([[0.02458652 0.23903315 0.02808286 0.02414768 0.6810442  0.00310555]], shape=(1, 6), dtype=float32)\n",
      "369 tf.Tensor([[0.1311209  0.30875614 0.07871154 0.23653726 0.13586207 0.10901206]], shape=(1, 6), dtype=float32)\n",
      "370 tf.Tensor([[0.03756569 0.31795472 0.13960667 0.28691897 0.1927328  0.02522119]], shape=(1, 6), dtype=float32)\n",
      "371 tf.Tensor([[0.30294335 0.00178891 0.1332242  0.1783858  0.00558849 0.37806925]], shape=(1, 6), dtype=float32)\n",
      "372 tf.Tensor(\n",
      "[[1.9775492e-03 2.7142543e-02 9.5117860e-04 6.0124107e-04 9.6900386e-01\n",
      "  3.2368553e-04]], shape=(1, 6), dtype=float32)\n",
      "373 tf.Tensor([[0.05317676 0.0721673  0.30428922 0.4673142  0.02871482 0.07433759]], shape=(1, 6), dtype=float32)\n",
      "374 tf.Tensor([[0.0777486  0.00665213 0.02591755 0.41331872 0.0594275  0.4169355 ]], shape=(1, 6), dtype=float32)\n",
      "375 tf.Tensor([[0.14961593 0.12957542 0.14890423 0.23271668 0.13119324 0.20799448]], shape=(1, 6), dtype=float32)\n",
      "376 tf.Tensor([[0.11110882 0.26459593 0.1288893  0.16464193 0.28570282 0.04506114]], shape=(1, 6), dtype=float32)\n",
      "377 tf.Tensor([[0.09825791 0.48356226 0.04033972 0.20755197 0.10893924 0.06134893]], shape=(1, 6), dtype=float32)\n",
      "378 tf.Tensor([[0.1597208  0.0456293  0.21239108 0.26436958 0.03885447 0.27903473]], shape=(1, 6), dtype=float32)\n",
      "379 tf.Tensor([[0.09390504 0.00504223 0.02570663 0.3671519  0.05165138 0.45654282]], shape=(1, 6), dtype=float32)\n",
      "380 tf.Tensor(\n",
      "[[1.1233470e-03 4.7675484e-01 2.1466969e-05 1.2508838e-02 5.0937569e-01\n",
      "  2.1579619e-04]], shape=(1, 6), dtype=float32)\n",
      "381 tf.Tensor([[0.11529543 0.08284824 0.1377935  0.33563286 0.09027034 0.23815967]], shape=(1, 6), dtype=float32)\n",
      "382 tf.Tensor(\n",
      "[[6.4832300e-02 6.6735252e-04 4.2852718e-02 1.0773843e-01 1.2216731e-02\n",
      "  7.7169240e-01]], shape=(1, 6), dtype=float32)\n",
      "383 tf.Tensor([[0.07004379 0.00267889 0.0308569  0.08992653 0.0634391  0.74305487]], shape=(1, 6), dtype=float32)\n",
      "384 tf.Tensor([[0.12487434 0.06196571 0.15880315 0.32784194 0.06253225 0.26398265]], shape=(1, 6), dtype=float32)\n",
      "385 tf.Tensor([[0.12255686 0.00308326 0.05364017 0.42099783 0.0178411  0.38188085]], shape=(1, 6), dtype=float32)\n",
      "386 tf.Tensor([[0.04804752 0.19326194 0.603247   0.12086862 0.02025208 0.01432282]], shape=(1, 6), dtype=float32)\n",
      "387 tf.Tensor(\n",
      "[[4.2125490e-03 2.2636827e-02 6.3828018e-04 3.1122277e-04 9.7176838e-01\n",
      "  4.3271808e-04]], shape=(1, 6), dtype=float32)\n",
      "388 tf.Tensor([[0.1260436  0.06520236 0.15793508 0.32378566 0.06600879 0.2610245 ]], shape=(1, 6), dtype=float32)\n",
      "389 tf.Tensor(\n",
      "[[8.5883778e-01 4.7857123e-03 1.2196202e-01 1.1865559e-05 1.4397406e-02\n",
      "  5.1556999e-06]], shape=(1, 6), dtype=float32)\n",
      "390 tf.Tensor([[0.09747849 0.05320743 0.0993361  0.00757468 0.74028736 0.00211591]], shape=(1, 6), dtype=float32)\n",
      "391 tf.Tensor([[0.04946726 0.09449376 0.7136458  0.11615463 0.00846171 0.01777692]], shape=(1, 6), dtype=float32)\n",
      "392 tf.Tensor([[0.4712458  0.0680865  0.33728272 0.01382006 0.09923507 0.01032982]], shape=(1, 6), dtype=float32)\n",
      "393 tf.Tensor([[0.08536054 0.072503   0.11974102 0.39271548 0.08464458 0.2450354 ]], shape=(1, 6), dtype=float32)\n",
      "394 tf.Tensor([[0.11831775 0.10599506 0.12934624 0.30516085 0.11760403 0.22357611]], shape=(1, 6), dtype=float32)\n",
      "395 tf.Tensor(\n",
      "[[7.5310759e-06 5.1475680e-01 7.3471710e-07 2.2255927e-03 4.8300833e-01\n",
      "  9.6222243e-07]], shape=(1, 6), dtype=float32)\n",
      "396 tf.Tensor([[0.01217443 0.42882463 0.01465869 0.03771557 0.45847544 0.04815114]], shape=(1, 6), dtype=float32)\n",
      "397 tf.Tensor([[0.02523608 0.5619711  0.07787476 0.10827637 0.22237293 0.00426875]], shape=(1, 6), dtype=float32)\n",
      "398 tf.Tensor([[0.07453386 0.23283017 0.09830325 0.17882574 0.33545694 0.08005003]], shape=(1, 6), dtype=float32)\n",
      "399 tf.Tensor([[0.00771375 0.35027233 0.01066823 0.04844007 0.5798955  0.00301021]], shape=(1, 6), dtype=float32)\n",
      "400 tf.Tensor([[0.10231186 0.03541903 0.15316863 0.38560438 0.035807   0.28768912]], shape=(1, 6), dtype=float32)\n",
      "401 tf.Tensor(\n",
      "[[7.1317911e-02 6.4337952e-04 2.1431966e-02 6.8842895e-02 1.3951290e-02\n",
      "  8.2381254e-01]], shape=(1, 6), dtype=float32)\n",
      "402 tf.Tensor([[0.10099119 0.08570989 0.11943489 0.35931346 0.09954368 0.23500691]], shape=(1, 6), dtype=float32)\n",
      "403 tf.Tensor([[0.09253994 0.0606857  0.14500383 0.45500466 0.07932102 0.16744483]], shape=(1, 6), dtype=float32)\n",
      "404 tf.Tensor([[0.04155172 0.37271652 0.44294265 0.09022553 0.04413954 0.00842401]], shape=(1, 6), dtype=float32)\n",
      "405 tf.Tensor([[0.2284628  0.08615186 0.24808778 0.16377306 0.066085   0.20743942]], shape=(1, 6), dtype=float32)\n",
      "406 tf.Tensor([[0.31768426 0.10700797 0.30670184 0.08415144 0.08109231 0.10336216]], shape=(1, 6), dtype=float32)\n",
      "407 tf.Tensor(\n",
      "[[1.3660363e-12 9.2979348e-01 1.6024064e-09 9.0265536e-04 6.9303840e-02\n",
      "  1.1583277e-12]], shape=(1, 6), dtype=float32)\n",
      "408 tf.Tensor([[0.00967878 0.7003081  0.04318769 0.02138365 0.2244253  0.00101648]], shape=(1, 6), dtype=float32)\n",
      "409 tf.Tensor([[0.04896063 0.03978134 0.1666975  0.59665054 0.03269341 0.11521657]], shape=(1, 6), dtype=float32)\n",
      "410 tf.Tensor([[0.05245082 0.05420981 0.12130268 0.59065574 0.06772153 0.11365946]], shape=(1, 6), dtype=float32)\n",
      "411 tf.Tensor([[0.07966299 0.24594843 0.10204716 0.17752455 0.33132935 0.06348753]], shape=(1, 6), dtype=float32)\n",
      "412 tf.Tensor([[0.05679142 0.09627039 0.43451196 0.3377096  0.02407395 0.05064265]], shape=(1, 6), dtype=float32)\n",
      "413 tf.Tensor([[0.08871397 0.02373124 0.14811267 0.41678953 0.02386517 0.2987874 ]], shape=(1, 6), dtype=float32)\n"
     ]
    }
   ],
   "source": [
    "for i in range(y_train.shape[0]):\n",
    "    X_batch = np.expand_dims(X_train[i], axis=0)\n",
    "    print(i,model(X_batch))\n",
    "# print(y_batch)"
   ]
  },
  {
   "cell_type": "code",
   "execution_count": 53,
   "id": "92723cb5-9f56-4887-b4db-b1cdf27fcd8f",
   "metadata": {
    "scrolled": true
   },
   "outputs": [
    {
     "name": "stdout",
     "output_type": "stream",
     "text": [
      "tf.Tensor([[0.08871397 0.02373124 0.14811267 0.41678953 0.02386517 0.2987874 ]], shape=(1, 6), dtype=float32)\n"
     ]
    }
   ],
   "source": [
    "X_batch = np.expand_dims(X_train[i], axis=0)\n",
    "print(model(X_batch))"
   ]
  },
  {
   "cell_type": "code",
   "execution_count": 54,
   "id": "950ae5fa-1b92-459b-9cba-f6b2ed7cffd1",
   "metadata": {},
   "outputs": [
    {
     "name": "stdout",
     "output_type": "stream",
     "text": [
      "13/13 [==============================] - 1s 48ms/step\n"
     ]
    },
    {
     "data": {
      "text/plain": [
       "array([[0.29187852, 0.00110781, 0.13715473, 0.16274445, 0.00317151,\n",
       "        0.40394306],\n",
       "       [0.17091924, 0.0667234 , 0.20380975, 0.24276322, 0.05829683,\n",
       "        0.2574875 ],\n",
       "       [0.00288642, 0.39918217, 0.0031099 , 0.01939357, 0.5744106 ,\n",
       "        0.00101726],\n",
       "       ...,\n",
       "       [0.07966363, 0.24594939, 0.10204825, 0.17752294, 0.33132914,\n",
       "        0.06348669],\n",
       "       [0.05679145, 0.09627298, 0.4345085 , 0.33771002, 0.02407483,\n",
       "        0.05064227],\n",
       "       [0.08871439, 0.02373134, 0.14811315, 0.41678846, 0.02386525,\n",
       "        0.29878747]], dtype=float32)"
      ]
     },
     "execution_count": 54,
     "metadata": {},
     "output_type": "execute_result"
    }
   ],
   "source": [
    "model.predict(X_train)"
   ]
  },
  {
   "cell_type": "code",
   "execution_count": 55,
   "id": "2748b0bd-7be2-494b-a20a-f4e08eb5f9c8",
   "metadata": {
    "scrolled": true
   },
   "outputs": [],
   "source": [
    "# predictions"
   ]
  },
  {
   "cell_type": "code",
   "execution_count": null,
   "id": "e189c2e4-7a47-4d5b-a76f-bdd9b3663c01",
   "metadata": {},
   "outputs": [],
   "source": []
  },
  {
   "cell_type": "code",
   "execution_count": 56,
   "id": "6bc7c8fe-10ad-4664-8744-be6cca7a8ca8",
   "metadata": {},
   "outputs": [],
   "source": [
    "num_epochs = 5\n",
    "optimizer = tf.keras.optimizers.Adam(learning_rate=0.001)\n",
    "threshold_value = 0.5\n",
    "total_iterations = 0"
   ]
  },
  {
   "cell_type": "code",
   "execution_count": 62,
   "id": "d4ccecb3-5d9a-41dd-886c-6c7540d904b4",
   "metadata": {
    "scrolled": true
   },
   "outputs": [],
   "source": [
    "import numpy as np\n",
    "import tensorflow as tf\n",
    "\n",
    "def calculate_reward(predictions, true_labels):\n",
    "    rewards = []\n",
    "\n",
    "    for i in range(len(predictions)):\n",
    "        pred = predictions[i]\n",
    "        true_labels_np = true_labels[i]\n",
    "\n",
    "        correct_prediction_reward = 1.0 if np.argmax(pred) == np.argmax(true_labels_np) else 0.0\n",
    "        rewards.append(correct_prediction_reward)\n",
    "\n",
    "    return rewards\n"
   ]
  },
  {
   "cell_type": "code",
   "execution_count": 84,
   "id": "de2467c9-4353-4e32-8e88-01e178d4af43",
   "metadata": {},
   "outputs": [
    {
     "name": "stdout",
     "output_type": "stream",
     "text": [
      "Iteration 2000, Epoch 1, Loss: 0.0\n",
      "ERROR:tensorflow:==================================\n",
      "Object was never used (type <class 'tensorflow.python.ops.tensor_array_ops.TensorArray'>):\n",
      "<tensorflow.python.ops.tensor_array_ops.TensorArray object at 0x000001C67B19A150>\n",
      "If you want to mark it as used call its \"mark_used()\" method.\n",
      "It was originally created here:\n",
      "  File \"H:\\PYTHON\\PYTHON SYSTEM FILES\\Lib\\site-packages\\keras\\src\\backend.py\", line 5160, in <genexpr>\n",
      "    output_ta_t = tuple(  File \"H:\\PYTHON\\PYTHON SYSTEM FILES\\Lib\\site-packages\\tensorflow\\python\\util\\tf_should_use.py\", line 288, in wrapped\n",
      "    return _add_should_use_warning(fn(*args, **kwargs),\n",
      "==================================\n",
      "Iteration 2100, Epoch 1, Loss: 0.0\n",
      "Iteration 2300, Epoch 1, Loss: 0.0\n",
      "Iteration 2400, Epoch 2, Loss: 0.0\n",
      "Iteration 2500, Epoch 2, Loss: 0.0\n",
      "Iteration 2800, Epoch 2, Loss: 0.0\n",
      "Iteration 2900, Epoch 3, Loss: 0.0\n",
      "Iteration 3000, Epoch 3, Loss: 0.0\n",
      "Iteration 3100, Epoch 3, Loss: 0.0\n",
      "Iteration 3200, Epoch 3, Loss: 0.0\n",
      "Iteration 3400, Epoch 4, Loss: 0.0\n",
      "Iteration 3500, Epoch 4, Loss: 0.0\n",
      "Iteration 3600, Epoch 4, Loss: 0.0\n",
      "Iteration 3700, Epoch 5, Loss: 0.0\n",
      "Iteration 3800, Epoch 5, Loss: 0.0\n",
      "Iteration 3900, Epoch 5, Loss: 0.0\n",
      "Iteration 4000, Epoch 5, Loss: 0.0\n"
     ]
    }
   ],
   "source": [
    "for epoch in range(num_epochs):\n",
    "    for i in range((y_train.shape[0])):\n",
    "        X_batch, y_batch, emotion_labels_batch=X_train[i],y_train[i],emotion_labels_train[i]\n",
    "        total_iterations += 1\n",
    "        with tf.GradientTape() as tape:\n",
    "            # Add batch dimension to X_batch\n",
    "            X_batch = np.expand_dims(X_batch, axis=0)\n",
    "            # print(X_batch)\n",
    "            \n",
    "            predictions = model(X_batch)\n",
    "        \n",
    "            # print(\"Predictions:\", predictions)\n",
    "            \n",
    "            rewards = calculate_reward(predictions, y_batch)\n",
    "            # print(predictions)\n",
    "            loss = -tf.reduce_mean(tf.math.log(tf.reduce_sum(predictions * y_batch, axis=1)) * rewards)\n",
    "\n",
    "            loss_value = loss.numpy()\n",
    "            \n",
    "            if np.isinf(loss_value):\n",
    "                continue\n",
    "            elif np.isnan(loss_value):\n",
    "                continue\n",
    "            \n",
    "            # print(\"Loss:\", loss_value)\n",
    "\n",
    "        gradients = tape.gradient(loss, model.trainable_variables)\n",
    "        optimizer.apply_gradients(zip(gradients, model.trainable_variables))\n",
    "\n",
    "        if(total_iterations%100==0):\n",
    "            print(f\"Iteration {total_iterations}, Epoch {epoch + 1}, Loss: {loss.numpy()}\")\n"
   ]
  },
  {
   "cell_type": "code",
   "execution_count": null,
   "id": "e0ce9666-8553-4f99-82ad-e5b38c0c80ce",
   "metadata": {},
   "outputs": [],
   "source": []
  },
  {
   "cell_type": "code",
   "execution_count": 85,
   "id": "8be3a238-afa4-4180-982a-b92cebd9c40b",
   "metadata": {},
   "outputs": [
    {
     "name": "stdout",
     "output_type": "stream",
     "text": [
      "Hello\n"
     ]
    }
   ],
   "source": [
    "print(\"Hello\")"
   ]
  },
  {
   "cell_type": "code",
   "execution_count": 86,
   "id": "9b0cb0a5-46d1-427d-bfbd-42b57295ad89",
   "metadata": {},
   "outputs": [
    {
     "data": {
      "text/plain": [
       "array([[ 0.56435299,  0.35058251, -1.53903103, ...,  0.        ,\n",
       "         0.        ,  0.        ],\n",
       "       [ 0.56354904,  0.35084385, -1.54106259, ...,  0.        ,\n",
       "         0.        ,  0.        ],\n",
       "       [ 0.56367815,  0.35082406, -1.50732887, ...,  0.        ,\n",
       "         0.        ,  0.        ],\n",
       "       ...,\n",
       "       [ 0.55834359,  0.42323029, -1.23260713, ...,  0.        ,\n",
       "         0.        ,  0.        ],\n",
       "       [ 0.55912405,  0.40156174, -1.19430852, ...,  0.        ,\n",
       "         0.        ,  0.        ],\n",
       "       [ 0.55914253,  0.40188727, -1.27352691, ...,  0.        ,\n",
       "         0.        ,  0.        ]])"
      ]
     },
     "execution_count": 86,
     "metadata": {},
     "output_type": "execute_result"
    }
   ],
   "source": [
    "X_train[0]"
   ]
  },
  {
   "cell_type": "code",
   "execution_count": 87,
   "id": "f855e864-4c38-45db-9786-c76038f018ab",
   "metadata": {},
   "outputs": [],
   "source": [
    "# model.save_weights('modified_weights.h5')"
   ]
  },
  {
   "cell_type": "code",
   "execution_count": null,
   "id": "8d8a4620-09bb-474d-9343-a801ea8df026",
   "metadata": {},
   "outputs": [],
   "source": []
  },
  {
   "cell_type": "code",
   "execution_count": 88,
   "id": "bbddd8c6-ac22-4a57-b8db-5335fd5755ec",
   "metadata": {},
   "outputs": [
    {
     "name": "stdout",
     "output_type": "stream",
     "text": [
      "2/2 [==============================] - 0s 21ms/step\n"
     ]
    }
   ],
   "source": [
    "res = model.predict(X_test)"
   ]
  },
  {
   "cell_type": "code",
   "execution_count": 89,
   "id": "b8b93676-39c3-4d68-a906-82230af0b47f",
   "metadata": {
    "scrolled": true
   },
   "outputs": [
    {
     "data": {
      "text/plain": [
       "array([[[ 6.57501757e-01,  5.23467481e-01, -8.15172315e-01, ...,\n",
       "          6.63831294e-01,  4.06959087e-01, -4.67546657e-02],\n",
       "        [ 6.58459306e-01,  4.47768390e-01, -8.36164296e-01, ...,\n",
       "          6.69095874e-01,  3.45797718e-01, -5.01816459e-02],\n",
       "        [ 6.58348560e-01,  4.60221529e-01, -8.08133602e-01, ...,\n",
       "          5.99960029e-01,  5.14933348e-01, -2.74218917e-02],\n",
       "        ...,\n",
       "        [ 6.61615908e-01,  4.54970479e-01, -8.40893149e-01, ...,\n",
       "          6.33005440e-01,  3.56895208e-01, -5.04993424e-02],\n",
       "        [ 6.63804173e-01,  4.15722489e-01, -8.37673664e-01, ...,\n",
       "          6.11296296e-01,  3.87075722e-01, -5.25513776e-02],\n",
       "        [ 6.70506418e-01,  4.17331606e-01, -8.24727535e-01, ...,\n",
       "          5.98145425e-01,  3.95649076e-01, -5.63395247e-02]],\n",
       "\n",
       "       [[ 5.87774158e-01,  6.25172436e-01, -1.39595866e+00, ...,\n",
       "          0.00000000e+00,  0.00000000e+00,  0.00000000e+00],\n",
       "        [ 5.87755859e-01,  6.26351416e-01, -1.38946629e+00, ...,\n",
       "          0.00000000e+00,  0.00000000e+00,  0.00000000e+00],\n",
       "        [ 5.89334965e-01,  6.31865382e-01, -1.38395882e+00, ...,\n",
       "          0.00000000e+00,  0.00000000e+00,  0.00000000e+00],\n",
       "        ...,\n",
       "        [ 5.96525252e-01,  7.30765522e-01, -1.54951012e+00, ...,\n",
       "          0.00000000e+00,  0.00000000e+00,  0.00000000e+00],\n",
       "        [ 5.96132576e-01,  7.29656219e-01, -1.57942343e+00, ...,\n",
       "          0.00000000e+00,  0.00000000e+00,  0.00000000e+00],\n",
       "        [ 5.96150160e-01,  7.28500307e-01, -1.62251258e+00, ...,\n",
       "          0.00000000e+00,  0.00000000e+00,  0.00000000e+00]],\n",
       "\n",
       "       [[ 5.26422024e-01,  3.11050773e-01, -6.38671100e-01, ...,\n",
       "          0.00000000e+00,  0.00000000e+00,  0.00000000e+00],\n",
       "        [ 5.26304066e-01,  3.10792953e-01, -6.41328692e-01, ...,\n",
       "          0.00000000e+00,  0.00000000e+00,  0.00000000e+00],\n",
       "        [ 5.25000155e-01,  3.09455842e-01, -6.34680986e-01, ...,\n",
       "          1.13409303e-01,  1.03677106e+00,  3.38108023e-03],\n",
       "        ...,\n",
       "        [ 5.31489909e-01,  2.76384085e-01, -7.14392066e-01, ...,\n",
       "          0.00000000e+00,  0.00000000e+00,  0.00000000e+00],\n",
       "        [ 5.33211827e-01,  2.76122421e-01, -7.03564823e-01, ...,\n",
       "          0.00000000e+00,  0.00000000e+00,  0.00000000e+00],\n",
       "        [ 5.32915056e-01,  2.76408255e-01, -6.99538648e-01, ...,\n",
       "          0.00000000e+00,  0.00000000e+00,  0.00000000e+00]],\n",
       "\n",
       "       ...,\n",
       "\n",
       "       [[ 5.93859315e-01,  5.82802474e-01, -8.17886710e-01, ...,\n",
       "          5.16301513e-01,  2.59764940e-01, -4.05076668e-02],\n",
       "        [ 5.93114018e-01,  5.83758235e-01, -8.19102168e-01, ...,\n",
       "          5.04998446e-01,  2.58009136e-01, -7.06384331e-02],\n",
       "        [ 5.92547596e-01,  5.85080981e-01, -8.19702268e-01, ...,\n",
       "          5.00935793e-01,  2.66683847e-01, -3.49357426e-02],\n",
       "        ...,\n",
       "        [ 5.77668190e-01,  5.96890986e-01, -8.50741565e-01, ...,\n",
       "          5.38592219e-01,  3.07358563e-01,  5.08502635e-05],\n",
       "        [ 5.77659309e-01,  5.96319199e-01, -8.60606313e-01, ...,\n",
       "          5.28350711e-01,  3.03808838e-01,  3.43648009e-02],\n",
       "        [ 5.77750683e-01,  5.96153319e-01, -8.70607555e-01, ...,\n",
       "          5.36888778e-01,  3.15236777e-01,  3.05265025e-03]],\n",
       "\n",
       "       [[ 5.30727863e-01,  4.43493962e-01, -6.90941453e-01, ...,\n",
       "          1.74452975e-01,  6.65462077e-01, -3.46883386e-02],\n",
       "        [ 5.27995706e-01,  4.44551051e-01, -6.20229959e-01, ...,\n",
       "          1.59547523e-01,  6.60567105e-01, -3.55192311e-02],\n",
       "        [ 5.17178595e-01,  4.44754630e-01, -6.21358573e-01, ...,\n",
       "          0.00000000e+00,  0.00000000e+00,  0.00000000e+00],\n",
       "        ...,\n",
       "        [ 5.41104794e-01,  4.33789492e-01, -1.37443018e+00, ...,\n",
       "          2.41363794e-02,  5.40553808e-01, -3.22448313e-02],\n",
       "        [ 5.32116950e-01,  4.49145734e-01, -1.44231439e+00, ...,\n",
       "         -2.11446807e-02,  4.71950859e-01, -5.13184406e-02],\n",
       "        [ 5.28912663e-01,  4.56735343e-01, -1.46959937e+00, ...,\n",
       "         -1.49006099e-02,  4.77388173e-01, -5.42767420e-02]],\n",
       "\n",
       "       [[ 5.22007585e-01,  4.07178968e-01, -8.09923768e-01, ...,\n",
       "          1.85155362e-01,  8.02704692e-01, -1.01557769e-01],\n",
       "        [ 5.22029400e-01,  4.03940529e-01, -8.04846108e-01, ...,\n",
       "          1.81624591e-01,  8.06447625e-01, -1.02013677e-01],\n",
       "        [ 5.22136390e-01,  3.99496168e-01, -7.59901047e-01, ...,\n",
       "          1.77386448e-01,  8.07831466e-01, -1.00279778e-01],\n",
       "        ...,\n",
       "        [ 5.15066028e-01,  4.44976032e-01, -7.66585827e-01, ...,\n",
       "          1.53155774e-01,  8.17613482e-01, -9.89250466e-02],\n",
       "        [ 5.15424192e-01,  4.44534779e-01, -7.65630484e-01, ...,\n",
       "          1.54515356e-01,  8.16641033e-01, -1.00416601e-01],\n",
       "        [ 5.15419364e-01,  4.44489419e-01, -7.61325777e-01, ...,\n",
       "          1.55792505e-01,  8.15265000e-01, -9.93744731e-02]]])"
      ]
     },
     "execution_count": 89,
     "metadata": {},
     "output_type": "execute_result"
    }
   ],
   "source": [
    "X_test"
   ]
  },
  {
   "cell_type": "code",
   "execution_count": 90,
   "id": "4b0ba857-1553-48be-a655-60730d7faeeb",
   "metadata": {},
   "outputs": [
    {
     "data": {
      "text/plain": [
       "array([[1.76945723e-15, 9.99997973e-01, 4.77812609e-19, 2.04475396e-06,\n",
       "        3.35825345e-09, 4.53584851e-19],\n",
       "       [4.67119506e-16, 8.95358086e-01, 2.25305048e-05, 1.19006690e-17,\n",
       "        2.08984761e-06, 1.04617335e-01],\n",
       "       [2.49511504e-27, 1.00000000e+00, 7.33862957e-31, 4.52057513e-17,\n",
       "        3.67549827e-12, 1.38015366e-34],\n",
       "       [0.00000000e+00, 1.00000000e+00, 0.00000000e+00, 3.70997350e-28,\n",
       "        2.36862905e-32, 0.00000000e+00],\n",
       "       [5.01028586e-15, 5.53789223e-03, 7.27631768e-13, 6.81545542e-10,\n",
       "        9.94462073e-01, 1.54722303e-18],\n",
       "       [2.62779223e-31, 1.00000000e+00, 0.00000000e+00, 3.48593683e-16,\n",
       "        2.51023957e-14, 2.76418745e-37],\n",
       "       [7.13270447e-06, 1.91430550e-03, 3.60807851e-02, 5.54658364e-09,\n",
       "        3.04866880e-02, 9.31511104e-01],\n",
       "       [1.23788317e-28, 1.00000000e+00, 2.82224184e-25, 5.51827777e-21,\n",
       "        9.35594284e-22, 5.58638476e-24],\n",
       "       [6.34236746e-22, 1.00000000e+00, 5.64904640e-31, 1.02107021e-11,\n",
       "        1.45380676e-19, 1.08546644e-27],\n",
       "       [1.26407955e-23, 1.00000000e+00, 9.58831887e-19, 5.26036011e-20,\n",
       "        1.45802017e-14, 3.71437568e-14],\n",
       "       [1.06165708e-35, 1.00000000e+00, 3.93722335e-30, 6.91429235e-36,\n",
       "        4.60452609e-09, 3.64889633e-25],\n",
       "       [8.37621393e-38, 7.95540512e-01, 4.69562927e-34, 1.69962655e-26,\n",
       "        2.04459459e-01, 0.00000000e+00],\n",
       "       [2.81310560e-25, 1.00000000e+00, 2.80435755e-21, 5.19630687e-32,\n",
       "        6.91478233e-13, 5.12942951e-15],\n",
       "       [2.72605181e-12, 9.99926925e-01, 7.09909589e-16, 7.25730570e-05,\n",
       "        4.77090055e-07, 1.63699472e-15],\n",
       "       [1.91709819e-18, 9.99996305e-01, 1.03293242e-12, 2.62323012e-20,\n",
       "        3.68033284e-06, 2.52488839e-08],\n",
       "       [1.81995795e-32, 9.99922276e-01, 0.00000000e+00, 1.97014967e-17,\n",
       "        7.77489768e-05, 0.00000000e+00],\n",
       "       [0.00000000e+00, 1.00000000e+00, 0.00000000e+00, 0.00000000e+00,\n",
       "        1.27913268e-36, 0.00000000e+00],\n",
       "       [5.28138349e-38, 1.00000000e+00, 0.00000000e+00, 5.52858220e-28,\n",
       "        7.62700779e-24, 1.58316833e-35],\n",
       "       [1.79959020e-10, 9.10591662e-01, 3.98649308e-10, 8.90831053e-02,\n",
       "        3.25220812e-04, 8.98731298e-11],\n",
       "       [0.00000000e+00, 9.99999285e-01, 0.00000000e+00, 0.00000000e+00,\n",
       "        7.11797441e-07, 0.00000000e+00],\n",
       "       [5.32887618e-32, 1.00000000e+00, 9.42094286e-30, 2.59276250e-31,\n",
       "        1.12986577e-19, 2.53515522e-17],\n",
       "       [0.00000000e+00, 1.00000000e+00, 0.00000000e+00, 0.00000000e+00,\n",
       "        0.00000000e+00, 0.00000000e+00],\n",
       "       [5.04661019e-36, 1.91864761e-04, 4.90634003e-32, 2.51582731e-24,\n",
       "        9.99808133e-01, 0.00000000e+00],\n",
       "       [0.00000000e+00, 1.00000000e+00, 0.00000000e+00, 2.26875084e-22,\n",
       "        4.67575525e-19, 0.00000000e+00],\n",
       "       [1.16442307e-22, 1.00000000e+00, 2.03168586e-23, 4.43630188e-10,\n",
       "        3.29604113e-08, 1.18582646e-24],\n",
       "       [0.00000000e+00, 1.00000000e+00, 0.00000000e+00, 3.05229191e-18,\n",
       "        1.07257554e-11, 0.00000000e+00],\n",
       "       [0.00000000e+00, 1.00000000e+00, 0.00000000e+00, 0.00000000e+00,\n",
       "        0.00000000e+00, 0.00000000e+00],\n",
       "       [1.00566483e-24, 1.00000000e+00, 4.64224800e-29, 2.78852631e-14,\n",
       "        7.82809147e-14, 6.48652416e-25],\n",
       "       [1.77777031e-06, 8.13599110e-01, 1.48605432e-06, 5.60403131e-02,\n",
       "        1.30357102e-01, 1.81407103e-07],\n",
       "       [0.00000000e+00, 1.00000000e+00, 0.00000000e+00, 1.21607361e-26,\n",
       "        1.29708418e-33, 0.00000000e+00],\n",
       "       [0.00000000e+00, 1.00000000e+00, 0.00000000e+00, 0.00000000e+00,\n",
       "        0.00000000e+00, 0.00000000e+00],\n",
       "       [1.46811609e-22, 3.66717290e-19, 8.28368556e-08, 2.97032010e-28,\n",
       "        8.07611898e-14, 9.99999881e-01],\n",
       "       [1.84849909e-19, 1.00000000e+00, 6.77524785e-24, 4.53875657e-08,\n",
       "        6.68948993e-11, 3.64114118e-23],\n",
       "       [0.00000000e+00, 1.00000000e+00, 0.00000000e+00, 5.31569713e-33,\n",
       "        1.13322881e-33, 0.00000000e+00],\n",
       "       [1.68707322e-37, 1.00000000e+00, 3.09679589e-36, 2.45331738e-24,\n",
       "        1.32874545e-26, 1.57709924e-34],\n",
       "       [7.96838567e-11, 9.99498844e-01, 1.98261364e-06, 3.75628471e-04,\n",
       "        1.23494508e-04, 2.39972431e-10]], dtype=float32)"
      ]
     },
     "execution_count": 90,
     "metadata": {},
     "output_type": "execute_result"
    }
   ],
   "source": [
    "res"
   ]
  },
  {
   "cell_type": "code",
   "execution_count": 91,
   "id": "c6809fb5-aaba-4d85-a104-a18c7238fcf4",
   "metadata": {},
   "outputs": [
    {
     "data": {
      "text/plain": [
       "'sad'"
      ]
     },
     "execution_count": 91,
     "metadata": {},
     "output_type": "execute_result"
    }
   ],
   "source": [
    "actions[np.argmax(res[4])]"
   ]
  },
  {
   "cell_type": "code",
   "execution_count": 92,
   "id": "1f7f78e1-9acc-48b7-8996-46c2f267532d",
   "metadata": {},
   "outputs": [
    {
     "data": {
      "text/plain": [
       "'happy'"
      ]
     },
     "execution_count": 92,
     "metadata": {},
     "output_type": "execute_result"
    }
   ],
   "source": [
    "actions[np.argmax(y_test[4])]"
   ]
  },
  {
   "cell_type": "code",
   "execution_count": 93,
   "id": "1fcf47a0-c3e0-4708-a9c1-0441a8dc6211",
   "metadata": {},
   "outputs": [],
   "source": [
    "# model.save('action_with_reward_1.h5')"
   ]
  },
  {
   "cell_type": "code",
   "execution_count": 94,
   "id": "f3b8d333-7911-4481-9596-ced4e9e29055",
   "metadata": {},
   "outputs": [],
   "source": [
    "from sklearn.metrics import multilabel_confusion_matrix, accuracy_score"
   ]
  },
  {
   "cell_type": "code",
   "execution_count": 95,
   "id": "284f8fd0-d79c-4d93-969c-b9d3b3cad2f8",
   "metadata": {},
   "outputs": [
    {
     "name": "stdout",
     "output_type": "stream",
     "text": [
      "2/2 [==============================] - 0s 14ms/step\n"
     ]
    }
   ],
   "source": [
    "yhat = model.predict(X_test)"
   ]
  },
  {
   "cell_type": "code",
   "execution_count": 96,
   "id": "1cb5ecfd-2c4f-479b-a3a8-958f535bc248",
   "metadata": {},
   "outputs": [],
   "source": [
    "ytrue = np.argmax(y_test, axis=1).tolist()\n",
    "yhat = np.argmax(yhat, axis=1).tolist()"
   ]
  },
  {
   "cell_type": "code",
   "execution_count": 97,
   "id": "3ebba58e-0bf0-4538-8463-def16143bc4d",
   "metadata": {},
   "outputs": [
    {
     "data": {
      "text/plain": [
       "array([[[28,  0],\n",
       "        [ 8,  0]],\n",
       "\n",
       "       [[ 3, 29],\n",
       "        [ 1,  3]],\n",
       "\n",
       "       [[28,  0],\n",
       "        [ 8,  0]],\n",
       "\n",
       "       [[29,  0],\n",
       "        [ 7,  0]],\n",
       "\n",
       "       [[30,  2],\n",
       "        [ 4,  0]],\n",
       "\n",
       "       [[29,  2],\n",
       "        [ 5,  0]]], dtype=int64)"
      ]
     },
     "execution_count": 97,
     "metadata": {},
     "output_type": "execute_result"
    }
   ],
   "source": [
    "multilabel_confusion_matrix(ytrue, yhat)"
   ]
  },
  {
   "cell_type": "code",
   "execution_count": 98,
   "id": "90aff8bb-dfcc-4cbb-8fbf-f6a10a3b75a2",
   "metadata": {},
   "outputs": [
    {
     "data": {
      "text/plain": [
       "0.08333333333333333"
      ]
     },
     "execution_count": 98,
     "metadata": {},
     "output_type": "execute_result"
    }
   ],
   "source": [
    "accuracy_score(ytrue, yhat)"
   ]
  },
  {
   "cell_type": "code",
   "execution_count": null,
   "id": "b81c4741-9b75-42bc-8961-7db954b665a4",
   "metadata": {},
   "outputs": [],
   "source": []
  },
  {
   "cell_type": "code",
   "execution_count": null,
   "id": "3ddf1914-c5b9-43cf-836d-b6acc9461837",
   "metadata": {},
   "outputs": [],
   "source": []
  },
  {
   "cell_type": "code",
   "execution_count": null,
   "id": "e31e8073-40b0-4a8e-8868-3a2279161469",
   "metadata": {},
   "outputs": [],
   "source": []
  },
  {
   "cell_type": "code",
   "execution_count": null,
   "id": "e88d33aa-b1fe-4890-8878-353a43b573fc",
   "metadata": {},
   "outputs": [],
   "source": [
    "for num, prob in enumerate(res):\n",
    "    print(num,prob)"
   ]
  },
  {
   "cell_type": "code",
   "execution_count": null,
   "id": "f3b01f73-7f85-4864-b7a6-66a84608bb79",
   "metadata": {},
   "outputs": [],
   "source": [
    "from scipy import stats"
   ]
  },
  {
   "cell_type": "code",
   "execution_count": null,
   "id": "7996d41e-8d3d-4166-9a54-1744338ed13a",
   "metadata": {},
   "outputs": [],
   "source": [
    "colors = [(245, 117, 16), (117, 245, 16), (16, 117, 245), (255, 0, 0), (0, 255, 0), (0, 0, 255)]\n",
    "\n",
    "def prob_viz(res, actions, input_frame, colors):\n",
    "    output_frame = input_frame.copy()\n",
    "    for num, prob in enumerate(res):\n",
    "        cv2.rectangle(output_frame, (0, 60 + num * 40), (int(prob * 100), 90 + num * 40), colors[num], -1)\n",
    "        cv2.putText(output_frame, actions[num], (0, 85 + num * 40), cv2.FONT_HERSHEY_SIMPLEX, 1, (255, 255, 255), 2, cv2.LINE_AA)\n",
    "    return output_frame\n"
   ]
  },
  {
   "cell_type": "code",
   "execution_count": null,
   "id": "af5c67b8-906f-438e-9080-7ed8d60b7d6e",
   "metadata": {},
   "outputs": [],
   "source": [
    "# prob_viz(res[0], actions, image, colors)"
   ]
  },
  {
   "cell_type": "code",
   "execution_count": null,
   "id": "fc9ac657-b457-40b5-935d-0ca9bf295ab5",
   "metadata": {},
   "outputs": [],
   "source": [
    "# plt.figure(figsize=(18,18))\n",
    "# plt.imshow(prob_viz(res[2], actions, image, colors))"
   ]
  },
  {
   "cell_type": "code",
   "execution_count": null,
   "id": "c330d092-e213-464b-a06a-73b733e48f10",
   "metadata": {},
   "outputs": [],
   "source": []
  },
  {
   "cell_type": "code",
   "execution_count": null,
   "id": "9bf6a51d-f55e-4711-b929-12839d82c9bc",
   "metadata": {},
   "outputs": [],
   "source": [
    "import tensorflow as tf"
   ]
  },
  {
   "cell_type": "code",
   "execution_count": null,
   "id": "f71f19c6-096d-454e-8063-90db6e2c9db5",
   "metadata": {},
   "outputs": [],
   "source": [
    "model = tf.keras.models.load_model(\"action_with_reward_1.h5\")"
   ]
  },
  {
   "cell_type": "code",
   "execution_count": null,
   "id": "6a446d35-a21e-45f7-98a6-a9af75b63a90",
   "metadata": {
    "scrolled": true
   },
   "outputs": [],
   "source": [
    "sequence = []\n",
    "sentence = []\n",
    "predictions = []\n",
    "threshold = 0.5\n",
    "\n",
    "cap = cv2.VideoCapture(\"happy19.mp4\")\n",
    "# Set mediapipe model \n",
    "with mp_holistic.Holistic(min_detection_confidence=0.5, min_tracking_confidence=0.5) as holistic:\n",
    "    while cap.isOpened():\n",
    "\n",
    "        # Read feed\n",
    "        ret, frame = cap.read()\n",
    "        if not ret or frame is None:\n",
    "            break\n",
    "\n",
    "        # Make detections\n",
    "        image, results = mediapipe_detection(frame, holistic)\n",
    "        print(results)\n",
    "        \n",
    "        # Draw landmarks\n",
    "        draw_styled_landmarks(image, results)\n",
    "        \n",
    "        # 2. Prediction logic\n",
    "        keypoints = extract_keypoints(results)\n",
    "        sequence.append(keypoints)\n",
    "        sequence = sequence[-30:]\n",
    "        \n",
    "        if len(sequence) == 30:\n",
    "            res = model.predict(np.expand_dims(sequence, axis=0))[0]\n",
    "            print(res)\n",
    "            print(actions[np.argmax(res)])\n",
    "            predictions.append(np.argmax(res))\n",
    "            \n",
    "            \n",
    "        #3. Viz logic\n",
    "            if np.unique(predictions[-10:])[0]==np.argmax(res): \n",
    "                if res[np.argmax(res)] > threshold: \n",
    "                    \n",
    "                    if len(sentence) > 0: \n",
    "                        if actions[np.argmax(res)] != sentence[-1]:\n",
    "                            sentence.append(actions[np.argmax(res)])\n",
    "                    else:\n",
    "                        sentence.append(actions[np.argmax(res)])\n",
    "\n",
    "            if len(sentence) > 5: \n",
    "                sentence = sentence[-5:]\n",
    "\n",
    "            # Viz probabilities\n",
    "            image = prob_viz(res, actions, image, colors)\n",
    "            \n",
    "        cv2.rectangle(image, (0,0), (640, 40), (245, 117, 16), -1)\n",
    "        cv2.putText(image, ' '.join(sentence), (3,30), \n",
    "                       cv2.FONT_HERSHEY_SIMPLEX, 1, (255, 255, 255), 2, cv2.LINE_AA)\n",
    "        \n",
    "        # Show to screen\n",
    "        cv2.imshow('Feed', image)\n",
    "\n",
    "        # Break gracefully\n",
    "        if cv2.waitKey(10) & 0xFF == ord('q'):\n",
    "            break\n",
    "    cap.release()\n",
    "    cv2.destroyAllWindows()"
   ]
  },
  {
   "cell_type": "code",
   "execution_count": null,
   "id": "89288a6e-1a9c-4905-b1de-ce604ef81c63",
   "metadata": {},
   "outputs": [],
   "source": []
  },
  {
   "cell_type": "code",
   "execution_count": null,
   "id": "0aca3de7-635d-411c-b6b8-0cb40c5b1eaa",
   "metadata": {
    "scrolled": true
   },
   "outputs": [],
   "source": [
    "plt.figure(figsize=(18,18))\n",
    "plt.imshow(image)"
   ]
  },
  {
   "cell_type": "code",
   "execution_count": null,
   "id": "1dc38256-9a0e-48c7-99db-a6756901fd35",
   "metadata": {
    "scrolled": true
   },
   "outputs": [],
   "source": [
    "# history"
   ]
  },
  {
   "cell_type": "code",
   "execution_count": null,
   "id": "cc9c54fd-f743-4d9d-ac7d-fbbab72aeee5",
   "metadata": {},
   "outputs": [],
   "source": [
    "res"
   ]
  },
  {
   "cell_type": "code",
   "execution_count": null,
   "id": "79cd6bb6-1866-403b-b7ba-95bc5904218d",
   "metadata": {},
   "outputs": [],
   "source": [
    "emo=['happy','sad','anger','surprise','fear','neutral']\n",
    "emo.sort()\n",
    "res\n",
    "for i in range(len(actions)):\n",
    "    print(emo[i],\"---->\",res[i])"
   ]
  },
  {
   "cell_type": "code",
   "execution_count": null,
   "id": "dfc25aca-060b-4a62-a6c6-66a708e64b42",
   "metadata": {},
   "outputs": [],
   "source": [
    "import numpy as np\n",
    "\n",
    "\n",
    "# Get the indices of the top 3 elements\n",
    "top_indices = np.argsort(res)[-2:][::-1]\n",
    "\n",
    "print(\"Indices of the top 3 elements:\", top_indices)"
   ]
  },
  {
   "cell_type": "code",
   "execution_count": null,
   "id": "af4a7648-8602-40dc-88f0-732446ded8a4",
   "metadata": {},
   "outputs": [],
   "source": [
    "ans=[]"
   ]
  },
  {
   "cell_type": "code",
   "execution_count": null,
   "id": "8c0af76a-11a9-4949-980e-d619b10157c5",
   "metadata": {},
   "outputs": [],
   "source": [
    "for i in top_indices:\n",
    "    ans.append(actions[i])"
   ]
  },
  {
   "cell_type": "code",
   "execution_count": null,
   "id": "9c25c4bf-df21-4e6f-8c8d-ddbb11630db8",
   "metadata": {},
   "outputs": [],
   "source": [
    "ans"
   ]
  },
  {
   "cell_type": "code",
   "execution_count": null,
   "id": "1bc82f49-5ca5-413c-983b-f92dd2e68521",
   "metadata": {},
   "outputs": [],
   "source": []
  },
  {
   "cell_type": "code",
   "execution_count": null,
   "id": "1cae9046-c3c9-479d-bcc5-1e6badefc4c4",
   "metadata": {},
   "outputs": [],
   "source": []
  },
  {
   "cell_type": "code",
   "execution_count": null,
   "id": "d2ae58bb-7c82-4950-95c6-5b703b0eae4e",
   "metadata": {
    "scrolled": true
   },
   "outputs": [],
   "source": [
    "sequence = []\n",
    "sentence = []\n",
    "predictions = []\n",
    "threshold = 0.5\n",
    "\n",
    "cap = cv2.VideoCapture(\"J:/AUTISM DETECTION PROJECT/3DCNN/videos/sad/sad30.mp4\")\n",
    "# Set mediapipe model \n",
    "with mp_holistic.Holistic(min_detection_confidence=0.5, min_tracking_confidence=0.5) as holistic:\n",
    "    while cap.isOpened():\n",
    "\n",
    "        # Read feed\n",
    "        ret, frame = cap.read()\n",
    "        if not ret or frame is None:\n",
    "            break\n",
    "\n",
    "        # Make detections\n",
    "        image, results = mediapipe_detection(frame, holistic)\n",
    "        print(results)\n",
    "        \n",
    "        # Draw landmarks\n",
    "        draw_styled_landmarks(image, results)\n",
    "        \n",
    "        # 2. Prediction logic\n",
    "        keypoints = extract_keypoints(results)\n",
    "        sequence.append(keypoints)\n",
    "        sequence = sequence[-30:]\n",
    "        \n",
    "        if len(sequence) == 30:\n",
    "            res = model.predict(np.expand_dims(sequence, axis=0))[0]\n",
    "            print(res)\n",
    "            print(actions[np.argmax(res)])\n",
    "            predictions.append(np.argmax(res))\n",
    "            \n",
    "            \n",
    "        #3. Viz logic\n",
    "            if np.unique(predictions[-10:])[0]==np.argmax(res): \n",
    "                if res[np.argmax(res)] > threshold: \n",
    "                    \n",
    "                    if len(sentence) > 0: \n",
    "                        if actions[np.argmax(res)] != sentence[-1]:\n",
    "                            sentence.append(actions[np.argmax(res)])\n",
    "                    else:\n",
    "                        sentence.append(actions[np.argmax(res)])\n",
    "\n",
    "            if len(sentence) > 5: \n",
    "                sentence = sentence[-5:]\n",
    "\n",
    "            # Viz probabilities\n",
    "            image = prob_viz(res, actions, image, colors)\n",
    "            \n",
    "        cv2.rectangle(image, (0,0), (640, 40), (245, 117, 16), -1)\n",
    "        cv2.putText(image, ' '.join(sentence), (3,30), \n",
    "                       cv2.FONT_HERSHEY_SIMPLEX, 1, (255, 255, 255), 2, cv2.LINE_AA)\n",
    "        \n",
    "        # Show to screen\n",
    "        cv2.imshow('Feed', image)\n",
    "\n",
    "        # Break gracefully\n",
    "        if cv2.waitKey(10) & 0xFF == ord('q'):\n",
    "            break\n",
    "    cap.release()\n",
    "    cv2.destroyAllWindows()"
   ]
  },
  {
   "cell_type": "code",
   "execution_count": null,
   "id": "ce04377f-e192-4f66-aa45-b07cf65263e2",
   "metadata": {},
   "outputs": [],
   "source": [
    "res"
   ]
  },
  {
   "cell_type": "code",
   "execution_count": null,
   "id": "cc868c24-6412-4589-ba22-ecee387cf965",
   "metadata": {},
   "outputs": [],
   "source": [
    "emo=['happy','sad','anger','surprise','fear','neutral']\n",
    "emo.sort()\n",
    "res\n",
    "for i in range(len(actions)):\n",
    "    print(emo[i],\"---->\",res[i])"
   ]
  },
  {
   "cell_type": "code",
   "execution_count": null,
   "id": "5775f72a-354b-45ca-b229-27024578d5ca",
   "metadata": {
    "scrolled": true
   },
   "outputs": [],
   "source": [
    "plt.figure(figsize=(18,18))\n",
    "plt.imshow(image)"
   ]
  },
  {
   "cell_type": "code",
   "execution_count": null,
   "id": "b7976aad-ae8a-4306-8564-2ce8bfafc739",
   "metadata": {},
   "outputs": [],
   "source": []
  },
  {
   "cell_type": "code",
   "execution_count": null,
   "id": "1be692a4-ea6b-47c9-a242-669e3ddfec65",
   "metadata": {
    "scrolled": true
   },
   "outputs": [],
   "source": [
    "sequence = []\n",
    "sentence = []\n",
    "predictions = []\n",
    "threshold = 0.5\n",
    "\n",
    "actions=['happy','sad','anger','surprise','fear','neutral']\n",
    "actions.sort()\n",
    "\n",
    "cap = cv2.VideoCapture(\"fear20.mp4\")\n",
    "# Set mediapipe model \n",
    "with mp_holistic.Holistic(min_detection_confidence=0.5, min_tracking_confidence=0.5) as holistic:\n",
    "    while cap.isOpened():\n",
    "\n",
    "        # Read feed\n",
    "        ret, frame = cap.read()\n",
    "        if not ret or frame is None:\n",
    "            break\n",
    "\n",
    "        # Make detections\n",
    "        image, results = mediapipe_detection(frame, holistic)\n",
    "        print(results)\n",
    "        \n",
    "        # Draw landmarks\n",
    "        draw_styled_landmarks(image, results)\n",
    "        \n",
    "        # 2. Prediction logic\n",
    "        keypoints = extract_keypoints(results)\n",
    "        sequence.append(keypoints)\n",
    "        sequence = sequence[-30:]\n",
    "        \n",
    "        if len(sequence) == 30:\n",
    "            res = model.predict(np.expand_dims(sequence, axis=0))[0]\n",
    "            print(res)\n",
    "            print(actions[np.argmax(res)])\n",
    "            predictions.append(np.argmax(res))\n",
    "            \n",
    "            if np.unique(predictions[-10:])[0]==np.argmax(res): \n",
    "                if res[np.argmax(res)] > threshold: \n",
    "                    \n",
    "                    if len(sentence) > 0: \n",
    "                        if actions[np.argmax(res)] != sentence[-1]:\n",
    "                            sentence.append(actions[np.argmax(res)])\n",
    "                    else:\n",
    "                        sentence.append(actions[np.argmax(res)])\n",
    "\n",
    "            if len(sentence) > 5: \n",
    "                sentence = sentence[-5:]\n",
    "\n",
    "            image = prob_viz(res, actions, image, colors)\n",
    "            \n",
    "        # cv2.rectangle(image, (0,0), (640, 40), (245, 117, 16), -1)\n",
    "        # cv2.putText(image, ' '.join(sentence), (3,30), \n",
    "        #                cv2.FONT_HERSHEY_SIMPLEX, 1, (255, 255, 255), 2, cv2.LINE_AA)\n",
    "        \n",
    "        cv2.imshow('Feed', image)\n",
    "\n",
    "        if cv2.waitKey(10) & 0xFF == ord('q'):\n",
    "            break\n",
    "    cap.release()\n",
    "    cv2.destroyAllWindows()"
   ]
  },
  {
   "cell_type": "code",
   "execution_count": null,
   "id": "37d84d65-1460-4a8d-80bb-e6ccc2f1011a",
   "metadata": {},
   "outputs": [],
   "source": [
    "res"
   ]
  },
  {
   "cell_type": "code",
   "execution_count": null,
   "id": "e5dc4981-399a-48c3-ae51-c8d839399cbf",
   "metadata": {},
   "outputs": [],
   "source": [
    "for i in range(len(actions)):\n",
    "    print(actions[i],\"---->\",float(res[i]))"
   ]
  },
  {
   "cell_type": "code",
   "execution_count": null,
   "id": "e8f947ea-ed3f-4a80-b141-2aeafc52f074",
   "metadata": {},
   "outputs": [],
   "source": [
    "resized_image = cv2.resize(cv2.cvtColor(image, cv2.COLOR_BGR2RGB), (650, 650))\n",
    "plt.imshow(resized_image)\n",
    "plt.show()"
   ]
  },
  {
   "cell_type": "code",
   "execution_count": null,
   "id": "8e937119-7200-4963-a26c-29a21037be94",
   "metadata": {},
   "outputs": [],
   "source": []
  }
 ],
 "metadata": {
  "kernelspec": {
   "display_name": "Python 3 (ipykernel)",
   "language": "python",
   "name": "python3"
  },
  "language_info": {
   "codemirror_mode": {
    "name": "ipython",
    "version": 3
   },
   "file_extension": ".py",
   "mimetype": "text/x-python",
   "name": "python",
   "nbconvert_exporter": "python",
   "pygments_lexer": "ipython3",
   "version": "3.11.4"
  }
 },
 "nbformat": 4,
 "nbformat_minor": 5
}

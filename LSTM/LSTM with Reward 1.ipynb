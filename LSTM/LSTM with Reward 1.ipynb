{
 "cells": [
  {
   "cell_type": "code",
   "execution_count": null,
   "id": "16022040-5157-4cf9-8068-c49426c8f799",
   "metadata": {},
   "outputs": [],
   "source": [
    "# !pip install mediapipe"
   ]
  },
  {
   "cell_type": "code",
   "execution_count": 1,
   "id": "1104ebbf-97a5-48b3-9233-17c9da023e05",
   "metadata": {},
   "outputs": [],
   "source": [
    "import cv2\n",
    "import numpy as np\n",
    "import os\n",
    "from matplotlib import pyplot as plt\n",
    "import time\n",
    "import mediapipe as mp"
   ]
  },
  {
   "cell_type": "markdown",
   "id": "d29bb235-f0a3-432a-b6fe-130fd2e57095",
   "metadata": {},
   "source": [
    "## KEYPOINT EXTRACTION"
   ]
  },
  {
   "cell_type": "code",
   "execution_count": 2,
   "id": "6e46526b-0577-4a30-9430-78b58cb2a81a",
   "metadata": {},
   "outputs": [
    {
     "data": {
      "text/plain": [
       "<module 'mediapipe' from 'H:\\\\PYTHON\\\\PYTHON SYSTEM FILES\\\\Lib\\\\site-packages\\\\mediapipe\\\\__init__.py'>"
      ]
     },
     "execution_count": 2,
     "metadata": {},
     "output_type": "execute_result"
    }
   ],
   "source": [
    "mp"
   ]
  },
  {
   "cell_type": "code",
   "execution_count": 3,
   "id": "9f2cbb71-6772-42f2-a018-c2c9c4e921d1",
   "metadata": {},
   "outputs": [],
   "source": [
    "mp_holistic = mp.solutions.holistic\n",
    "mp_drawing = mp.solutions.drawing_utils"
   ]
  },
  {
   "cell_type": "code",
   "execution_count": 4,
   "id": "73a21f6e-1bbf-4c24-86bc-3bb187173e9f",
   "metadata": {},
   "outputs": [
    {
     "data": {
      "text/plain": [
       "<module 'mediapipe.python.solutions.holistic' from 'H:\\\\PYTHON\\\\PYTHON SYSTEM FILES\\\\Lib\\\\site-packages\\\\mediapipe\\\\python\\\\solutions\\\\holistic.py'>"
      ]
     },
     "execution_count": 4,
     "metadata": {},
     "output_type": "execute_result"
    }
   ],
   "source": [
    "mp_holistic"
   ]
  },
  {
   "cell_type": "code",
   "execution_count": null,
   "id": "9e69f905-6924-4bd2-9816-c7bb0434f456",
   "metadata": {},
   "outputs": [],
   "source": []
  },
  {
   "cell_type": "code",
   "execution_count": 5,
   "id": "4ed74f7f-e394-4138-ba7a-b45e4b5bc91d",
   "metadata": {},
   "outputs": [],
   "source": [
    "def mediapipe_detection(image, model):\n",
    "    image = cv2.cvtColor(image, cv2.COLOR_BGR2RGB)\n",
    "    image.flags.writeable = False                  \n",
    "    results = model.process(image)                \n",
    "    image.flags.writeable = True                   \n",
    "    image = cv2.cvtColor(image, cv2.COLOR_RGB2BGR) \n",
    "    return image, results"
   ]
  },
  {
   "cell_type": "code",
   "execution_count": null,
   "id": "59fc2cad-075d-466b-bfbe-12d851becf58",
   "metadata": {},
   "outputs": [],
   "source": []
  },
  {
   "cell_type": "code",
   "execution_count": 6,
   "id": "e091b913-87f3-4511-bbcf-b52ca7fe2511",
   "metadata": {},
   "outputs": [],
   "source": [
    "def draw_landmarks(image, results):\n",
    "    mp_drawing.draw_landmarks(image, results.face_landmarks, mp_holistic.FACEMESH_CONTOURS) # face connections\n",
    "    mp_drawing.draw_landmarks(image, results.pose_landmarks, mp_holistic.POSE_CONNECTIONS) # pose connections\n",
    "    mp_drawing.draw_landmarks(image, results.left_hand_landmarks, mp_holistic.HAND_CONNECTIONS) # left hand connections\n",
    "    mp_drawing.draw_landmarks(image, results.right_hand_landmarks, mp_holistic.HAND_CONNECTIONS) # right hand connections"
   ]
  },
  {
   "cell_type": "code",
   "execution_count": null,
   "id": "c59a2614-3bdf-4de7-82e5-3702600b48ac",
   "metadata": {},
   "outputs": [],
   "source": []
  },
  {
   "cell_type": "code",
   "execution_count": 7,
   "id": "8e260e47-7896-4ae4-badf-108cc4c10476",
   "metadata": {},
   "outputs": [],
   "source": [
    "def draw_styled_landmarks(image, results):\n",
    "    mp_drawing.draw_landmarks(image, results.face_landmarks, mp_holistic.FACEMESH_CONTOURS, \n",
    "                             mp_drawing.DrawingSpec(color=(80,110,10), thickness=1, circle_radius=1), \n",
    "                             mp_drawing.DrawingSpec(color=(80,256,121), thickness=1, circle_radius=1)\n",
    "                             ) \n",
    "\n",
    "    \n",
    "    mp_drawing.draw_landmarks(image, results.pose_landmarks, mp_holistic.POSE_CONNECTIONS,\n",
    "                             mp_drawing.DrawingSpec(color=(80,22,10), thickness=2, circle_radius=4), \n",
    "                             mp_drawing.DrawingSpec(color=(80,44,121), thickness=2, circle_radius=2)\n",
    "                             ) \n",
    "   \n",
    "    mp_drawing.draw_landmarks(image, results.left_hand_landmarks, mp_holistic.HAND_CONNECTIONS, \n",
    "                             mp_drawing.DrawingSpec(color=(121,22,76), thickness=2, circle_radius=4), \n",
    "                             mp_drawing.DrawingSpec(color=(121,44,250), thickness=2, circle_radius=2)\n",
    "                             ) \n",
    "      \n",
    "    mp_drawing.draw_landmarks(image, results.right_hand_landmarks, mp_holistic.HAND_CONNECTIONS, \n",
    "                             mp_drawing.DrawingSpec(color=(245,117,66), thickness=2, circle_radius=4), \n",
    "                             mp_drawing.DrawingSpec(color=(245,66,230), thickness=2, circle_radius=2)\n",
    "                             ) "
   ]
  },
  {
   "cell_type": "code",
   "execution_count": 9,
   "id": "25b294a1-5d64-4ae6-b607-65af014af7d0",
   "metadata": {
    "scrolled": true
   },
   "outputs": [
    {
     "name": "stdout",
     "output_type": "stream",
     "text": [
      "<class 'mediapipe.python.solution_base.SolutionOutputs'>\n",
      "<class 'mediapipe.python.solution_base.SolutionOutputs'>\n",
      "<class 'mediapipe.python.solution_base.SolutionOutputs'>\n",
      "<class 'mediapipe.python.solution_base.SolutionOutputs'>\n",
      "<class 'mediapipe.python.solution_base.SolutionOutputs'>\n",
      "<class 'mediapipe.python.solution_base.SolutionOutputs'>\n",
      "<class 'mediapipe.python.solution_base.SolutionOutputs'>\n",
      "<class 'mediapipe.python.solution_base.SolutionOutputs'>\n"
     ]
    }
   ],
   "source": [
    "cap = cv2.VideoCapture(\"J:/AUTISM DETECTION PROJECT/3DCNN/videos/fear/fear20.mp4\")\n",
    "\n",
    "with mp_holistic.Holistic(min_detection_confidence=0.5, min_tracking_confidence=0.5) as holistic:\n",
    "    while cap.isOpened():\n",
    "        ret, frame = cap.read()\n",
    "        \n",
    "        image, results = mediapipe_detection(frame, holistic)\n",
    "        print(results)\n",
    "        \n",
    "        # Draw landmarks\n",
    "        draw_styled_landmarks(image, results)\n",
    "\n",
    "        cv2.imshow('OpenCV Feed', image)\n",
    "\n",
    "        # Break gracefully\n",
    "        if cv2.waitKey(10) & 0xFF == ord('q'):\n",
    "            break\n",
    "    cap.release()\n",
    "    cv2.destroyAllWindows()"
   ]
  },
  {
   "cell_type": "code",
   "execution_count": 10,
   "id": "c288e1e5-92a6-40ce-a1af-de08dd1d3244",
   "metadata": {
    "scrolled": true
   },
   "outputs": [],
   "source": [
    "# frame"
   ]
  },
  {
   "cell_type": "code",
   "execution_count": 11,
   "id": "0b6d77dd-eaaf-41f5-a8e2-8114de2fecc1",
   "metadata": {},
   "outputs": [],
   "source": [
    "# from PIL import Image\n",
    "# import numpy as np\n",
    "\n",
    "# # Open the image using Pillow (PIL)\n",
    "# image_path = \"20.jpg\"\n",
    "# image = Image.open(image_path)\n",
    "\n",
    "# # Convert the image to a NumPy array\n",
    "# image_array = np.array(image)"
   ]
  },
  {
   "cell_type": "code",
   "execution_count": 12,
   "id": "272a1368-1498-41aa-be7d-f0fcc43f4540",
   "metadata": {
    "scrolled": true
   },
   "outputs": [],
   "source": [
    "# image_array"
   ]
  },
  {
   "cell_type": "code",
   "execution_count": 13,
   "id": "d7c40f6f-628b-423d-943a-d33f00f668dc",
   "metadata": {},
   "outputs": [],
   "source": [
    "with mp_holistic.Holistic(min_detection_confidence=0.5, min_tracking_confidence=0.5) as holistic:\n",
    "    image, results = mediapipe_detection(frame, holistic)\n",
    "\n",
    "    draw_styled_landmarks(frame, results)"
   ]
  },
  {
   "cell_type": "code",
   "execution_count": 14,
   "id": "9884f235-d345-4fd9-b78d-1c0bcca43220",
   "metadata": {},
   "outputs": [
    {
     "data": {
      "text/plain": [
       "<matplotlib.image.AxesImage at 0x1dfccd66c10>"
      ]
     },
     "execution_count": 14,
     "metadata": {},
     "output_type": "execute_result"
    },
    {
     "data": {
      "image/png": "[encoded data removed]",
      "text/plain": [
       "<Figure size 640x480 with 1 Axes>"
      ]
     },
     "metadata": {},
     "output_type": "display_data"
    }
   ],
   "source": [
    "plt.imshow(cv2.cvtColor(frame, cv2.COLOR_BGR2RGB))"
   ]
  },
  {
   "cell_type": "code",
   "execution_count": null,
   "id": "47da2763-8fcd-4046-9f88-1332aa93a36b",
   "metadata": {},
   "outputs": [],
   "source": []
  },
  {
   "cell_type": "code",
   "execution_count": null,
   "id": "f482c4f2-a041-4f77-91ab-161d24d1dce8",
   "metadata": {},
   "outputs": [],
   "source": []
  },
  {
   "cell_type": "code",
   "execution_count": 15,
   "id": "950b8d9c-a8ef-4e4b-bfe9-a90f589c4dfc",
   "metadata": {},
   "outputs": [
    {
     "data": {
      "text/plain": [
       "468"
      ]
     },
     "execution_count": 15,
     "metadata": {},
     "output_type": "execute_result"
    }
   ],
   "source": [
    "len(results.face_landmarks.landmark)"
   ]
  },
  {
   "cell_type": "code",
   "execution_count": null,
   "id": "66aa9357-b4a2-492d-8975-b37490a02637",
   "metadata": {},
   "outputs": [],
   "source": []
  },
  {
   "cell_type": "code",
   "execution_count": 16,
   "id": "1a38630b-cf0b-4612-80c6-55d69b54da4e",
   "metadata": {
    "scrolled": true
   },
   "outputs": [
    {
     "data": {
      "text/plain": [
       "[x: 0.6538714\n",
       "y: 0.4720751\n",
       "z: -1.6284484\n",
       "visibility: 0.9992755\n",
       ", x: 0.6833113\n",
       "y: 0.4098862\n",
       "z: -1.4774656\n",
       "visibility: 0.999253\n",
       ", x: 0.7067708\n",
       "y: 0.41458383\n",
       "z: -1.4777265\n",
       "visibility: 0.9990287\n",
       ", x: 0.7313858\n",
       "y: 0.41958904\n",
       "z: -1.4780777\n",
       "visibility: 0.9991203\n",
       ", x: 0.5969684\n",
       "y: 0.40055406\n",
       "z: -1.5203131\n",
       "visibility: 0.99925643\n",
       ", x: 0.5588832\n",
       "y: 0.40080655\n",
       "z: -1.5194384\n",
       "visibility: 0.9991755\n",
       ", x: 0.5219446\n",
       "y: 0.4023267\n",
       "z: -1.5200379\n",
       "visibility: 0.9993736\n",
       ", x: 0.7394533\n",
       "y: 0.45412266\n",
       "z: -0.6195051\n",
       "visibility: 0.9995466\n",
       ", x: 0.43805575\n",
       "y: 0.4403205\n",
       "z: -0.77333444\n",
       "visibility: 0.9997142\n",
       ", x: 0.6977755\n",
       "y: 0.56352115\n",
       "z: -1.3122424\n",
       "visibility: 0.999355\n",
       ", x: 0.586344\n",
       "y: 0.5495453\n",
       "z: -1.3618919\n",
       "visibility: 0.999358\n",
       ", x: 0.856897\n",
       "y: 0.79163295\n",
       "z: -0.1557897\n",
       "visibility: 0.984125\n",
       ", x: 0.22438934\n",
       "y: 0.7733591\n",
       "z: -0.45798165\n",
       "visibility: 0.98052245\n",
       ", x: 1.354174\n",
       "y: 0.8796799\n",
       "z: -0.6367673\n",
       "visibility: 0.7178158\n",
       ", x: -0.066934764\n",
       "y: 0.93166417\n",
       "z: -1.2835796\n",
       "visibility: 0.87125015\n",
       ", x: 1.0053871\n",
       "y: 0.54480946\n",
       "z: -0.83479434\n",
       "visibility: 0.757406\n",
       ", x: 0.10616643\n",
       "y: 0.5230888\n",
       "z: -2.041902\n",
       "visibility: 0.6768867\n",
       ", x: 0.893043\n",
       "y: 0.40686655\n",
       "z: -0.9337259\n",
       "visibility: 0.50210685\n",
       ", x: 0.17030177\n",
       "y: 0.54970026\n",
       "z: -2.241885\n",
       "visibility: 0.46705648\n",
       ", x: 0.8787238\n",
       "y: 0.42514595\n",
       "z: -0.70690894\n",
       "visibility: 0.5096814\n",
       ", x: 0.18082517\n",
       "y: 0.469352\n",
       "z: -2.090275\n",
       "visibility: 0.5034633\n",
       ", x: 0.87918854\n",
       "y: 0.49283838\n",
       "z: -0.7753229\n",
       "visibility: 0.53081673\n",
       ", x: 0.19693296\n",
       "y: 0.52709365\n",
       "z: -2.0294316\n",
       "visibility: 0.5178625\n",
       ", x: 0.8122571\n",
       "y: 1.6936728\n",
       "z: -0.08099602\n",
       "visibility: 0.0032147984\n",
       ", x: 0.34603488\n",
       "y: 1.6982627\n",
       "z: 0.08794921\n",
       "visibility: 0.0027906427\n",
       ", x: 0.803622\n",
       "y: 2.5041378\n",
       "z: -0.12239318\n",
       "visibility: 0.0059588086\n",
       ", x: 0.38483095\n",
       "y: 2.511819\n",
       "z: 0.21472767\n",
       "visibility: 0.0026023658\n",
       ", x: 0.810589\n",
       "y: 3.2249877\n",
       "z: 0.82183915\n",
       "visibility: 0.00035272786\n",
       ", x: 0.41251653\n",
       "y: 3.232031\n",
       "z: 0.89110607\n",
       "visibility: 8.366572e-05\n",
       ", x: 0.8190765\n",
       "y: 3.3235922\n",
       "z: 0.85397804\n",
       "visibility: 0.00026811654\n",
       ", x: 0.40600222\n",
       "y: 3.3315914\n",
       "z: 0.9348114\n",
       "visibility: 0.00026303888\n",
       ", x: 0.76740867\n",
       "y: 3.4503706\n",
       "z: -0.20250799\n",
       "visibility: 0.00026321848\n",
       ", x: 0.4684402\n",
       "y: 3.4614139\n",
       "z: -0.21574396\n",
       "visibility: 0.00048028442\n",
       "]"
      ]
     },
     "execution_count": 16,
     "metadata": {},
     "output_type": "execute_result"
    }
   ],
   "source": [
    "results.pose_landmarks.landmark"
   ]
  },
  {
   "cell_type": "code",
   "execution_count": 17,
   "id": "dbb6f9cf-0829-4d1d-916f-84c1d55ddab3",
   "metadata": {},
   "outputs": [],
   "source": [
    "pose = []\n",
    "for res in results.pose_landmarks.landmark:\n",
    "    test = np.array([res.x, res.y, res.z, res.visibility])\n",
    "    pose.append(test)"
   ]
  },
  {
   "cell_type": "code",
   "execution_count": 18,
   "id": "0c62f53f-5f1f-4a55-8f7c-86383df2f423",
   "metadata": {},
   "outputs": [
    {
     "data": {
      "text/plain": [
       "[array([ 0.65387142,  0.4720751 , -1.62844837,  0.99927551]),\n",
       " array([ 0.68331128,  0.40988621, -1.47746563,  0.99925297]),\n",
       " array([ 0.70677078,  0.41458383, -1.47772646,  0.99902868]),\n",
       " array([ 0.73138583,  0.41958904, -1.47807765,  0.9991203 ]),\n",
       " array([ 0.59696841,  0.40055406, -1.52031314,  0.99925643]),\n",
       " array([ 0.55888319,  0.40080655, -1.51943839,  0.99917549]),\n",
       " array([ 0.52194458,  0.4023267 , -1.52003789,  0.99937361]),\n",
       " array([ 0.73945332,  0.45412266, -0.61950511,  0.99954659]),\n",
       " array([ 0.43805575,  0.44032049, -0.77333444,  0.9997142 ]),\n",
       " array([ 0.69777548,  0.56352115, -1.31224239,  0.99935502]),\n",
       " array([ 0.586344  ,  0.54954529, -1.36189187,  0.999358  ]),\n",
       " array([ 0.856897  ,  0.79163295, -0.1557897 ,  0.98412502]),\n",
       " array([ 0.22438934,  0.77335912, -0.45798165,  0.98052245]),\n",
       " array([ 1.35417402,  0.87967992, -0.63676733,  0.71781582]),\n",
       " array([-0.06693476,  0.93166417, -1.28357959,  0.87125015]),\n",
       " array([ 1.00538707,  0.54480946, -0.83479434,  0.757406  ]),\n",
       " array([ 0.10616643,  0.52308881, -2.04190207,  0.67688668]),\n",
       " array([ 0.89304298,  0.40686655, -0.93372589,  0.50210685]),\n",
       " array([ 0.17030177,  0.54970026, -2.24188495,  0.46705648]),\n",
       " array([ 0.8787238 ,  0.42514595, -0.70690894,  0.5096814 ]),\n",
       " array([ 0.18082517,  0.46935201, -2.09027505,  0.50346333]),\n",
       " array([ 0.87918854,  0.49283838, -0.77532291,  0.53081673]),\n",
       " array([ 0.19693296,  0.52709365, -2.02943158,  0.5178625 ]),\n",
       " array([ 0.81225711,  1.69367278, -0.08099602,  0.0032148 ]),\n",
       " array([0.34603488, 1.69826269, 0.08794921, 0.00279064]),\n",
       " array([ 0.80362201,  2.50413775, -0.12239318,  0.00595881]),\n",
       " array([0.38483095, 2.51181889, 0.21472767, 0.00260237]),\n",
       " array([8.10589015e-01, 3.22498775e+00, 8.21839154e-01, 3.52727860e-04]),\n",
       " array([4.12516534e-01, 3.23203111e+00, 8.91106069e-01, 8.36657200e-05]),\n",
       " array([8.19076478e-01, 3.32359219e+00, 8.53978038e-01, 2.68116535e-04]),\n",
       " array([4.06002223e-01, 3.33159137e+00, 9.34811413e-01, 2.63038877e-04]),\n",
       " array([ 7.67408669e-01,  3.45037055e+00, -2.02507988e-01,  2.63218477e-04]),\n",
       " array([ 4.68440205e-01,  3.46141386e+00, -2.15743959e-01,  4.80284420e-04])]"
      ]
     },
     "execution_count": 18,
     "metadata": {},
     "output_type": "execute_result"
    }
   ],
   "source": [
    "pose"
   ]
  },
  {
   "cell_type": "code",
   "execution_count": 19,
   "id": "ea61e0eb-b7d5-490a-97ad-c21f85c304b2",
   "metadata": {},
   "outputs": [],
   "source": [
    "#33 for pose\n",
    "pose = np.array([[res.x, res.y, res.z, res.visibility] for res in results.pose_landmarks.landmark]).flatten() if results.pose_landmarks else np.zeros(132)\n",
    "#468 for face\n",
    "face = np.array([[res.x, res.y, res.z] for res in results.face_landmarks.landmark]).flatten() if results.face_landmarks else np.zeros(1404)\n",
    "#21 for hand\n",
    "lh = np.array([[res.x, res.y, res.z] for res in results.left_hand_landmarks.landmark]).flatten() if results.left_hand_landmarks else np.zeros(21*3)\n",
    "rh = np.array([[res.x, res.y, res.z] for res in results.right_hand_landmarks.landmark]).flatten() if results.right_hand_landmarks else np.zeros(21*3)"
   ]
  },
  {
   "cell_type": "code",
   "execution_count": 20,
   "id": "2ce89f82-0ebe-4a5f-abc3-b99296f6502b",
   "metadata": {},
   "outputs": [
    {
     "data": {
      "text/plain": [
       "1404"
      ]
     },
     "execution_count": 20,
     "metadata": {},
     "output_type": "execute_result"
    }
   ],
   "source": [
    "len(face)"
   ]
  },
  {
   "cell_type": "code",
   "execution_count": 21,
   "id": "2d5a2193-8759-428f-ba9d-925efb52512b",
   "metadata": {},
   "outputs": [
    {
     "data": {
      "text/plain": [
       "(array([0., 0., 0., 0., 0., 0., 0., 0., 0., 0., 0., 0., 0., 0., 0., 0., 0.,\n",
       "        0., 0., 0., 0., 0., 0., 0., 0., 0., 0., 0., 0., 0., 0., 0., 0., 0.,\n",
       "        0., 0., 0., 0., 0., 0., 0., 0., 0., 0., 0., 0., 0., 0., 0., 0., 0.,\n",
       "        0., 0., 0., 0., 0., 0., 0., 0., 0., 0., 0., 0.]),\n",
       " array([0., 0., 0., 0., 0., 0., 0., 0., 0., 0., 0., 0., 0., 0., 0., 0., 0.,\n",
       "        0., 0., 0., 0., 0., 0., 0., 0., 0., 0., 0., 0., 0., 0., 0., 0., 0.,\n",
       "        0., 0., 0., 0., 0., 0., 0., 0., 0., 0., 0., 0., 0., 0., 0., 0., 0.,\n",
       "        0., 0., 0., 0., 0., 0., 0., 0., 0., 0., 0., 0.]))"
      ]
     },
     "execution_count": 21,
     "metadata": {},
     "output_type": "execute_result"
    }
   ],
   "source": [
    "lh,rh"
   ]
  },
  {
   "cell_type": "code",
   "execution_count": 22,
   "id": "1e9bf9de-36d5-4f89-bc23-505c0f104a79",
   "metadata": {},
   "outputs": [],
   "source": [
    "face = np.array([[res.x, res.y, res.z] for res in results.face_landmarks.landmark]).flatten() if results.face_landmarks else np.zeros(1404)"
   ]
  },
  {
   "cell_type": "code",
   "execution_count": 23,
   "id": "b9dbd8b4-c568-4df1-9671-06b070e04a99",
   "metadata": {},
   "outputs": [
    {
     "data": {
      "text/plain": [
       "array([ 0.68555963,  0.52090037, -0.05193463, ...,  0.74675614,\n",
       "        0.40903342,  0.08246467])"
      ]
     },
     "execution_count": 23,
     "metadata": {},
     "output_type": "execute_result"
    }
   ],
   "source": [
    "face"
   ]
  },
  {
   "cell_type": "code",
   "execution_count": null,
   "id": "fa8ab11f-c884-4ef9-9468-debb9fc4ad01",
   "metadata": {},
   "outputs": [],
   "source": []
  },
  {
   "cell_type": "code",
   "execution_count": 24,
   "id": "5699a1d4-0cee-4b96-879f-1ca7c91dffad",
   "metadata": {},
   "outputs": [],
   "source": [
    "def extract_keypoints(results):\n",
    "    pose = np.array([[res.x, res.y, res.z, res.visibility] for res in results.pose_landmarks.landmark]).flatten() if results.pose_landmarks else np.zeros(33*4)\n",
    "    face = np.array([[res.x, res.y, res.z] for res in results.face_landmarks.landmark]).flatten() if results.face_landmarks else np.zeros(468*3)\n",
    "    lh = np.array([[res.x, res.y, res.z] for res in results.left_hand_landmarks.landmark]).flatten() if results.left_hand_landmarks else np.zeros(21*3)\n",
    "    rh = np.array([[res.x, res.y, res.z] for res in results.right_hand_landmarks.landmark]).flatten() if results.right_hand_landmarks else np.zeros(21*3)\n",
    "    return np.concatenate([pose, face, lh, rh])\n"
   ]
  },
  {
   "cell_type": "code",
   "execution_count": null,
   "id": "07a6ed65-d8bc-45b1-99b0-d5da5ee4020f",
   "metadata": {},
   "outputs": [],
   "source": []
  },
  {
   "cell_type": "code",
   "execution_count": 25,
   "id": "712b8eed-9db6-4dac-bf02-3e43ad41a390",
   "metadata": {},
   "outputs": [],
   "source": [
    "result_test = extract_keypoints(results)"
   ]
  },
  {
   "cell_type": "code",
   "execution_count": 26,
   "id": "8d0afc49-4ebe-4b3c-8e25-18a90b7485dd",
   "metadata": {},
   "outputs": [
    {
     "data": {
      "text/plain": [
       "array([ 0.65387142,  0.4720751 , -1.62844837, ...,  0.        ,\n",
       "        0.        ,  0.        ])"
      ]
     },
     "execution_count": 26,
     "metadata": {},
     "output_type": "execute_result"
    }
   ],
   "source": [
    "result_test"
   ]
  },
  {
   "cell_type": "code",
   "execution_count": 27,
   "id": "a889afad-4f1d-4fbe-a8fd-90504cd6e278",
   "metadata": {},
   "outputs": [
    {
     "data": {
      "text/plain": [
       "1662"
      ]
     },
     "execution_count": 27,
     "metadata": {},
     "output_type": "execute_result"
    }
   ],
   "source": [
    "468*3+33*4+21*3+21*3"
   ]
  },
  {
   "cell_type": "code",
   "execution_count": 28,
   "id": "bb15cfe2-a47c-4555-865b-bcc72eff2ca3",
   "metadata": {},
   "outputs": [
    {
     "data": {
      "text/plain": [
       "1662"
      ]
     },
     "execution_count": 28,
     "metadata": {},
     "output_type": "execute_result"
    }
   ],
   "source": [
    "len(result_test)"
   ]
  },
  {
   "cell_type": "code",
   "execution_count": 29,
   "id": "b33e1658-452c-491d-bf15-68fcc1033616",
   "metadata": {},
   "outputs": [],
   "source": [
    "np.save('0', result_test)"
   ]
  },
  {
   "cell_type": "code",
   "execution_count": 30,
   "id": "51fa075d-332b-4caf-aa92-185ce5cbfb66",
   "metadata": {},
   "outputs": [
    {
     "data": {
      "text/plain": [
       "array([ 0.65387142,  0.4720751 , -1.62844837, ...,  0.        ,\n",
       "        0.        ,  0.        ])"
      ]
     },
     "execution_count": 30,
     "metadata": {},
     "output_type": "execute_result"
    }
   ],
   "source": [
    "np.load('0.npy')"
   ]
  },
  {
   "cell_type": "code",
   "execution_count": null,
   "id": "eb75652d-8103-470a-83c6-63392e56f7fd",
   "metadata": {},
   "outputs": [],
   "source": []
  },
  {
   "cell_type": "code",
   "execution_count": null,
   "id": "f5b86001-6bcc-4e27-9591-760e1f24b147",
   "metadata": {},
   "outputs": [],
   "source": []
  },
  {
   "cell_type": "markdown",
   "id": "eeb245fe-1e85-4547-90d2-c61e4659327d",
   "metadata": {},
   "source": [
    "## DATA ARRANGEMENT"
   ]
  },
  {
   "cell_type": "code",
   "execution_count": 31,
   "id": "aef46937-8cd0-4ecb-b6d3-c6369550cbab",
   "metadata": {
    "scrolled": true
   },
   "outputs": [],
   "source": [
    "# !pip install moviepy"
   ]
  },
  {
   "cell_type": "code",
   "execution_count": 32,
   "id": "aa455d51-26c2-4a87-9416-c84258448e9b",
   "metadata": {},
   "outputs": [],
   "source": [
    "DATA_PATH = os.path.join('data2') \n",
    "\n",
    "# Actions that we try to detect\n",
    "actions = np.array(['happy','sad','anger','surprise','fear','neutral'])\n",
    "actions.sort()\n",
    "\n",
    "# 62 videos\n",
    "no_sequences = 62\n",
    "\n",
    "# 30 frames\n",
    "sequence_length = 30\n",
    "\n",
    "#start new folder after 30 frames for data prep\n",
    "start_folder = 30"
   ]
  },
  {
   "cell_type": "code",
   "execution_count": 33,
   "id": "33c4fe04-dcb6-4f5a-ac1f-51f0f0105f74",
   "metadata": {},
   "outputs": [],
   "source": [
    "os.makedirs('data/', exist_ok=True)\n",
    "\n",
    "# Create subdirectories for each action\n",
    "for action in actions:\n",
    "    action_directory = os.path.join('data', action)\n",
    "    os.makedirs(action_directory, exist_ok=True)"
   ]
  },
  {
   "cell_type": "code",
   "execution_count": 34,
   "id": "9503eade-4bb5-407e-9581-ff824995cba3",
   "metadata": {
    "jupyter": {
     "source_hidden": true
    },
    "scrolled": true
   },
   "outputs": [],
   "source": [
    "# import cv2\n",
    "# import os\n",
    "\n",
    "# # Video file path\n",
    "# video_path = 'J:/AUTISM DETECTION PROJECT/3DCNN/videos/neutral/neutral13.mp4'\n",
    "\n",
    "# # Create a directory to save frames\n",
    "# output_directory = 'data2/neutral'\n",
    "# os.makedirs(output_directory, exist_ok=True)\n",
    "\n",
    "# # Open the video file\n",
    "# cap = cv2.VideoCapture(video_path)\n",
    "\n",
    "# frame_count = 0\n",
    "# folder_count = 55\n",
    "# frame_per_folder = 30\n",
    "# fps = int(cap.get(cv2.CAP_PROP_FPS))\n",
    "\n",
    "# with mp_holistic.Holistic(min_detection_confidence=0.5, min_tracking_confidence=0.5) as holistic:\n",
    "\n",
    "#     while cap.isOpened():\n",
    "#         ret, frame = cap.read()\n",
    "        \n",
    "#         if not ret:\n",
    "#             break\n",
    "\n",
    "#         image, results = mediapipe_detection(frame, holistic)\n",
    "\n",
    "#                 # Draw landmarks\n",
    "#         draw_styled_landmarks(image, results)\n",
    "    \n",
    "        \n",
    "#         if frame_count % frame_per_folder == 0:\n",
    "#             current_folder = os.path.join(output_directory, f'{folder_count}')\n",
    "#             os.makedirs(current_folder, exist_ok=True)\n",
    "#             folder_count += 1\n",
    "\n",
    "#         keypoints = extract_keypoints(results)\n",
    "#         frame_name = os.path.join(current_folder, f'{frame_count % frame_per_folder}.npy')\n",
    "        \n",
    "#         np.save(frame_name, keypoints)\n",
    "    \n",
    "#         frame_count += 1\n",
    "    \n",
    "#         if frame_count >= frame_per_folder * folder_count:\n",
    "#             break\n",
    "    \n",
    "#     # Release the video capture object\n",
    "# cap.release()\n",
    "\n",
    "# # Close all OpenCV windows (if any were opened)\n",
    "# cv2.destroyAllWindows()\n"
   ]
  },
  {
   "cell_type": "code",
   "execution_count": null,
   "id": "44ac9f5c-2959-45e3-99e0-d1a7fefa424e",
   "metadata": {},
   "outputs": [],
   "source": []
  },
  {
   "cell_type": "markdown",
   "id": "dab4366e-8045-441f-94a0-096725f9e03a",
   "metadata": {},
   "source": [
    "## Preprocess Data and Create Labels and Features"
   ]
  },
  {
   "cell_type": "code",
   "execution_count": 35,
   "id": "f87cceb8-1987-45a8-9e42-5a90380dcb92",
   "metadata": {},
   "outputs": [],
   "source": [
    "from sklearn.model_selection import train_test_split\n",
    "from tensorflow.keras.utils import to_categorical"
   ]
  },
  {
   "cell_type": "code",
   "execution_count": 36,
   "id": "c912858f-9380-4af1-93a8-5b7233baad12",
   "metadata": {},
   "outputs": [],
   "source": [
    "label_map = {label:num for num, label in enumerate(actions)}"
   ]
  },
  {
   "cell_type": "code",
   "execution_count": 37,
   "id": "90137584-0c37-4769-9053-3ad94329cff9",
   "metadata": {},
   "outputs": [
    {
     "data": {
      "text/plain": [
       "{'anger': 0, 'fear': 1, 'happy': 2, 'neutral': 3, 'sad': 4, 'surprise': 5}"
      ]
     },
     "execution_count": 37,
     "metadata": {},
     "output_type": "execute_result"
    }
   ],
   "source": [
    "label_map"
   ]
  },
  {
   "cell_type": "code",
   "execution_count": 38,
   "id": "4dcbe868-6d6c-486d-900f-5e7632589a94",
   "metadata": {},
   "outputs": [
    {
     "data": {
      "text/plain": [
       "'data2'"
      ]
     },
     "execution_count": 38,
     "metadata": {},
     "output_type": "execute_result"
    }
   ],
   "source": [
    "DATA_PATH"
   ]
  },
  {
   "cell_type": "code",
   "execution_count": null,
   "id": "0c34e6f6-6502-4eb1-9da3-fd6af98b08f0",
   "metadata": {},
   "outputs": [],
   "source": []
  },
  {
   "cell_type": "code",
   "execution_count": null,
   "id": "a20609a7-0bd9-4724-8455-e3f21242499d",
   "metadata": {},
   "outputs": [],
   "source": []
  },
  {
   "cell_type": "code",
   "execution_count": 39,
   "id": "84b80089-4d92-41e2-8c36-92a76decbe58",
   "metadata": {
    "jupyter": {
     "source_hidden": true
    }
   },
   "outputs": [],
   "source": [
    "# import os\n",
    "\n",
    "# # Define the base directory\n",
    "# base_directory = 'data2'\n",
    "\n",
    "# # Iterate through the subdirectories in the base directory\n",
    "# for root, dirs, files in os.walk(base_directory):\n",
    "#     for subdir in dirs:\n",
    "#         # Create the full path to the subdirectory\n",
    "#         subdir_path = os.path.join(root, subdir)\n",
    "#         # Use os.listdir to get the list of files in the subdirectory and count them\n",
    "#         file_count = len(os.listdir(subdir_path))\n",
    "#         if(file_count > 30):\n",
    "#             print(f\"Number of files in '{subdir_path}': {file_count}\")\n"
   ]
  },
  {
   "cell_type": "code",
   "execution_count": 40,
   "id": "86d0ba11-9dd2-4763-98b9-9c814bb4f64a",
   "metadata": {
    "jupyter": {
     "source_hidden": true
    }
   },
   "outputs": [],
   "source": [
    "# import os\n",
    "\n",
    "# # Define the path to the main directory containing the emotion categories (e.g., 'happy', 'sad', etc.)\n",
    "# main_dir = 'data2/'\n",
    "\n",
    "# # Loop through the emotion categories\n",
    "# for emotion_category in os.listdir(main_dir):\n",
    "#     category_path = os.path.join(main_dir, emotion_category)\n",
    "    \n",
    "#     # Check if it's a directory\n",
    "#     if os.path.isdir(category_path):\n",
    "#         # Get a list of subdirectories\n",
    "#         subdirectories = os.listdir(category_path)\n",
    "        \n",
    "#         # Sort the subdirectories numerically\n",
    "#         subdirectories.sort(key=lambda x: int(x))\n",
    "        \n",
    "#         # Rename the subdirectories from '1' to 'n'\n",
    "#         for i, subdirectory in enumerate(subdirectories, start=1):\n",
    "#             old_subdirectory_path = os.path.join(category_path, subdirectory)\n",
    "#             new_subdirectory_path = os.path.join(category_path, str(i))\n",
    "#             os.rename(old_subdirectory_path, new_subdirectory_path)\n",
    "#             # print(old_subdirectory_path,new_subdirectory_path)\n"
   ]
  },
  {
   "cell_type": "code",
   "execution_count": null,
   "id": "b55fa950-4c65-4060-a323-0a169bc495f4",
   "metadata": {},
   "outputs": [],
   "source": []
  },
  {
   "cell_type": "code",
   "execution_count": null,
   "id": "df7287d8-9731-42c0-b412-de1635c06906",
   "metadata": {},
   "outputs": [],
   "source": []
  },
  {
   "cell_type": "code",
   "execution_count": 41,
   "id": "3b2b4525-a446-45b3-8f3b-793ab4affa32",
   "metadata": {
    "scrolled": true
   },
   "outputs": [],
   "source": [
    "sequences, labels = [], []\n",
    "for action in actions:\n",
    "    for sequence in np.array(os.listdir(os.path.join(DATA_PATH, action))).astype(int):\n",
    "        window = []\n",
    "        for frame_num in range(sequence_length):\n",
    "            res = np.load(os.path.join(DATA_PATH, action, str(sequence), \"{}.npy\".format(frame_num)))\n",
    "            window.append(res)\n",
    "        sequences.append(window)\n",
    "        labels.append(label_map[action])"
   ]
  },
  {
   "cell_type": "code",
   "execution_count": 42,
   "id": "7d8c9858-4d42-498f-b382-307818fa361e",
   "metadata": {
    "scrolled": true
   },
   "outputs": [
    {
     "data": {
      "text/plain": [
       "(372, 30, 1662)"
      ]
     },
     "execution_count": 42,
     "metadata": {},
     "output_type": "execute_result"
    }
   ],
   "source": [
    "np.array(sequences).shape"
   ]
  },
  {
   "cell_type": "code",
   "execution_count": 43,
   "id": "ed91b784-556d-4bb9-b594-618e3ec906fe",
   "metadata": {},
   "outputs": [
    {
     "data": {
      "text/plain": [
       "(372,)"
      ]
     },
     "execution_count": 43,
     "metadata": {},
     "output_type": "execute_result"
    }
   ],
   "source": [
    "np.array(labels).shape"
   ]
  },
  {
   "cell_type": "code",
   "execution_count": 44,
   "id": "6f6ccc95-c320-41d7-b6e9-f325229949e5",
   "metadata": {},
   "outputs": [],
   "source": [
    "X = np.array(sequences)"
   ]
  },
  {
   "cell_type": "code",
   "execution_count": 45,
   "id": "39277fe4-5581-492b-b1ad-b2abe08d9271",
   "metadata": {},
   "outputs": [
    {
     "data": {
      "text/plain": [
       "(372, 30, 1662)"
      ]
     },
     "execution_count": 45,
     "metadata": {},
     "output_type": "execute_result"
    }
   ],
   "source": [
    "X.shape"
   ]
  },
  {
   "cell_type": "code",
   "execution_count": 46,
   "id": "a0cc01c6-2342-4548-b847-079bc83e5d48",
   "metadata": {},
   "outputs": [],
   "source": [
    "y = to_categorical(labels).astype(int)"
   ]
  },
  {
   "cell_type": "code",
   "execution_count": 47,
   "id": "1fff5284-6f73-4deb-a683-0bdae1be02fe",
   "metadata": {},
   "outputs": [
    {
     "data": {
      "text/plain": [
       "array([[1, 0, 0, 0, 0, 0],\n",
       "       [1, 0, 0, 0, 0, 0],\n",
       "       [1, 0, 0, 0, 0, 0],\n",
       "       ...,\n",
       "       [0, 0, 0, 0, 0, 1],\n",
       "       [0, 0, 0, 0, 0, 1],\n",
       "       [0, 0, 0, 0, 0, 1]])"
      ]
     },
     "execution_count": 47,
     "metadata": {},
     "output_type": "execute_result"
    }
   ],
   "source": [
    "y"
   ]
  },
  {
   "cell_type": "code",
   "execution_count": 48,
   "id": "9e18bcf7-4297-4f7e-9afd-fb01e14ea845",
   "metadata": {},
   "outputs": [],
   "source": [
    "X_train, X_test, y_train, y_test = train_test_split(X, y, test_size=0.05)"
   ]
  },
  {
   "cell_type": "code",
   "execution_count": 49,
   "id": "770fd454-8890-4e00-8d8e-1d1150cad978",
   "metadata": {},
   "outputs": [
    {
     "data": {
      "text/plain": [
       "(19, 6)"
      ]
     },
     "execution_count": 49,
     "metadata": {},
     "output_type": "execute_result"
    }
   ],
   "source": [
    "y_test.shape"
   ]
  },
  {
   "cell_type": "code",
   "execution_count": 50,
   "id": "9e1838ed-a33f-4975-812b-e8c9fb8278c5",
   "metadata": {},
   "outputs": [],
   "source": [
    "emotion_labels_train, emotion_labels_test=y_train, y_test"
   ]
  },
  {
   "cell_type": "code",
   "execution_count": null,
   "id": "b65bbbe9-8b76-4c11-ab63-994cb4b83ca5",
   "metadata": {},
   "outputs": [],
   "source": []
  },
  {
   "cell_type": "markdown",
   "id": "c16e1965-ed84-479e-8669-c08a14bc01f0",
   "metadata": {},
   "source": [
    "## Build Network"
   ]
  },
  {
   "cell_type": "code",
   "execution_count": 51,
   "id": "93bffeab-a281-4e82-84f9-eb4db2d579a5",
   "metadata": {},
   "outputs": [],
   "source": [
    "from tensorflow.keras.models import Model\n",
    "from tensorflow.keras.layers import LSTM, Dense,Input\n",
    "from tensorflow.keras.callbacks import TensorBoard"
   ]
  },
  {
   "cell_type": "code",
   "execution_count": 52,
   "id": "9780e573-179a-4ff3-9f98-1030df16c771",
   "metadata": {},
   "outputs": [],
   "source": [
    "log_dir = os.path.join('Logs')\n",
    "tb_callback = TensorBoard(log_dir=log_dir)"
   ]
  },
  {
   "cell_type": "code",
   "execution_count": 53,
   "id": "dd0b8cbb-f735-4a59-a663-154faf8e8462",
   "metadata": {},
   "outputs": [],
   "source": [
    "import tensorflow as tf"
   ]
  },
  {
   "attachments": {
    "8e846867-9591-4bf0-9876-887e03c1d50d.png": {
     "image/png": "[encoded data removed]"
    }
   },
   "cell_type": "markdown",
   "id": "5ec20a59-047a-49ec-88b2-9f42a7e35e93",
   "metadata": {},
   "source": [
    "![image.png](attachment:8e846867-9591-4bf0-9876-887e03c1d50d.png)\n",
    "\n",
    "https://www.kaggle.com/code/kmkarakaya/lstm-output-types-return-sequences-state"
   ]
  },
  {
   "cell_type": "code",
   "execution_count": 54,
   "id": "65b177ef-3669-429c-991e-8ed6132d9124",
   "metadata": {},
   "outputs": [],
   "source": [
    "class Attention(tf.keras.layers.Layer):\n",
    "    def __init__(self):\n",
    "        super(Attention, self).__init__()\n",
    "\n",
    "    def build(self, input_shape):\n",
    "        super(Attention, self).build(input_shape)\n",
    "\n",
    "    def call(self, q, k, v):\n",
    "        # Calculate attention scores using scalar dot product\n",
    "        attention_scores = tf.matmul(q, k, transpose_b=True)\n",
    "        attention_scores = tf.nn.softmax(attention_scores, axis=-1)\n",
    "        \n",
    "        output = tf.matmul(attention_scores, v)\n",
    "        return output, attention_scores"
   ]
  },
  {
   "cell_type": "code",
   "execution_count": null,
   "id": "d41940d7-873d-4eb3-9a10-a98344019408",
   "metadata": {},
   "outputs": [],
   "source": []
  },
  {
   "cell_type": "code",
   "execution_count": 55,
   "id": "8c67a197-c015-4e83-bd19-a604713b3b85",
   "metadata": {
    "scrolled": true
   },
   "outputs": [],
   "source": [
    "input_layer = Input(shape=(30, 1662))\n",
    "\n",
    "# LSTM layer\n",
    "lstm_layer = LSTM(64, return_sequences=True, activation='relu', return_state=True)\n",
    "output, state_h, state_c = lstm_layer(input_layer)\n",
    "\n",
    "# Attention layer\n",
    "attention_layer = Attention()  # You might need to adjust this based on your Attention layer implementation.\n",
    "output, attention_scores = attention_layer(output, output, output)\n",
    "\n",
    "# Continue with the rest of your model architecture using 'output'\n",
    "x = LSTM(128, return_sequences=True, activation='relu')(output)\n",
    "x = LSTM(64, return_sequences=False, activation='relu')(x)\n",
    "x = Dense(64, activation='relu')(x)\n",
    "x = Dense(32, activation='relu')(x)\n",
    "output_layer = Dense(actions.shape[0], activation='softmax')(x)\n",
    "\n",
    "# Build the model\n",
    "model = Model(inputs=input_layer, outputs=output_layer)\n",
    "model.compile(optimizer='Adam', loss='categorical_crossentropy', metrics=['categorical_accuracy'])"
   ]
  },
  {
   "cell_type": "code",
   "execution_count": 56,
   "id": "02fedd96-8b2f-412a-9741-2d80bf2f9ced",
   "metadata": {},
   "outputs": [],
   "source": [
    "# model.compile(optimizer='Adam', loss='categorical_crossentropy', metrics=['categorical_accuracy'])"
   ]
  },
  {
   "cell_type": "code",
   "execution_count": 57,
   "id": "bbc45604-bee4-4378-86b5-a7220feb3a56",
   "metadata": {},
   "outputs": [
    {
     "name": "stdout",
     "output_type": "stream",
     "text": [
      "Model: \"model\"\n",
      "__________________________________________________________________________________________________\n",
      " Layer (type)                Output Shape                 Param #   Connected to                  \n",
      "==================================================================================================\n",
      " input_1 (InputLayer)        [(None, 30, 1662)]           0         []                            \n",
      "                                                                                                  \n",
      " lstm (LSTM)                 [(None, 30, 64),             442112    ['input_1[0][0]']             \n",
      "                              (None, 64),                                                         \n",
      "                              (None, 64)]                                                         \n",
      "                                                                                                  \n",
      " attention (Attention)       ((None, 30, 64),             0         ['lstm[0][0]',                \n",
      "                              (None, 30, 30))                        'lstm[0][0]',                \n",
      "                                                                     'lstm[0][0]']                \n",
      "                                                                                                  \n",
      " lstm_1 (LSTM)               (None, 30, 128)              98816     ['attention[0][0]']           \n",
      "                                                                                                  \n",
      " lstm_2 (LSTM)               (None, 64)                   49408     ['lstm_1[0][0]']              \n",
      "                                                                                                  \n",
      " dense (Dense)               (None, 64)                   4160      ['lstm_2[0][0]']              \n",
      "                                                                                                  \n",
      " dense_1 (Dense)             (None, 32)                   2080      ['dense[0][0]']               \n",
      "                                                                                                  \n",
      " dense_2 (Dense)             (None, 6)                    198       ['dense_1[0][0]']             \n",
      "                                                                                                  \n",
      "==================================================================================================\n",
      "Total params: 596774 (2.28 MB)\n",
      "Trainable params: 596774 (2.28 MB)\n",
      "Non-trainable params: 0 (0.00 Byte)\n",
      "__________________________________________________________________________________________________\n"
     ]
    }
   ],
   "source": [
    "model.summary()"
   ]
  },
  {
   "cell_type": "code",
   "execution_count": 61,
   "id": "7d9ce928-ca89-450b-bdaa-20fa0ac850c0",
   "metadata": {
    "scrolled": true
   },
   "outputs": [
    {
     "name": "stdout",
     "output_type": "stream",
     "text": [
      "Epoch 1/200\n",
      "12/12 [==============================] - 9s 731ms/step - loss: 9.1042 - categorical_accuracy: 0.1416\n",
      "Epoch 2/200\n",
      "12/12 [==============================] - 7s 567ms/step - loss: 10.0334 - categorical_accuracy: 0.2125\n",
      "Epoch 3/200\n",
      "12/12 [==============================] - 2s 197ms/step - loss: 9.3035 - categorical_accuracy: 0.1530\n",
      "Epoch 4/200\n",
      "12/12 [==============================] - 2s 137ms/step - loss: 10.0023 - categorical_accuracy: 0.1445\n",
      "Epoch 5/200\n",
      "12/12 [==============================] - 2s 133ms/step - loss: 6.8828 - categorical_accuracy: 0.1501\n",
      "Epoch 6/200\n",
      "12/12 [==============================] - 2s 131ms/step - loss: 14.0308 - categorical_accuracy: 0.1558\n",
      "Epoch 7/200\n",
      "12/12 [==============================] - 2s 137ms/step - loss: 14.5716 - categorical_accuracy: 0.1700\n",
      "Epoch 8/200\n",
      "12/12 [==============================] - 2s 135ms/step - loss: 17.5660 - categorical_accuracy: 0.1586\n",
      "Epoch 9/200\n",
      "12/12 [==============================] - 2s 135ms/step - loss: 10.4314 - categorical_accuracy: 0.1558\n",
      "Epoch 10/200\n",
      "12/12 [==============================] - 2s 125ms/step - loss: 16.5864 - categorical_accuracy: 0.1671\n",
      "Epoch 11/200\n",
      "12/12 [==============================] - 8s 722ms/step - loss: 18.1605 - categorical_accuracy: 0.1643\n",
      "Epoch 12/200\n",
      "12/12 [==============================] - 6s 420ms/step - loss: 9.8196 - categorical_accuracy: 0.1870\n",
      "Epoch 13/200\n",
      "12/12 [==============================] - 11s 951ms/step - loss: 8.7216 - categorical_accuracy: 0.1841\n",
      "Epoch 14/200\n",
      "12/12 [==============================] - 4s 134ms/step - loss: 30.4342 - categorical_accuracy: 0.1586\n",
      "Epoch 15/200\n",
      "12/12 [==============================] - 2s 154ms/step - loss: 16.0754 - categorical_accuracy: 0.1416\n",
      "Epoch 16/200\n",
      "12/12 [==============================] - 2s 137ms/step - loss: 11.2593 - categorical_accuracy: 0.1360\n",
      "Epoch 17/200\n",
      "12/12 [==============================] - 2s 129ms/step - loss: 10.8753 - categorical_accuracy: 0.1700\n",
      "Epoch 18/200\n",
      "12/12 [==============================] - 1s 120ms/step - loss: 4.2872 - categorical_accuracy: 0.1501\n",
      "Epoch 19/200\n",
      "12/12 [==============================] - 1s 119ms/step - loss: 1.7969 - categorical_accuracy: 0.1586\n",
      "Epoch 20/200\n",
      "12/12 [==============================] - 1s 118ms/step - loss: 1.7968 - categorical_accuracy: 0.1586\n",
      "Epoch 21/200\n",
      "12/12 [==============================] - 2s 154ms/step - loss: 1.7967 - categorical_accuracy: 0.1586\n",
      "Epoch 22/200\n",
      "12/12 [==============================] - 1s 118ms/step - loss: 1.7967 - categorical_accuracy: 0.1586\n",
      "Epoch 23/200\n",
      "12/12 [==============================] - 1s 117ms/step - loss: 1.7965 - categorical_accuracy: 0.1586\n",
      "Epoch 24/200\n",
      "12/12 [==============================] - 2s 144ms/step - loss: 1.7964 - categorical_accuracy: 0.1586\n",
      "Epoch 25/200\n",
      "12/12 [==============================] - 1s 123ms/step - loss: 1.7964 - categorical_accuracy: 0.1586\n",
      "Epoch 26/200\n",
      "12/12 [==============================] - 2s 128ms/step - loss: 1.7964 - categorical_accuracy: 0.1586\n",
      "Epoch 27/200\n",
      "12/12 [==============================] - 1s 112ms/step - loss: 1.7964 - categorical_accuracy: 0.1586\n",
      "Epoch 28/200\n",
      "12/12 [==============================] - 1s 119ms/step - loss: 1.7963 - categorical_accuracy: 0.1586\n",
      "Epoch 29/200\n",
      "12/12 [==============================] - 2s 132ms/step - loss: 1.7963 - categorical_accuracy: 0.1586\n",
      "Epoch 30/200\n",
      "12/12 [==============================] - 1s 119ms/step - loss: 1.7962 - categorical_accuracy: 0.1586\n",
      "Epoch 31/200\n",
      "12/12 [==============================] - 1s 121ms/step - loss: 1.7962 - categorical_accuracy: 0.1586\n",
      "Epoch 32/200\n",
      "12/12 [==============================] - 3s 218ms/step - loss: 1.7962 - categorical_accuracy: 0.1586\n",
      "Epoch 33/200\n",
      "12/12 [==============================] - 9s 786ms/step - loss: 1.7962 - categorical_accuracy: 0.1586\n",
      "Epoch 34/200\n",
      "12/12 [==============================] - 3s 151ms/step - loss: 1.7961 - categorical_accuracy: 0.1586\n",
      "Epoch 35/200\n",
      "12/12 [==============================] - 2s 132ms/step - loss: 1.7960 - categorical_accuracy: 0.1586\n",
      "Epoch 36/200\n",
      "12/12 [==============================] - 1s 118ms/step - loss: 1.7960 - categorical_accuracy: 0.1586\n",
      "Epoch 37/200\n",
      "12/12 [==============================] - 1s 119ms/step - loss: 1.7960 - categorical_accuracy: 0.1586\n",
      "Epoch 38/200\n",
      "12/12 [==============================] - 2s 127ms/step - loss: 1.7959 - categorical_accuracy: 0.1586\n",
      "Epoch 39/200\n",
      "12/12 [==============================] - 1s 120ms/step - loss: 1.7958 - categorical_accuracy: 0.1586\n",
      "Epoch 40/200\n",
      "12/12 [==============================] - 1s 120ms/step - loss: 1.7956 - categorical_accuracy: 0.1586\n",
      "Epoch 41/200\n",
      "12/12 [==============================] - 1s 120ms/step - loss: 1.7956 - categorical_accuracy: 0.1586\n",
      "Epoch 42/200\n",
      "12/12 [==============================] - 1s 123ms/step - loss: 1.7956 - categorical_accuracy: 0.1586\n",
      "Epoch 43/200\n",
      "12/12 [==============================] - 2s 130ms/step - loss: 1.7955 - categorical_accuracy: 0.1586\n",
      "Epoch 44/200\n",
      "12/12 [==============================] - 5s 430ms/step - loss: 1.7955 - categorical_accuracy: 0.1586\n",
      "Epoch 45/200\n",
      "12/12 [==============================] - 10s 791ms/step - loss: 1.7954 - categorical_accuracy: 0.1586\n",
      "Epoch 46/200\n",
      "12/12 [==============================] - 2s 119ms/step - loss: 1.7953 - categorical_accuracy: 0.1586\n",
      "Epoch 47/200\n",
      "12/12 [==============================] - 10s 850ms/step - loss: 1.7952 - categorical_accuracy: 0.1586\n",
      "Epoch 48/200\n",
      "12/12 [==============================] - 5s 390ms/step - loss: 1.7952 - categorical_accuracy: 0.1586\n",
      "Epoch 49/200\n",
      "12/12 [==============================] - 6s 548ms/step - loss: 1.7952 - categorical_accuracy: 0.1586\n",
      "Epoch 50/200\n",
      "12/12 [==============================] - 7s 579ms/step - loss: 1.7950 - categorical_accuracy: 0.1586\n",
      "Epoch 51/200\n",
      "12/12 [==============================] - 5s 413ms/step - loss: 1.7949 - categorical_accuracy: 0.1586\n",
      "Epoch 52/200\n",
      "12/12 [==============================] - 9s 721ms/step - loss: 1.7949 - categorical_accuracy: 0.1586\n",
      "Epoch 53/200\n",
      "12/12 [==============================] - 3s 228ms/step - loss: 1.7948 - categorical_accuracy: 0.1586\n",
      "Epoch 54/200\n",
      "12/12 [==============================] - 10s 846ms/step - loss: 1.7947 - categorical_accuracy: 0.1586\n",
      "Epoch 55/200\n",
      "12/12 [==============================] - 2s 120ms/step - loss: 1.7948 - categorical_accuracy: 0.1586\n",
      "Epoch 56/200\n",
      "12/12 [==============================] - 10s 867ms/step - loss: 1.7947 - categorical_accuracy: 0.1586\n",
      "Epoch 57/200\n",
      "12/12 [==============================] - 4s 263ms/step - loss: 1.7947 - categorical_accuracy: 0.1586\n",
      "Epoch 58/200\n",
      "12/12 [==============================] - 2s 166ms/step - loss: 1.7947 - categorical_accuracy: 0.1586\n",
      "Epoch 59/200\n",
      "12/12 [==============================] - 1s 123ms/step - loss: 1.7946 - categorical_accuracy: 0.1586\n",
      "Epoch 60/200\n",
      "12/12 [==============================] - 1s 121ms/step - loss: 1.7945 - categorical_accuracy: 0.1586\n",
      "Epoch 61/200\n",
      "12/12 [==============================] - 2s 126ms/step - loss: 1.7944 - categorical_accuracy: 0.1586\n",
      "Epoch 62/200\n",
      "12/12 [==============================] - 1s 122ms/step - loss: 1.7944 - categorical_accuracy: 0.1586\n",
      "Epoch 63/200\n",
      "12/12 [==============================] - 1s 119ms/step - loss: 1.7944 - categorical_accuracy: 0.1586\n",
      "Epoch 64/200\n",
      "12/12 [==============================] - 2s 127ms/step - loss: 1.7943 - categorical_accuracy: 0.1586\n",
      "Epoch 65/200\n",
      "12/12 [==============================] - 1s 119ms/step - loss: 1.7943 - categorical_accuracy: 0.1586\n",
      "Epoch 66/200\n",
      "12/12 [==============================] - 8s 704ms/step - loss: 1.7943 - categorical_accuracy: 0.1586\n",
      "Epoch 67/200\n",
      "12/12 [==============================] - 5s 419ms/step - loss: 1.7942 - categorical_accuracy: 0.1586\n",
      "Epoch 68/200\n",
      "12/12 [==============================] - 6s 548ms/step - loss: 1.7941 - categorical_accuracy: 0.1586\n",
      "Epoch 69/200\n",
      "12/12 [==============================] - 7s 581ms/step - loss: 1.7940 - categorical_accuracy: 0.1586\n",
      "Epoch 70/200\n",
      "12/12 [==============================] - 2s 155ms/step - loss: 1.7939 - categorical_accuracy: 0.1586\n",
      "Epoch 71/200\n",
      "12/12 [==============================] - 2s 118ms/step - loss: 1.7939 - categorical_accuracy: 0.1586\n",
      "Epoch 72/200\n",
      "12/12 [==============================] - 1s 118ms/step - loss: 1.7939 - categorical_accuracy: 0.1586\n",
      "Epoch 73/200\n",
      "12/12 [==============================] - 2s 128ms/step - loss: 1.7938 - categorical_accuracy: 0.1586\n",
      "Epoch 74/200\n",
      "12/12 [==============================] - 1s 119ms/step - loss: 1.7937 - categorical_accuracy: 0.1586\n",
      "Epoch 75/200\n",
      "12/12 [==============================] - 1s 119ms/step - loss: 1.7936 - categorical_accuracy: 0.1586\n",
      "Epoch 76/200\n",
      "12/12 [==============================] - 1s 118ms/step - loss: 1.7936 - categorical_accuracy: 0.1586\n",
      "Epoch 77/200\n",
      "12/12 [==============================] - 2s 145ms/step - loss: 1.7935 - categorical_accuracy: 0.1586\n",
      "Epoch 78/200\n",
      "12/12 [==============================] - 4s 353ms/step - loss: 1.7935 - categorical_accuracy: 0.1586\n",
      "Epoch 79/200\n",
      "12/12 [==============================] - 9s 758ms/step - loss: 1.7934 - categorical_accuracy: 0.1586\n",
      "Epoch 80/200\n",
      "12/12 [==============================] - 1s 125ms/step - loss: 1.7934 - categorical_accuracy: 0.1586\n",
      "Epoch 81/200\n",
      "12/12 [==============================] - 2s 150ms/step - loss: 1.7934 - categorical_accuracy: 0.1586\n",
      "Epoch 82/200\n",
      "12/12 [==============================] - 1s 117ms/step - loss: 1.7934 - categorical_accuracy: 0.1586\n",
      "Epoch 83/200\n",
      "12/12 [==============================] - 1s 118ms/step - loss: 1.7934 - categorical_accuracy: 0.1586\n",
      "Epoch 84/200\n",
      "12/12 [==============================] - 1s 113ms/step - loss: 1.7933 - categorical_accuracy: 0.1586\n",
      "Epoch 85/200\n",
      "12/12 [==============================] - 2s 210ms/step - loss: 1.7932 - categorical_accuracy: 0.1586\n",
      "Epoch 86/200\n",
      "12/12 [==============================] - 9s 785ms/step - loss: 1.7931 - categorical_accuracy: 0.1586\n",
      "Epoch 87/200\n",
      "12/12 [==============================] - 4s 298ms/step - loss: 1.7931 - categorical_accuracy: 0.1586\n",
      "Epoch 88/200\n",
      "12/12 [==============================] - 13s 1s/step - loss: 1.7931 - categorical_accuracy: 0.1586\n",
      "Epoch 89/200\n",
      "12/12 [==============================] - 2s 153ms/step - loss: 1.7930 - categorical_accuracy: 0.1586\n",
      "Epoch 90/200\n",
      "12/12 [==============================] - 2s 151ms/step - loss: 1.7930 - categorical_accuracy: 0.1586\n",
      "Epoch 91/200\n",
      "12/12 [==============================] - 2s 133ms/step - loss: 1.7930 - categorical_accuracy: 0.1586\n",
      "Epoch 92/200\n",
      "12/12 [==============================] - 2s 132ms/step - loss: 1.7930 - categorical_accuracy: 0.1586\n",
      "Epoch 93/200\n",
      "12/12 [==============================] - 13s 1s/step - loss: 1.7930 - categorical_accuracy: 0.1586\n",
      "Epoch 94/200\n",
      "12/12 [==============================] - 4s 228ms/step - loss: 1.7930 - categorical_accuracy: 0.1586\n",
      "Epoch 95/200\n",
      "12/12 [==============================] - 12s 969ms/step - loss: 1.7929 - categorical_accuracy: 0.1586\n",
      "Epoch 96/200\n",
      "12/12 [==============================] - 2s 163ms/step - loss: 1.7929 - categorical_accuracy: 0.1586\n",
      "Epoch 97/200\n",
      "12/12 [==============================] - 2s 165ms/step - loss: 1.7928 - categorical_accuracy: 0.1586\n",
      "Epoch 98/200\n",
      "12/12 [==============================] - 2s 171ms/step - loss: 1.7928 - categorical_accuracy: 0.1586\n",
      "Epoch 99/200\n",
      "12/12 [==============================] - 2s 179ms/step - loss: 1.7928 - categorical_accuracy: 0.1558\n",
      "Epoch 100/200\n",
      "12/12 [==============================] - 2s 171ms/step - loss: 1.7927 - categorical_accuracy: 0.1700\n",
      "Epoch 101/200\n",
      "12/12 [==============================] - 2s 136ms/step - loss: 1.7927 - categorical_accuracy: 0.1700\n",
      "Epoch 102/200\n",
      "12/12 [==============================] - 2s 127ms/step - loss: 1.7927 - categorical_accuracy: 0.1700\n",
      "Epoch 103/200\n",
      "12/12 [==============================] - 2s 150ms/step - loss: 1.7926 - categorical_accuracy: 0.1700\n",
      "Epoch 104/200\n",
      "12/12 [==============================] - 2s 138ms/step - loss: 1.7925 - categorical_accuracy: 0.1700\n",
      "Epoch 105/200\n",
      "12/12 [==============================] - 2s 133ms/step - loss: 1.7925 - categorical_accuracy: 0.1700\n",
      "Epoch 106/200\n",
      "12/12 [==============================] - 2s 132ms/step - loss: 1.7925 - categorical_accuracy: 0.1700\n",
      "Epoch 107/200\n",
      "12/12 [==============================] - 2s 158ms/step - loss: 1.7925 - categorical_accuracy: 0.1700\n",
      "Epoch 108/200\n",
      "12/12 [==============================] - 2s 130ms/step - loss: 1.7925 - categorical_accuracy: 0.1700\n",
      "Epoch 109/200\n",
      "12/12 [==============================] - 1s 121ms/step - loss: 1.7925 - categorical_accuracy: 0.1700\n",
      "Epoch 110/200\n",
      "12/12 [==============================] - 2s 134ms/step - loss: 1.7926 - categorical_accuracy: 0.1700\n",
      "Epoch 111/200\n",
      "12/12 [==============================] - 2s 148ms/step - loss: 1.7925 - categorical_accuracy: 0.1700\n",
      "Epoch 112/200\n",
      "12/12 [==============================] - 2s 131ms/step - loss: 1.7925 - categorical_accuracy: 0.1700\n",
      "Epoch 113/200\n",
      "12/12 [==============================] - 2s 128ms/step - loss: 1.7925 - categorical_accuracy: 0.1700\n",
      "Epoch 114/200\n",
      "12/12 [==============================] - 1s 114ms/step - loss: 1.7924 - categorical_accuracy: 0.1700\n",
      "Epoch 115/200\n",
      "12/12 [==============================] - 2s 133ms/step - loss: 1.7923 - categorical_accuracy: 0.1700\n",
      "Epoch 116/200\n",
      "12/12 [==============================] - 2s 131ms/step - loss: 1.7923 - categorical_accuracy: 0.1700\n",
      "Epoch 117/200\n",
      "12/12 [==============================] - 2s 134ms/step - loss: 1.7923 - categorical_accuracy: 0.1700\n",
      "Epoch 118/200\n",
      "12/12 [==============================] - 2s 142ms/step - loss: 1.7924 - categorical_accuracy: 0.1700\n",
      "Epoch 119/200\n",
      "12/12 [==============================] - 2s 139ms/step - loss: 1.7923 - categorical_accuracy: 0.1700\n",
      "Epoch 120/200\n",
      "12/12 [==============================] - 2s 140ms/step - loss: 1.7923 - categorical_accuracy: 0.1700\n",
      "Epoch 121/200\n",
      "12/12 [==============================] - 1s 121ms/step - loss: 1.7923 - categorical_accuracy: 0.1700\n",
      "Epoch 122/200\n",
      "12/12 [==============================] - 1s 122ms/step - loss: 1.7923 - categorical_accuracy: 0.1700\n",
      "Epoch 123/200\n",
      "12/12 [==============================] - 1s 122ms/step - loss: 1.7922 - categorical_accuracy: 0.1700\n",
      "Epoch 124/200\n",
      "12/12 [==============================] - 2s 126ms/step - loss: 1.7922 - categorical_accuracy: 0.1700\n",
      "Epoch 125/200\n",
      "12/12 [==============================] - 1s 123ms/step - loss: 1.7922 - categorical_accuracy: 0.1700\n",
      "Epoch 126/200\n",
      "12/12 [==============================] - 1s 120ms/step - loss: 1.7922 - categorical_accuracy: 0.1700\n",
      "Epoch 127/200\n",
      "12/12 [==============================] - 2s 134ms/step - loss: 1.7922 - categorical_accuracy: 0.1700\n",
      "Epoch 128/200\n",
      "12/12 [==============================] - 1s 123ms/step - loss: 1.7922 - categorical_accuracy: 0.1700\n",
      "Epoch 129/200\n",
      "12/12 [==============================] - 2s 131ms/step - loss: 1.7921 - categorical_accuracy: 0.1700\n",
      "Epoch 130/200\n",
      "12/12 [==============================] - 1s 121ms/step - loss: 1.7921 - categorical_accuracy: 0.1700\n",
      "Epoch 131/200\n",
      "12/12 [==============================] - 1s 121ms/step - loss: 1.7921 - categorical_accuracy: 0.1700\n",
      "Epoch 132/200\n",
      "12/12 [==============================] - 1s 124ms/step - loss: 1.7921 - categorical_accuracy: 0.1700\n",
      "Epoch 133/200\n",
      "12/12 [==============================] - 2s 126ms/step - loss: 1.7922 - categorical_accuracy: 0.1700\n",
      "Epoch 134/200\n",
      "12/12 [==============================] - 4s 309ms/step - loss: 1.7922 - categorical_accuracy: 0.1700\n",
      "Epoch 135/200\n",
      "12/12 [==============================] - 13s 1s/step - loss: 1.7921 - categorical_accuracy: 0.1700\n",
      "Epoch 136/200\n",
      "12/12 [==============================] - 2s 171ms/step - loss: 1.7921 - categorical_accuracy: 0.1700\n",
      "Epoch 137/200\n",
      "12/12 [==============================] - 2s 145ms/step - loss: 1.7922 - categorical_accuracy: 0.1700\n",
      "Epoch 138/200\n",
      "12/12 [==============================] - 2s 134ms/step - loss: 1.7922 - categorical_accuracy: 0.1700\n",
      "Epoch 139/200\n",
      "12/12 [==============================] - 2s 149ms/step - loss: 1.7922 - categorical_accuracy: 0.1700\n",
      "Epoch 140/200\n",
      "12/12 [==============================] - 1s 124ms/step - loss: 1.7922 - categorical_accuracy: 0.1700\n",
      "Epoch 141/200\n",
      "12/12 [==============================] - 2s 166ms/step - loss: 1.7921 - categorical_accuracy: 0.1700\n",
      "Epoch 142/200\n",
      "12/12 [==============================] - 1s 123ms/step - loss: 1.7922 - categorical_accuracy: 0.1700\n",
      "Epoch 143/200\n",
      "12/12 [==============================] - 8s 715ms/step - loss: 1.7921 - categorical_accuracy: 0.1700\n",
      "Epoch 144/200\n",
      "12/12 [==============================] - 7s 540ms/step - loss: 1.7921 - categorical_accuracy: 0.1700\n",
      "Epoch 145/200\n",
      "12/12 [==============================] - 12s 1s/step - loss: 1.7921 - categorical_accuracy: 0.1700\n",
      "Epoch 146/200\n",
      "12/12 [==============================] - 2s 145ms/step - loss: 1.7922 - categorical_accuracy: 0.1700\n",
      "Epoch 147/200\n",
      "12/12 [==============================] - 2s 153ms/step - loss: 1.7922 - categorical_accuracy: 0.1700\n",
      "Epoch 148/200\n",
      "12/12 [==============================] - 1s 118ms/step - loss: 1.7922 - categorical_accuracy: 0.1700\n",
      "Epoch 149/200\n",
      "12/12 [==============================] - 2s 133ms/step - loss: 1.7922 - categorical_accuracy: 0.1700\n",
      "Epoch 150/200\n",
      "12/12 [==============================] - 1s 119ms/step - loss: 1.7921 - categorical_accuracy: 0.1700\n",
      "Epoch 151/200\n",
      "12/12 [==============================] - 1s 120ms/step - loss: 1.7921 - categorical_accuracy: 0.1700\n",
      "Epoch 152/200\n",
      "12/12 [==============================] - 1s 121ms/step - loss: 1.7921 - categorical_accuracy: 0.1700\n",
      "Epoch 153/200\n",
      "12/12 [==============================] - 1s 115ms/step - loss: 1.7920 - categorical_accuracy: 0.1700\n",
      "Epoch 154/200\n",
      "12/12 [==============================] - 1s 121ms/step - loss: 1.7921 - categorical_accuracy: 0.1700\n",
      "Epoch 155/200\n",
      "12/12 [==============================] - 1s 121ms/step - loss: 1.7920 - categorical_accuracy: 0.1700\n",
      "Epoch 156/200\n",
      "12/12 [==============================] - 1s 125ms/step - loss: 1.7921 - categorical_accuracy: 0.1700\n",
      "Epoch 157/200\n",
      "12/12 [==============================] - 8s 681ms/step - loss: 1.7920 - categorical_accuracy: 0.1700\n",
      "Epoch 158/200\n",
      "12/12 [==============================] - 7s 557ms/step - loss: 1.7919 - categorical_accuracy: 0.1700\n",
      "Epoch 159/200\n",
      "12/12 [==============================] - 1s 119ms/step - loss: 1.7919 - categorical_accuracy: 0.1700\n",
      "Epoch 160/200\n",
      "12/12 [==============================] - 1s 120ms/step - loss: 1.7919 - categorical_accuracy: 0.1700\n",
      "Epoch 161/200\n",
      "12/12 [==============================] - 1s 118ms/step - loss: 1.7919 - categorical_accuracy: 0.1700\n",
      "Epoch 162/200\n",
      "12/12 [==============================] - 1s 121ms/step - loss: 1.7920 - categorical_accuracy: 0.1700\n",
      "Epoch 163/200\n",
      "12/12 [==============================] - 1s 120ms/step - loss: 1.7919 - categorical_accuracy: 0.1700\n",
      "Epoch 164/200\n",
      "12/12 [==============================] - 1s 121ms/step - loss: 1.7919 - categorical_accuracy: 0.1700\n",
      "Epoch 165/200\n",
      "12/12 [==============================] - 1s 122ms/step - loss: 1.7920 - categorical_accuracy: 0.1700\n",
      "Epoch 166/200\n",
      "12/12 [==============================] - 2s 201ms/step - loss: 1.7919 - categorical_accuracy: 0.1700\n",
      "Epoch 167/200\n",
      "12/12 [==============================] - 11s 888ms/step - loss: 1.7919 - categorical_accuracy: 0.1700\n",
      "Epoch 168/200\n",
      "12/12 [==============================] - 3s 233ms/step - loss: 1.7919 - categorical_accuracy: 0.1700\n",
      "Epoch 169/200\n",
      "12/12 [==============================] - 8s 706ms/step - loss: 1.7918 - categorical_accuracy: 0.1700\n",
      "Epoch 170/200\n",
      "12/12 [==============================] - 7s 526ms/step - loss: 1.7919 - categorical_accuracy: 0.1700\n",
      "Epoch 171/200\n",
      "12/12 [==============================] - 4s 337ms/step - loss: 1.7919 - categorical_accuracy: 0.1700\n",
      "Epoch 172/200\n",
      "12/12 [==============================] - 9s 781ms/step - loss: 1.7918 - categorical_accuracy: 0.1700\n",
      "Epoch 173/200\n",
      "12/12 [==============================] - 1s 119ms/step - loss: 1.7918 - categorical_accuracy: 0.1700\n",
      "Epoch 174/200\n",
      "12/12 [==============================] - 10s 819ms/step - loss: 1.7918 - categorical_accuracy: 0.1700\n",
      "Epoch 175/200\n",
      "12/12 [==============================] - 4s 239ms/step - loss: 1.7918 - categorical_accuracy: 0.1700\n",
      "Epoch 176/200\n",
      "12/12 [==============================] - 2s 142ms/step - loss: 1.7918 - categorical_accuracy: 0.1700\n",
      "Epoch 177/200\n",
      "12/12 [==============================] - 2s 138ms/step - loss: 1.7918 - categorical_accuracy: 0.1700\n",
      "Epoch 178/200\n",
      "12/12 [==============================] - 10s 829ms/step - loss: 1.7917 - categorical_accuracy: 0.1700\n",
      "Epoch 179/200\n",
      "12/12 [==============================] - 3s 208ms/step - loss: 1.7917 - categorical_accuracy: 0.1700\n",
      "Epoch 180/200\n",
      "12/12 [==============================] - 2s 142ms/step - loss: 1.7917 - categorical_accuracy: 0.1700\n",
      "Epoch 181/200\n",
      "12/12 [==============================] - 2s 131ms/step - loss: 1.7917 - categorical_accuracy: 0.1700\n",
      "Epoch 182/200\n",
      "12/12 [==============================] - 1s 121ms/step - loss: 1.7917 - categorical_accuracy: 0.1700\n",
      "Epoch 183/200\n",
      "12/12 [==============================] - 1s 118ms/step - loss: 1.7917 - categorical_accuracy: 0.1700\n",
      "Epoch 184/200\n",
      "12/12 [==============================] - 1s 125ms/step - loss: 1.7916 - categorical_accuracy: 0.1700\n",
      "Epoch 185/200\n",
      "12/12 [==============================] - 2s 127ms/step - loss: 1.7917 - categorical_accuracy: 0.1700\n",
      "Epoch 186/200\n",
      "12/12 [==============================] - 2s 131ms/step - loss: 1.7916 - categorical_accuracy: 0.1700\n",
      "Epoch 187/200\n",
      "12/12 [==============================] - 2s 147ms/step - loss: 1.7917 - categorical_accuracy: 0.1700\n",
      "Epoch 188/200\n",
      "12/12 [==============================] - 9s 798ms/step - loss: 1.7916 - categorical_accuracy: 0.1700\n",
      "Epoch 189/200\n",
      "12/12 [==============================] - 4s 311ms/step - loss: 1.7917 - categorical_accuracy: 0.1700\n",
      "Epoch 190/200\n",
      "12/12 [==============================] - 6s 569ms/step - loss: 1.7916 - categorical_accuracy: 0.1700\n",
      "Epoch 191/200\n",
      "12/12 [==============================] - 7s 518ms/step - loss: 1.7916 - categorical_accuracy: 0.1700\n",
      "Epoch 192/200\n",
      "12/12 [==============================] - 6s 564ms/step - loss: 1.7916 - categorical_accuracy: 0.1700\n",
      "Epoch 193/200\n",
      "12/12 [==============================] - 7s 581ms/step - loss: 1.7916 - categorical_accuracy: 0.1700\n",
      "Epoch 194/200\n",
      "12/12 [==============================] - 2s 151ms/step - loss: 1.7916 - categorical_accuracy: 0.1700\n",
      "Epoch 195/200\n",
      "12/12 [==============================] - 2s 147ms/step - loss: 1.7915 - categorical_accuracy: 0.1700\n",
      "Epoch 196/200\n",
      "12/12 [==============================] - 1s 119ms/step - loss: 1.7916 - categorical_accuracy: 0.1700\n",
      "Epoch 197/200\n",
      "12/12 [==============================] - 2s 134ms/step - loss: 1.7915 - categorical_accuracy: 0.1700\n",
      "Epoch 198/200\n",
      "12/12 [==============================] - 2s 130ms/step - loss: 1.7915 - categorical_accuracy: 0.1700\n",
      "Epoch 199/200\n",
      "12/12 [==============================] - 1s 119ms/step - loss: 1.7915 - categorical_accuracy: 0.1671\n",
      "Epoch 200/200\n",
      "12/12 [==============================] - 1s 120ms/step - loss: 1.7915 - categorical_accuracy: 0.1671\n"
     ]
    }
   ],
   "source": [
    "history = model.fit(X_train, y_train, epochs=200, callbacks=[tb_callback])"
   ]
  },
  {
   "cell_type": "code",
   "execution_count": 62,
   "id": "d31d898e-047e-4651-9460-17555228b977",
   "metadata": {},
   "outputs": [
    {
     "data": {
      "image/png": "[encoded data removed]",
      "text/plain": [
       "<Figure size 2000x1000 with 2 Axes>"
      ]
     },
     "metadata": {},
     "output_type": "display_data"
    }
   ],
   "source": [
    "plt.style.use('dark_background')\n",
    "\n",
    "# Plot loss and accuracy graphs\n",
    "plt.figure(figsize=(20, 10))\n",
    "\n",
    "# Plot training loss\n",
    "plt.subplot(1, 2, 1)\n",
    "plt.plot(history.history['loss'], label='Training Loss')\n",
    "plt.title('Training Loss')\n",
    "plt.xlabel('Epoch')\n",
    "plt.legend()\n",
    "\n",
    "# Plot training accuracy\n",
    "plt.subplot(1, 2, 2)\n",
    "plt.plot(history.history['categorical_accuracy'], label='Training Accuracy')\n",
    "plt.title('Training Accuracy')\n",
    "plt.xlabel('Epoch')\n",
    "plt.legend()\n",
    "\n",
    "plt.tight_layout()\n",
    "plt.show()"
   ]
  },
  {
   "cell_type": "code",
   "execution_count": 63,
   "id": "96545626-7ac1-489b-b949-999e11002c3b",
   "metadata": {
    "scrolled": true
   },
   "outputs": [
    {
     "data": {
      "text/plain": [
       "<KerasTensor: shape=(None, 30, 30) dtype=float32 (created by layer 'attention')>"
      ]
     },
     "execution_count": 63,
     "metadata": {},
     "output_type": "execute_result"
    }
   ],
   "source": [
    "attention_scores"
   ]
  },
  {
   "cell_type": "code",
   "execution_count": null,
   "id": "87f2c73d-e593-4a13-91c3-3b8cc25c25a2",
   "metadata": {},
   "outputs": [],
   "source": []
  },
  {
   "cell_type": "code",
   "execution_count": null,
   "id": "ffef59bd-3970-4a3a-be97-4c330fb0d292",
   "metadata": {},
   "outputs": [],
   "source": []
  },
  {
   "cell_type": "code",
   "execution_count": 64,
   "id": "498a7476-be17-46a5-906a-a4d85d383bd1",
   "metadata": {},
   "outputs": [
    {
     "name": "stdout",
     "output_type": "stream",
     "text": [
      "1/1 [==============================] - 1s 695ms/step\n",
      "0.15789473684210525\n"
     ]
    }
   ],
   "source": [
    "from sklearn.metrics import multilabel_confusion_matrix, accuracy_score\n",
    "yhat = model.predict(X_test)\n",
    "ytrue = np.argmax(y_test, axis=1).tolist()\n",
    "yhat = np.argmax(yhat, axis=1).tolist()\n",
    "print(accuracy_score(ytrue, yhat))"
   ]
  },
  {
   "cell_type": "code",
   "execution_count": null,
   "id": "8a23e087-65b8-4c42-9899-33588eaa1d9d",
   "metadata": {},
   "outputs": [],
   "source": []
  },
  {
   "attachments": {
    "cd4069e6-143a-4976-912b-54089497e3fd.png": {
     "image/png": "[encoded data removed]"
    }
   },
   "cell_type": "markdown",
   "id": "e58e872a-edee-4efe-8e78-795b6a90bd4d",
   "metadata": {},
   "source": [
    "![image.png](attachment:cd4069e6-143a-4976-912b-54089497e3fd.png)"
   ]
  },
  {
   "cell_type": "code",
   "execution_count": null,
   "id": "546b1a6c-c342-4650-baac-b921d6f70bb1",
   "metadata": {
    "scrolled": true
   },
   "outputs": [],
   "source": []
  },
  {
   "cell_type": "code",
   "execution_count": 65,
   "id": "61f5db5b-b7de-4c72-9677-3890333bb97b",
   "metadata": {},
   "outputs": [
    {
     "data": {
      "text/plain": [
       "((353, 30, 1662), 353)"
      ]
     },
     "execution_count": 65,
     "metadata": {},
     "output_type": "execute_result"
    }
   ],
   "source": [
    "X_train.shape,y_train.shape[0]"
   ]
  },
  {
   "cell_type": "code",
   "execution_count": 66,
   "id": "7692a362-c271-4e4f-a3f1-2c706d77e403",
   "metadata": {
    "scrolled": true
   },
   "outputs": [
    {
     "data": {
      "text/plain": [
       "<keras.src.engine.functional.Functional at 0x1dfbf39ba10>"
      ]
     },
     "execution_count": 66,
     "metadata": {},
     "output_type": "execute_result"
    }
   ],
   "source": [
    "model"
   ]
  },
  {
   "cell_type": "code",
   "execution_count": 67,
   "id": "94dd774f-b1f6-40b7-a89d-fd173f8d1d23",
   "metadata": {
    "scrolled": true
   },
   "outputs": [
    {
     "name": "stdout",
     "output_type": "stream",
     "text": [
      "0 tf.Tensor([[0.1663751  0.16720973 0.1684702  0.16990247 0.1593162  0.16872628]], shape=(1, 6), dtype=float32)\n",
      "1 tf.Tensor([[0.1663751  0.16720973 0.1684702  0.16990247 0.1593162  0.16872628]], shape=(1, 6), dtype=float32)\n",
      "2 tf.Tensor([[0.1663751  0.16720973 0.1684702  0.16990247 0.1593162  0.16872628]], shape=(1, 6), dtype=float32)\n",
      "3 tf.Tensor([[0.1663751  0.16720973 0.1684702  0.16990247 0.1593162  0.16872628]], shape=(1, 6), dtype=float32)\n",
      "4 tf.Tensor([[0.1663751  0.16720973 0.1684702  0.16990247 0.1593162  0.16872628]], shape=(1, 6), dtype=float32)\n",
      "5 tf.Tensor([[0.1663751  0.16720973 0.1684702  0.16990247 0.1593162  0.16872628]], shape=(1, 6), dtype=float32)\n",
      "6 tf.Tensor([[0.1663751  0.16720973 0.1684702  0.16990247 0.1593162  0.16872628]], shape=(1, 6), dtype=float32)\n",
      "7 tf.Tensor([[0.1663751  0.16720973 0.1684702  0.16990247 0.1593162  0.16872628]], shape=(1, 6), dtype=float32)\n",
      "8 tf.Tensor([[0.1663751  0.16720973 0.1684702  0.16990247 0.1593162  0.16872628]], shape=(1, 6), dtype=float32)\n",
      "9 tf.Tensor([[0.1663751  0.16720973 0.1684702  0.16990247 0.1593162  0.16872628]], shape=(1, 6), dtype=float32)\n",
      "10 tf.Tensor([[0.1663751  0.16720973 0.1684702  0.16990247 0.1593162  0.16872628]], shape=(1, 6), dtype=float32)\n",
      "11 tf.Tensor([[0.1663751  0.16720973 0.1684702  0.16990247 0.1593162  0.16872628]], shape=(1, 6), dtype=float32)\n",
      "12 tf.Tensor([[0.1663751  0.16720973 0.1684702  0.16990247 0.1593162  0.16872628]], shape=(1, 6), dtype=float32)\n",
      "13 tf.Tensor([[0.1663751  0.16720973 0.1684702  0.16990247 0.1593162  0.16872628]], shape=(1, 6), dtype=float32)\n",
      "14 tf.Tensor([[0.1663751  0.16720973 0.1684702  0.16990247 0.1593162  0.16872628]], shape=(1, 6), dtype=float32)\n",
      "15 tf.Tensor([[0.1663751  0.16720973 0.1684702  0.16990247 0.1593162  0.16872628]], shape=(1, 6), dtype=float32)\n",
      "16 tf.Tensor([[0.1663751  0.16720973 0.1684702  0.16990247 0.1593162  0.16872628]], shape=(1, 6), dtype=float32)\n",
      "17 tf.Tensor([[0.1663751  0.16720973 0.1684702  0.16990247 0.1593162  0.16872628]], shape=(1, 6), dtype=float32)\n",
      "18 tf.Tensor([[0.1663751  0.16720973 0.1684702  0.16990247 0.1593162  0.16872628]], shape=(1, 6), dtype=float32)\n",
      "19 tf.Tensor([[0.1663751  0.16720973 0.1684702  0.16990247 0.1593162  0.16872628]], shape=(1, 6), dtype=float32)\n",
      "20 tf.Tensor([[0.1663751  0.16720973 0.1684702  0.16990247 0.1593162  0.16872628]], shape=(1, 6), dtype=float32)\n",
      "21 tf.Tensor([[0.1663751  0.16720973 0.1684702  0.16990247 0.1593162  0.16872628]], shape=(1, 6), dtype=float32)\n",
      "22 tf.Tensor([[0.1663751  0.16720973 0.1684702  0.16990247 0.1593162  0.16872628]], shape=(1, 6), dtype=float32)\n",
      "23 tf.Tensor([[0.1663751  0.16720973 0.1684702  0.16990247 0.1593162  0.16872628]], shape=(1, 6), dtype=float32)\n",
      "24 tf.Tensor([[0.1663751  0.16720973 0.1684702  0.16990247 0.1593162  0.16872628]], shape=(1, 6), dtype=float32)\n",
      "25 tf.Tensor([[0.1663751  0.16720973 0.1684702  0.16990247 0.1593162  0.16872628]], shape=(1, 6), dtype=float32)\n",
      "26 tf.Tensor([[0.1663751  0.16720973 0.1684702  0.16990247 0.1593162  0.16872628]], shape=(1, 6), dtype=float32)\n",
      "27 tf.Tensor([[0.1663751  0.16720973 0.1684702  0.16990247 0.1593162  0.16872628]], shape=(1, 6), dtype=float32)\n",
      "28 tf.Tensor([[0.1663751  0.16720973 0.1684702  0.16990247 0.1593162  0.16872628]], shape=(1, 6), dtype=float32)\n",
      "29 tf.Tensor([[0.1663751  0.16720973 0.1684702  0.16990247 0.1593162  0.16872628]], shape=(1, 6), dtype=float32)\n",
      "30 tf.Tensor([[0.1663751  0.16720973 0.1684702  0.16990247 0.1593162  0.16872628]], shape=(1, 6), dtype=float32)\n",
      "31 tf.Tensor([[0.1663751  0.16720973 0.1684702  0.16990247 0.1593162  0.16872628]], shape=(1, 6), dtype=float32)\n",
      "32 tf.Tensor([[0.1663751  0.16720973 0.1684702  0.16990247 0.1593162  0.16872628]], shape=(1, 6), dtype=float32)\n",
      "33 tf.Tensor([[0.1663751  0.16720973 0.1684702  0.16990247 0.1593162  0.16872628]], shape=(1, 6), dtype=float32)\n",
      "34 tf.Tensor([[0.1663751  0.16720973 0.1684702  0.16990247 0.1593162  0.16872628]], shape=(1, 6), dtype=float32)\n",
      "35 tf.Tensor([[0.1663751  0.16720973 0.1684702  0.16990247 0.1593162  0.16872628]], shape=(1, 6), dtype=float32)\n",
      "36 tf.Tensor([[0.1663751  0.16720973 0.1684702  0.16990247 0.1593162  0.16872628]], shape=(1, 6), dtype=float32)\n",
      "37 tf.Tensor([[0.1663751  0.16720973 0.1684702  0.16990247 0.1593162  0.16872628]], shape=(1, 6), dtype=float32)\n",
      "38 tf.Tensor([[0.1663751  0.16720973 0.1684702  0.16990247 0.1593162  0.16872628]], shape=(1, 6), dtype=float32)\n",
      "39 tf.Tensor([[0.1663751  0.16720973 0.1684702  0.16990247 0.1593162  0.16872628]], shape=(1, 6), dtype=float32)\n",
      "40 tf.Tensor([[0.1663751  0.16720973 0.1684702  0.16990247 0.1593162  0.16872628]], shape=(1, 6), dtype=float32)\n",
      "41 tf.Tensor([[0.1663751  0.16720973 0.1684702  0.16990247 0.1593162  0.16872628]], shape=(1, 6), dtype=float32)\n",
      "42 tf.Tensor([[0.1663751  0.16720973 0.1684702  0.16990247 0.1593162  0.16872628]], shape=(1, 6), dtype=float32)\n",
      "43 tf.Tensor([[0.1663751  0.16720973 0.1684702  0.16990247 0.1593162  0.16872628]], shape=(1, 6), dtype=float32)\n",
      "44 tf.Tensor([[0.1663751  0.16720973 0.1684702  0.16990247 0.1593162  0.16872628]], shape=(1, 6), dtype=float32)\n",
      "45 tf.Tensor([[0.1663751  0.16720973 0.1684702  0.16990247 0.1593162  0.16872628]], shape=(1, 6), dtype=float32)\n",
      "46 tf.Tensor([[0.1663751  0.16720973 0.1684702  0.16990247 0.1593162  0.16872628]], shape=(1, 6), dtype=float32)\n",
      "47 tf.Tensor([[0.1663751  0.16720973 0.1684702  0.16990247 0.1593162  0.16872628]], shape=(1, 6), dtype=float32)\n",
      "48 tf.Tensor([[0.1663751  0.16720973 0.1684702  0.16990247 0.1593162  0.16872628]], shape=(1, 6), dtype=float32)\n",
      "49 tf.Tensor([[0.1663751  0.16720973 0.1684702  0.16990247 0.1593162  0.16872628]], shape=(1, 6), dtype=float32)\n",
      "50 tf.Tensor([[0.1663751  0.16720973 0.1684702  0.16990247 0.1593162  0.16872628]], shape=(1, 6), dtype=float32)\n",
      "51 tf.Tensor([[0.1663751  0.16720973 0.1684702  0.16990247 0.1593162  0.16872628]], shape=(1, 6), dtype=float32)\n",
      "52 tf.Tensor([[0.1663751  0.16720973 0.1684702  0.16990247 0.1593162  0.16872628]], shape=(1, 6), dtype=float32)\n",
      "53 tf.Tensor([[0.1663751  0.16720973 0.1684702  0.16990247 0.1593162  0.16872628]], shape=(1, 6), dtype=float32)\n",
      "54 tf.Tensor([[0.1663751  0.16720973 0.1684702  0.16990247 0.1593162  0.16872628]], shape=(1, 6), dtype=float32)\n",
      "55 tf.Tensor([[0.1663751  0.16720973 0.1684702  0.16990247 0.1593162  0.16872628]], shape=(1, 6), dtype=float32)\n",
      "56 tf.Tensor([[0.1663751  0.16720973 0.1684702  0.16990247 0.1593162  0.16872628]], shape=(1, 6), dtype=float32)\n",
      "57 tf.Tensor([[0.1663751  0.16720973 0.1684702  0.16990247 0.1593162  0.16872628]], shape=(1, 6), dtype=float32)\n",
      "58 tf.Tensor([[0.1663751  0.16720973 0.1684702  0.16990247 0.1593162  0.16872628]], shape=(1, 6), dtype=float32)\n",
      "59 tf.Tensor([[0.1663751  0.16720973 0.1684702  0.16990247 0.1593162  0.16872628]], shape=(1, 6), dtype=float32)\n",
      "60 tf.Tensor([[0.1663751  0.16720973 0.1684702  0.16990247 0.1593162  0.16872628]], shape=(1, 6), dtype=float32)\n",
      "61 tf.Tensor([[0.1663751  0.16720973 0.1684702  0.16990247 0.1593162  0.16872628]], shape=(1, 6), dtype=float32)\n",
      "62 tf.Tensor([[0.1663751  0.16720973 0.1684702  0.16990247 0.1593162  0.16872628]], shape=(1, 6), dtype=float32)\n",
      "63 tf.Tensor([[0.1663751  0.16720973 0.1684702  0.16990247 0.1593162  0.16872628]], shape=(1, 6), dtype=float32)\n",
      "64 tf.Tensor([[0.1663751  0.16720973 0.1684702  0.16990247 0.1593162  0.16872628]], shape=(1, 6), dtype=float32)\n",
      "65 tf.Tensor([[0.1663751  0.16720973 0.1684702  0.16990247 0.1593162  0.16872628]], shape=(1, 6), dtype=float32)\n",
      "66 tf.Tensor([[0.1663751  0.16720973 0.1684702  0.16990247 0.1593162  0.16872628]], shape=(1, 6), dtype=float32)\n",
      "67 tf.Tensor([[0.1663751  0.16720973 0.1684702  0.16990247 0.1593162  0.16872628]], shape=(1, 6), dtype=float32)\n",
      "68 tf.Tensor([[0.1663751  0.16720973 0.1684702  0.16990247 0.1593162  0.16872628]], shape=(1, 6), dtype=float32)\n",
      "69 tf.Tensor([[0.1663751  0.16720973 0.1684702  0.16990247 0.1593162  0.16872628]], shape=(1, 6), dtype=float32)\n",
      "70 tf.Tensor([[0.1663751  0.16720973 0.1684702  0.16990247 0.1593162  0.16872628]], shape=(1, 6), dtype=float32)\n",
      "71 tf.Tensor([[0.1663751  0.16720973 0.1684702  0.16990247 0.1593162  0.16872628]], shape=(1, 6), dtype=float32)\n",
      "72 tf.Tensor([[0.1663751  0.16720973 0.1684702  0.16990247 0.1593162  0.16872628]], shape=(1, 6), dtype=float32)\n",
      "73 tf.Tensor([[0.1663751  0.16720973 0.1684702  0.16990247 0.1593162  0.16872628]], shape=(1, 6), dtype=float32)\n",
      "74 tf.Tensor([[0.1663751  0.16720973 0.1684702  0.16990247 0.1593162  0.16872628]], shape=(1, 6), dtype=float32)\n",
      "75 tf.Tensor([[0.1663751  0.16720973 0.1684702  0.16990247 0.1593162  0.16872628]], shape=(1, 6), dtype=float32)\n",
      "76 tf.Tensor([[0.1663751  0.16720973 0.1684702  0.16990247 0.1593162  0.16872628]], shape=(1, 6), dtype=float32)\n",
      "77 tf.Tensor([[0.1663751  0.16720973 0.1684702  0.16990247 0.1593162  0.16872628]], shape=(1, 6), dtype=float32)\n",
      "78 tf.Tensor([[0.1663751  0.16720973 0.1684702  0.16990247 0.1593162  0.16872628]], shape=(1, 6), dtype=float32)\n",
      "79 tf.Tensor([[0.1663751  0.16720973 0.1684702  0.16990247 0.1593162  0.16872628]], shape=(1, 6), dtype=float32)\n",
      "80 tf.Tensor([[0.1663751  0.16720973 0.1684702  0.16990247 0.1593162  0.16872628]], shape=(1, 6), dtype=float32)\n",
      "81 tf.Tensor([[0.1663751  0.16720973 0.1684702  0.16990247 0.1593162  0.16872628]], shape=(1, 6), dtype=float32)\n",
      "82 tf.Tensor([[0.1663751  0.16720973 0.1684702  0.16990247 0.1593162  0.16872628]], shape=(1, 6), dtype=float32)\n",
      "83 tf.Tensor([[0.1663751  0.16720973 0.1684702  0.16990247 0.1593162  0.16872628]], shape=(1, 6), dtype=float32)\n",
      "84 tf.Tensor([[0.1663751  0.16720973 0.1684702  0.16990247 0.1593162  0.16872628]], shape=(1, 6), dtype=float32)\n",
      "85 tf.Tensor([[0.1663751  0.16720973 0.1684702  0.16990247 0.1593162  0.16872628]], shape=(1, 6), dtype=float32)\n",
      "86 tf.Tensor([[0.1663751  0.16720973 0.1684702  0.16990247 0.1593162  0.16872628]], shape=(1, 6), dtype=float32)\n",
      "87 tf.Tensor([[0.1663751  0.16720973 0.1684702  0.16990247 0.1593162  0.16872628]], shape=(1, 6), dtype=float32)\n",
      "88 tf.Tensor([[0.1663751  0.16720973 0.1684702  0.16990247 0.1593162  0.16872628]], shape=(1, 6), dtype=float32)\n",
      "89 tf.Tensor([[0.1663751  0.16720973 0.1684702  0.16990247 0.1593162  0.16872628]], shape=(1, 6), dtype=float32)\n",
      "90 tf.Tensor([[0.1663751  0.16720973 0.1684702  0.16990247 0.1593162  0.16872628]], shape=(1, 6), dtype=float32)\n",
      "91 tf.Tensor([[0.1663751  0.16720973 0.1684702  0.16990247 0.1593162  0.16872628]], shape=(1, 6), dtype=float32)\n",
      "92 tf.Tensor([[0.1663751  0.16720973 0.1684702  0.16990247 0.1593162  0.16872628]], shape=(1, 6), dtype=float32)\n",
      "93 tf.Tensor([[0.1663751  0.16720973 0.1684702  0.16990247 0.1593162  0.16872628]], shape=(1, 6), dtype=float32)\n",
      "94 tf.Tensor([[0.1663751  0.16720973 0.1684702  0.16990247 0.1593162  0.16872628]], shape=(1, 6), dtype=float32)\n",
      "95 tf.Tensor([[0.1663751  0.16720973 0.1684702  0.16990247 0.1593162  0.16872628]], shape=(1, 6), dtype=float32)\n",
      "96 tf.Tensor([[0.1663751  0.16720973 0.1684702  0.16990247 0.1593162  0.16872628]], shape=(1, 6), dtype=float32)\n",
      "97 tf.Tensor([[0.1663751  0.16720973 0.1684702  0.16990247 0.1593162  0.16872628]], shape=(1, 6), dtype=float32)\n",
      "98 tf.Tensor([[0.1663751  0.16720973 0.1684702  0.16990247 0.1593162  0.16872628]], shape=(1, 6), dtype=float32)\n",
      "99 tf.Tensor([[0.1663751  0.16720973 0.1684702  0.16990247 0.1593162  0.16872628]], shape=(1, 6), dtype=float32)\n",
      "100 tf.Tensor([[0.1663751  0.16720973 0.1684702  0.16990247 0.1593162  0.16872628]], shape=(1, 6), dtype=float32)\n",
      "101 tf.Tensor([[0.1663751  0.16720973 0.1684702  0.16990247 0.1593162  0.16872628]], shape=(1, 6), dtype=float32)\n",
      "102 tf.Tensor([[0.1663751  0.16720973 0.1684702  0.16990247 0.1593162  0.16872628]], shape=(1, 6), dtype=float32)\n",
      "103 tf.Tensor([[0.1663751  0.16720973 0.1684702  0.16990247 0.1593162  0.16872628]], shape=(1, 6), dtype=float32)\n",
      "104 tf.Tensor([[0.1663751  0.16720973 0.1684702  0.16990247 0.1593162  0.16872628]], shape=(1, 6), dtype=float32)\n",
      "105 tf.Tensor([[0.1663751  0.16720973 0.1684702  0.16990247 0.1593162  0.16872628]], shape=(1, 6), dtype=float32)\n",
      "106 tf.Tensor([[0.1663751  0.16720973 0.1684702  0.16990247 0.1593162  0.16872628]], shape=(1, 6), dtype=float32)\n",
      "107 tf.Tensor([[0.1663751  0.16720973 0.1684702  0.16990247 0.1593162  0.16872628]], shape=(1, 6), dtype=float32)\n",
      "108 tf.Tensor([[0.1663751  0.16720973 0.1684702  0.16990247 0.1593162  0.16872628]], shape=(1, 6), dtype=float32)\n",
      "109 tf.Tensor([[0.1663751  0.16720973 0.1684702  0.16990247 0.1593162  0.16872628]], shape=(1, 6), dtype=float32)\n",
      "110 tf.Tensor([[0.1663751  0.16720973 0.1684702  0.16990247 0.1593162  0.16872628]], shape=(1, 6), dtype=float32)\n",
      "111 tf.Tensor([[0.1663751  0.16720973 0.1684702  0.16990247 0.1593162  0.16872628]], shape=(1, 6), dtype=float32)\n",
      "112 tf.Tensor([[0.1663751  0.16720973 0.1684702  0.16990247 0.1593162  0.16872628]], shape=(1, 6), dtype=float32)\n",
      "113 tf.Tensor([[0.1663751  0.16720973 0.1684702  0.16990247 0.1593162  0.16872628]], shape=(1, 6), dtype=float32)\n",
      "114 tf.Tensor([[0.1663751  0.16720973 0.1684702  0.16990247 0.1593162  0.16872628]], shape=(1, 6), dtype=float32)\n",
      "115 tf.Tensor([[0.1663751  0.16720973 0.1684702  0.16990247 0.1593162  0.16872628]], shape=(1, 6), dtype=float32)\n",
      "116 tf.Tensor([[0.1663751  0.16720973 0.1684702  0.16990247 0.1593162  0.16872628]], shape=(1, 6), dtype=float32)\n",
      "117 tf.Tensor([[0.1663751  0.16720973 0.1684702  0.16990247 0.1593162  0.16872628]], shape=(1, 6), dtype=float32)\n",
      "118 tf.Tensor([[0.1663751  0.16720973 0.1684702  0.16990247 0.1593162  0.16872628]], shape=(1, 6), dtype=float32)\n",
      "119 tf.Tensor([[0.1663751  0.16720973 0.1684702  0.16990247 0.1593162  0.16872628]], shape=(1, 6), dtype=float32)\n",
      "120 tf.Tensor([[0.1663751  0.16720973 0.1684702  0.16990247 0.1593162  0.16872628]], shape=(1, 6), dtype=float32)\n",
      "121 tf.Tensor([[0.1663751  0.16720973 0.1684702  0.16990247 0.1593162  0.16872628]], shape=(1, 6), dtype=float32)\n",
      "122 tf.Tensor([[0.1663751  0.16720973 0.1684702  0.16990247 0.1593162  0.16872628]], shape=(1, 6), dtype=float32)\n",
      "123 tf.Tensor([[0.1663751  0.16720973 0.1684702  0.16990247 0.1593162  0.16872628]], shape=(1, 6), dtype=float32)\n",
      "124 tf.Tensor([[0.1663751  0.16720973 0.1684702  0.16990247 0.1593162  0.16872628]], shape=(1, 6), dtype=float32)\n",
      "125 tf.Tensor([[0.1663751  0.16720973 0.1684702  0.16990247 0.1593162  0.16872628]], shape=(1, 6), dtype=float32)\n",
      "126 tf.Tensor([[0.1663751  0.16720973 0.1684702  0.16990247 0.1593162  0.16872628]], shape=(1, 6), dtype=float32)\n",
      "127 tf.Tensor([[0.1663751  0.16720973 0.1684702  0.16990247 0.1593162  0.16872628]], shape=(1, 6), dtype=float32)\n",
      "128 tf.Tensor([[0.1663751  0.16720973 0.1684702  0.16990247 0.1593162  0.16872628]], shape=(1, 6), dtype=float32)\n",
      "129 tf.Tensor([[0.1663751  0.16720973 0.1684702  0.16990247 0.1593162  0.16872628]], shape=(1, 6), dtype=float32)\n",
      "130 tf.Tensor([[0.1663751  0.16720973 0.1684702  0.16990247 0.1593162  0.16872628]], shape=(1, 6), dtype=float32)\n",
      "131 tf.Tensor([[0.1663751  0.16720973 0.1684702  0.16990247 0.1593162  0.16872628]], shape=(1, 6), dtype=float32)\n",
      "132 tf.Tensor([[0.1663751  0.16720973 0.1684702  0.16990247 0.1593162  0.16872628]], shape=(1, 6), dtype=float32)\n",
      "133 tf.Tensor([[0.1663751  0.16720973 0.1684702  0.16990247 0.1593162  0.16872628]], shape=(1, 6), dtype=float32)\n",
      "134 tf.Tensor([[0.1663751  0.16720973 0.1684702  0.16990247 0.1593162  0.16872628]], shape=(1, 6), dtype=float32)\n",
      "135 tf.Tensor([[0.1663751  0.16720973 0.1684702  0.16990247 0.1593162  0.16872628]], shape=(1, 6), dtype=float32)\n",
      "136 tf.Tensor([[0.1663751  0.16720973 0.1684702  0.16990247 0.1593162  0.16872628]], shape=(1, 6), dtype=float32)\n",
      "137 tf.Tensor([[0.1663751  0.16720973 0.1684702  0.16990247 0.1593162  0.16872628]], shape=(1, 6), dtype=float32)\n",
      "138 tf.Tensor([[0.1663751  0.16720973 0.1684702  0.16990247 0.1593162  0.16872628]], shape=(1, 6), dtype=float32)\n",
      "139 tf.Tensor([[0.1663751  0.16720973 0.1684702  0.16990247 0.1593162  0.16872628]], shape=(1, 6), dtype=float32)\n",
      "140 tf.Tensor([[0.1663751  0.16720973 0.1684702  0.16990247 0.1593162  0.16872628]], shape=(1, 6), dtype=float32)\n",
      "141 tf.Tensor([[0.1663751  0.16720973 0.1684702  0.16990247 0.1593162  0.16872628]], shape=(1, 6), dtype=float32)\n",
      "142 tf.Tensor([[0.1663751  0.16720973 0.1684702  0.16990247 0.1593162  0.16872628]], shape=(1, 6), dtype=float32)\n",
      "143 tf.Tensor([[0.1663751  0.16720973 0.1684702  0.16990247 0.1593162  0.16872628]], shape=(1, 6), dtype=float32)\n",
      "144 tf.Tensor([[0.1663751  0.16720973 0.1684702  0.16990247 0.1593162  0.16872628]], shape=(1, 6), dtype=float32)\n",
      "145 tf.Tensor([[0.1663751  0.16720973 0.1684702  0.16990247 0.1593162  0.16872628]], shape=(1, 6), dtype=float32)\n",
      "146 tf.Tensor([[0.1663751  0.16720973 0.1684702  0.16990247 0.1593162  0.16872628]], shape=(1, 6), dtype=float32)\n",
      "147 tf.Tensor([[0.1663751  0.16720973 0.1684702  0.16990247 0.1593162  0.16872628]], shape=(1, 6), dtype=float32)\n",
      "148 tf.Tensor([[0.1663751  0.16720973 0.1684702  0.16990247 0.1593162  0.16872628]], shape=(1, 6), dtype=float32)\n",
      "149 tf.Tensor([[0.1663751  0.16720973 0.1684702  0.16990247 0.1593162  0.16872628]], shape=(1, 6), dtype=float32)\n",
      "150 tf.Tensor([[0.1663751  0.16720973 0.1684702  0.16990247 0.1593162  0.16872628]], shape=(1, 6), dtype=float32)\n",
      "151 tf.Tensor([[0.1663751  0.16720973 0.1684702  0.16990247 0.1593162  0.16872628]], shape=(1, 6), dtype=float32)\n",
      "152 tf.Tensor([[0.1663751  0.16720973 0.1684702  0.16990247 0.1593162  0.16872628]], shape=(1, 6), dtype=float32)\n",
      "153 tf.Tensor([[0.1663751  0.16720973 0.1684702  0.16990247 0.1593162  0.16872628]], shape=(1, 6), dtype=float32)\n",
      "154 tf.Tensor([[0.1663751  0.16720973 0.1684702  0.16990247 0.1593162  0.16872628]], shape=(1, 6), dtype=float32)\n",
      "155 tf.Tensor([[0.1663751  0.16720973 0.1684702  0.16990247 0.1593162  0.16872628]], shape=(1, 6), dtype=float32)\n",
      "156 tf.Tensor([[0.1663751  0.16720973 0.1684702  0.16990247 0.1593162  0.16872628]], shape=(1, 6), dtype=float32)\n",
      "157 tf.Tensor([[0.1663751  0.16720973 0.1684702  0.16990247 0.1593162  0.16872628]], shape=(1, 6), dtype=float32)\n",
      "158 tf.Tensor([[0.1663751  0.16720973 0.1684702  0.16990247 0.1593162  0.16872628]], shape=(1, 6), dtype=float32)\n",
      "159 tf.Tensor([[0.1663751  0.16720973 0.1684702  0.16990247 0.1593162  0.16872628]], shape=(1, 6), dtype=float32)\n",
      "160 tf.Tensor([[0.1663751  0.16720973 0.1684702  0.16990247 0.1593162  0.16872628]], shape=(1, 6), dtype=float32)\n",
      "161 tf.Tensor([[0.1663751  0.16720973 0.1684702  0.16990247 0.1593162  0.16872628]], shape=(1, 6), dtype=float32)\n",
      "162 tf.Tensor([[0.1663751  0.16720973 0.1684702  0.16990247 0.1593162  0.16872628]], shape=(1, 6), dtype=float32)\n",
      "163 tf.Tensor([[0.1663751  0.16720973 0.1684702  0.16990247 0.1593162  0.16872628]], shape=(1, 6), dtype=float32)\n",
      "164 tf.Tensor([[0.1663751  0.16720973 0.1684702  0.16990247 0.1593162  0.16872628]], shape=(1, 6), dtype=float32)\n",
      "165 tf.Tensor([[0.1663751  0.16720973 0.1684702  0.16990247 0.1593162  0.16872628]], shape=(1, 6), dtype=float32)\n",
      "166 tf.Tensor([[0.1663751  0.16720973 0.1684702  0.16990247 0.1593162  0.16872628]], shape=(1, 6), dtype=float32)\n",
      "167 tf.Tensor([[0.1663751  0.16720973 0.1684702  0.16990247 0.1593162  0.16872628]], shape=(1, 6), dtype=float32)\n",
      "168 tf.Tensor([[0.1663751  0.16720973 0.1684702  0.16990247 0.1593162  0.16872628]], shape=(1, 6), dtype=float32)\n",
      "169 tf.Tensor([[0.1663751  0.16720973 0.1684702  0.16990247 0.1593162  0.16872628]], shape=(1, 6), dtype=float32)\n",
      "170 tf.Tensor([[0.1663751  0.16720973 0.1684702  0.16990247 0.1593162  0.16872628]], shape=(1, 6), dtype=float32)\n",
      "171 tf.Tensor([[0.1663751  0.16720973 0.1684702  0.16990247 0.1593162  0.16872628]], shape=(1, 6), dtype=float32)\n",
      "172 tf.Tensor([[0.1663751  0.16720973 0.1684702  0.16990247 0.1593162  0.16872628]], shape=(1, 6), dtype=float32)\n",
      "173 tf.Tensor([[0.1663751  0.16720973 0.1684702  0.16990247 0.1593162  0.16872628]], shape=(1, 6), dtype=float32)\n",
      "174 tf.Tensor([[0.1663751  0.16720973 0.1684702  0.16990247 0.1593162  0.16872628]], shape=(1, 6), dtype=float32)\n",
      "175 tf.Tensor([[0.1663751  0.16720973 0.1684702  0.16990247 0.1593162  0.16872628]], shape=(1, 6), dtype=float32)\n",
      "176 tf.Tensor([[0.1663751  0.16720973 0.1684702  0.16990247 0.1593162  0.16872628]], shape=(1, 6), dtype=float32)\n",
      "177 tf.Tensor([[0.1663751  0.16720973 0.1684702  0.16990247 0.1593162  0.16872628]], shape=(1, 6), dtype=float32)\n",
      "178 tf.Tensor([[0.1663751  0.16720973 0.1684702  0.16990247 0.1593162  0.16872628]], shape=(1, 6), dtype=float32)\n",
      "179 tf.Tensor([[0.1663751  0.16720973 0.1684702  0.16990247 0.1593162  0.16872628]], shape=(1, 6), dtype=float32)\n",
      "180 tf.Tensor([[0.1663751  0.16720973 0.1684702  0.16990247 0.1593162  0.16872628]], shape=(1, 6), dtype=float32)\n",
      "181 tf.Tensor([[0.1663751  0.16720973 0.1684702  0.16990247 0.1593162  0.16872628]], shape=(1, 6), dtype=float32)\n",
      "182 tf.Tensor([[0.1663751  0.16720973 0.1684702  0.16990247 0.1593162  0.16872628]], shape=(1, 6), dtype=float32)\n",
      "183 tf.Tensor([[0.1663751  0.16720973 0.1684702  0.16990247 0.1593162  0.16872628]], shape=(1, 6), dtype=float32)\n",
      "184 tf.Tensor([[0.1663751  0.16720973 0.1684702  0.16990247 0.1593162  0.16872628]], shape=(1, 6), dtype=float32)\n",
      "185 tf.Tensor([[0.1663751  0.16720973 0.1684702  0.16990247 0.1593162  0.16872628]], shape=(1, 6), dtype=float32)\n",
      "186 tf.Tensor([[0.1663751  0.16720973 0.1684702  0.16990247 0.1593162  0.16872628]], shape=(1, 6), dtype=float32)\n",
      "187 tf.Tensor([[0.1663751  0.16720973 0.1684702  0.16990247 0.1593162  0.16872628]], shape=(1, 6), dtype=float32)\n",
      "188 tf.Tensor([[0.1663751  0.16720973 0.1684702  0.16990247 0.1593162  0.16872628]], shape=(1, 6), dtype=float32)\n",
      "189 tf.Tensor([[0.1663751  0.16720973 0.1684702  0.16990247 0.1593162  0.16872628]], shape=(1, 6), dtype=float32)\n",
      "190 tf.Tensor([[0.1663751  0.16720973 0.1684702  0.16990247 0.1593162  0.16872628]], shape=(1, 6), dtype=float32)\n",
      "191 tf.Tensor([[0.1663751  0.16720973 0.1684702  0.16990247 0.1593162  0.16872628]], shape=(1, 6), dtype=float32)\n",
      "192 tf.Tensor([[0.1663751  0.16720973 0.1684702  0.16990247 0.1593162  0.16872628]], shape=(1, 6), dtype=float32)\n",
      "193 tf.Tensor([[0.1663751  0.16720973 0.1684702  0.16990247 0.1593162  0.16872628]], shape=(1, 6), dtype=float32)\n",
      "194 tf.Tensor([[0.1663751  0.16720973 0.1684702  0.16990247 0.1593162  0.16872628]], shape=(1, 6), dtype=float32)\n",
      "195 tf.Tensor([[0.1663751  0.16720973 0.1684702  0.16990247 0.1593162  0.16872628]], shape=(1, 6), dtype=float32)\n",
      "196 tf.Tensor([[0.1663751  0.16720973 0.1684702  0.16990247 0.1593162  0.16872628]], shape=(1, 6), dtype=float32)\n",
      "197 tf.Tensor([[0.1663751  0.16720973 0.1684702  0.16990247 0.1593162  0.16872628]], shape=(1, 6), dtype=float32)\n",
      "198 tf.Tensor([[0.1663751  0.16720973 0.1684702  0.16990247 0.1593162  0.16872628]], shape=(1, 6), dtype=float32)\n",
      "199 tf.Tensor([[0.1663751  0.16720973 0.1684702  0.16990247 0.1593162  0.16872628]], shape=(1, 6), dtype=float32)\n",
      "200 tf.Tensor([[0.1663751  0.16720973 0.1684702  0.16990247 0.1593162  0.16872628]], shape=(1, 6), dtype=float32)\n",
      "201 tf.Tensor([[0.1663751  0.16720973 0.1684702  0.16990247 0.1593162  0.16872628]], shape=(1, 6), dtype=float32)\n",
      "202 tf.Tensor([[0.1663751  0.16720973 0.1684702  0.16990247 0.1593162  0.16872628]], shape=(1, 6), dtype=float32)\n",
      "203 tf.Tensor([[0.1663751  0.16720973 0.1684702  0.16990247 0.1593162  0.16872628]], shape=(1, 6), dtype=float32)\n",
      "204 tf.Tensor([[0.1663751  0.16720973 0.1684702  0.16990247 0.1593162  0.16872628]], shape=(1, 6), dtype=float32)\n",
      "205 tf.Tensor([[0.1663751  0.16720973 0.1684702  0.16990247 0.1593162  0.16872628]], shape=(1, 6), dtype=float32)\n",
      "206 tf.Tensor([[0.1663751  0.16720973 0.1684702  0.16990247 0.1593162  0.16872628]], shape=(1, 6), dtype=float32)\n",
      "207 tf.Tensor([[0.1663751  0.16720973 0.1684702  0.16990247 0.1593162  0.16872628]], shape=(1, 6), dtype=float32)\n",
      "208 tf.Tensor([[0.1663751  0.16720973 0.1684702  0.16990247 0.1593162  0.16872628]], shape=(1, 6), dtype=float32)\n",
      "209 tf.Tensor([[0.1663751  0.16720973 0.1684702  0.16990247 0.1593162  0.16872628]], shape=(1, 6), dtype=float32)\n",
      "210 tf.Tensor([[0.1663751  0.16720973 0.1684702  0.16990247 0.1593162  0.16872628]], shape=(1, 6), dtype=float32)\n",
      "211 tf.Tensor([[0.1663751  0.16720973 0.1684702  0.16990247 0.1593162  0.16872628]], shape=(1, 6), dtype=float32)\n",
      "212 tf.Tensor([[0.1663751  0.16720973 0.1684702  0.16990247 0.1593162  0.16872628]], shape=(1, 6), dtype=float32)\n",
      "213 tf.Tensor([[0.1663751  0.16720973 0.1684702  0.16990247 0.1593162  0.16872628]], shape=(1, 6), dtype=float32)\n",
      "214 tf.Tensor([[0.1663751  0.16720973 0.1684702  0.16990247 0.1593162  0.16872628]], shape=(1, 6), dtype=float32)\n",
      "215 tf.Tensor([[0.1663751  0.16720973 0.1684702  0.16990247 0.1593162  0.16872628]], shape=(1, 6), dtype=float32)\n",
      "216 tf.Tensor([[0.1663751  0.16720973 0.1684702  0.16990247 0.1593162  0.16872628]], shape=(1, 6), dtype=float32)\n",
      "217 tf.Tensor([[0.1663751  0.16720973 0.1684702  0.16990247 0.1593162  0.16872628]], shape=(1, 6), dtype=float32)\n",
      "218 tf.Tensor([[0.1663751  0.16720973 0.1684702  0.16990247 0.1593162  0.16872628]], shape=(1, 6), dtype=float32)\n",
      "219 tf.Tensor([[0.1663751  0.16720973 0.1684702  0.16990247 0.1593162  0.16872628]], shape=(1, 6), dtype=float32)\n",
      "220 tf.Tensor([[0.1663751  0.16720973 0.1684702  0.16990247 0.1593162  0.16872628]], shape=(1, 6), dtype=float32)\n",
      "221 tf.Tensor([[0.1663751  0.16720973 0.1684702  0.16990247 0.1593162  0.16872628]], shape=(1, 6), dtype=float32)\n",
      "222 tf.Tensor([[0.1663751  0.16720973 0.1684702  0.16990247 0.1593162  0.16872628]], shape=(1, 6), dtype=float32)\n",
      "223 tf.Tensor([[0.1663751  0.16720973 0.1684702  0.16990247 0.1593162  0.16872628]], shape=(1, 6), dtype=float32)\n",
      "224 tf.Tensor([[0.1663751  0.16720973 0.1684702  0.16990247 0.1593162  0.16872628]], shape=(1, 6), dtype=float32)\n",
      "225 tf.Tensor([[0.1663751  0.16720973 0.1684702  0.16990247 0.1593162  0.16872628]], shape=(1, 6), dtype=float32)\n",
      "226 tf.Tensor([[0.1663751  0.16720973 0.1684702  0.16990247 0.1593162  0.16872628]], shape=(1, 6), dtype=float32)\n",
      "227 tf.Tensor([[0.1663751  0.16720973 0.1684702  0.16990247 0.1593162  0.16872628]], shape=(1, 6), dtype=float32)\n",
      "228 tf.Tensor([[0.1663751  0.16720973 0.1684702  0.16990247 0.1593162  0.16872628]], shape=(1, 6), dtype=float32)\n",
      "229 tf.Tensor([[0.1663751  0.16720973 0.1684702  0.16990247 0.1593162  0.16872628]], shape=(1, 6), dtype=float32)\n",
      "230 tf.Tensor([[0.1663751  0.16720973 0.1684702  0.16990247 0.1593162  0.16872628]], shape=(1, 6), dtype=float32)\n",
      "231 tf.Tensor([[0.1663751  0.16720973 0.1684702  0.16990247 0.1593162  0.16872628]], shape=(1, 6), dtype=float32)\n",
      "232 tf.Tensor([[0.1663751  0.16720973 0.1684702  0.16990247 0.1593162  0.16872628]], shape=(1, 6), dtype=float32)\n",
      "233 tf.Tensor([[0.1663751  0.16720973 0.1684702  0.16990247 0.1593162  0.16872628]], shape=(1, 6), dtype=float32)\n",
      "234 tf.Tensor([[0.1663751  0.16720973 0.1684702  0.16990247 0.1593162  0.16872628]], shape=(1, 6), dtype=float32)\n",
      "235 tf.Tensor([[0.1663751  0.16720973 0.1684702  0.16990247 0.1593162  0.16872628]], shape=(1, 6), dtype=float32)\n",
      "236 tf.Tensor([[0.1663751  0.16720973 0.1684702  0.16990247 0.1593162  0.16872628]], shape=(1, 6), dtype=float32)\n",
      "237 tf.Tensor([[0.1663751  0.16720973 0.1684702  0.16990247 0.1593162  0.16872628]], shape=(1, 6), dtype=float32)\n",
      "238 tf.Tensor([[0.1663751  0.16720973 0.1684702  0.16990247 0.1593162  0.16872628]], shape=(1, 6), dtype=float32)\n",
      "239 tf.Tensor([[0.1663751  0.16720973 0.1684702  0.16990247 0.1593162  0.16872628]], shape=(1, 6), dtype=float32)\n",
      "240 tf.Tensor([[0.1663751  0.16720973 0.1684702  0.16990247 0.1593162  0.16872628]], shape=(1, 6), dtype=float32)\n",
      "241 tf.Tensor([[0.1663751  0.16720973 0.1684702  0.16990247 0.1593162  0.16872628]], shape=(1, 6), dtype=float32)\n",
      "242 tf.Tensor([[0.1663751  0.16720973 0.1684702  0.16990247 0.1593162  0.16872628]], shape=(1, 6), dtype=float32)\n",
      "243 tf.Tensor([[0.1663751  0.16720973 0.1684702  0.16990247 0.1593162  0.16872628]], shape=(1, 6), dtype=float32)\n",
      "244 tf.Tensor([[0.1663751  0.16720973 0.1684702  0.16990247 0.1593162  0.16872628]], shape=(1, 6), dtype=float32)\n",
      "245 tf.Tensor([[0.1663751  0.16720973 0.1684702  0.16990247 0.1593162  0.16872628]], shape=(1, 6), dtype=float32)\n",
      "246 tf.Tensor([[0.1663751  0.16720973 0.1684702  0.16990247 0.1593162  0.16872628]], shape=(1, 6), dtype=float32)\n",
      "247 tf.Tensor([[0.1663751  0.16720973 0.1684702  0.16990247 0.1593162  0.16872628]], shape=(1, 6), dtype=float32)\n",
      "248 tf.Tensor([[0.1663751  0.16720973 0.1684702  0.16990247 0.1593162  0.16872628]], shape=(1, 6), dtype=float32)\n",
      "249 tf.Tensor([[0.1663751  0.16720973 0.1684702  0.16990247 0.1593162  0.16872628]], shape=(1, 6), dtype=float32)\n",
      "250 tf.Tensor([[0.1663751  0.16720973 0.1684702  0.16990247 0.1593162  0.16872628]], shape=(1, 6), dtype=float32)\n",
      "251 tf.Tensor([[0.1663751  0.16720973 0.1684702  0.16990247 0.1593162  0.16872628]], shape=(1, 6), dtype=float32)\n",
      "252 tf.Tensor([[0.1663751  0.16720973 0.1684702  0.16990247 0.1593162  0.16872628]], shape=(1, 6), dtype=float32)\n",
      "253 tf.Tensor([[0.1663751  0.16720973 0.1684702  0.16990247 0.1593162  0.16872628]], shape=(1, 6), dtype=float32)\n",
      "254 tf.Tensor([[0.1663751  0.16720973 0.1684702  0.16990247 0.1593162  0.16872628]], shape=(1, 6), dtype=float32)\n",
      "255 tf.Tensor([[0.1663751  0.16720973 0.1684702  0.16990247 0.1593162  0.16872628]], shape=(1, 6), dtype=float32)\n",
      "256 tf.Tensor([[0.1663751  0.16720973 0.1684702  0.16990247 0.1593162  0.16872628]], shape=(1, 6), dtype=float32)\n",
      "257 tf.Tensor([[0.1663751  0.16720973 0.1684702  0.16990247 0.1593162  0.16872628]], shape=(1, 6), dtype=float32)\n",
      "258 tf.Tensor([[0.1663751  0.16720973 0.1684702  0.16990247 0.1593162  0.16872628]], shape=(1, 6), dtype=float32)\n",
      "259 tf.Tensor([[0.1663751  0.16720973 0.1684702  0.16990247 0.1593162  0.16872628]], shape=(1, 6), dtype=float32)\n",
      "260 tf.Tensor([[0.1663751  0.16720973 0.1684702  0.16990247 0.1593162  0.16872628]], shape=(1, 6), dtype=float32)\n",
      "261 tf.Tensor([[0.1663751  0.16720973 0.1684702  0.16990247 0.1593162  0.16872628]], shape=(1, 6), dtype=float32)\n",
      "262 tf.Tensor([[0.1663751  0.16720973 0.1684702  0.16990247 0.1593162  0.16872628]], shape=(1, 6), dtype=float32)\n",
      "263 tf.Tensor([[0.1663751  0.16720973 0.1684702  0.16990247 0.1593162  0.16872628]], shape=(1, 6), dtype=float32)\n",
      "264 tf.Tensor([[0.1663751  0.16720973 0.1684702  0.16990247 0.1593162  0.16872628]], shape=(1, 6), dtype=float32)\n",
      "265 tf.Tensor([[0.1663751  0.16720973 0.1684702  0.16990247 0.1593162  0.16872628]], shape=(1, 6), dtype=float32)\n",
      "266 tf.Tensor([[0.1663751  0.16720973 0.1684702  0.16990247 0.1593162  0.16872628]], shape=(1, 6), dtype=float32)\n",
      "267 tf.Tensor([[0.1663751  0.16720973 0.1684702  0.16990247 0.1593162  0.16872628]], shape=(1, 6), dtype=float32)\n",
      "268 tf.Tensor([[0.1663751  0.16720973 0.1684702  0.16990247 0.1593162  0.16872628]], shape=(1, 6), dtype=float32)\n",
      "269 tf.Tensor([[0.1663751  0.16720973 0.1684702  0.16990247 0.1593162  0.16872628]], shape=(1, 6), dtype=float32)\n",
      "270 tf.Tensor([[0.1663751  0.16720973 0.1684702  0.16990247 0.1593162  0.16872628]], shape=(1, 6), dtype=float32)\n",
      "271 tf.Tensor([[0.1663751  0.16720973 0.1684702  0.16990247 0.1593162  0.16872628]], shape=(1, 6), dtype=float32)\n",
      "272 tf.Tensor([[0.1663751  0.16720973 0.1684702  0.16990247 0.1593162  0.16872628]], shape=(1, 6), dtype=float32)\n",
      "273 tf.Tensor([[0.1663751  0.16720973 0.1684702  0.16990247 0.1593162  0.16872628]], shape=(1, 6), dtype=float32)\n",
      "274 tf.Tensor([[0.1663751  0.16720973 0.1684702  0.16990247 0.1593162  0.16872628]], shape=(1, 6), dtype=float32)\n",
      "275 tf.Tensor([[0.1663751  0.16720973 0.1684702  0.16990247 0.1593162  0.16872628]], shape=(1, 6), dtype=float32)\n",
      "276 tf.Tensor([[0.1663751  0.16720973 0.1684702  0.16990247 0.1593162  0.16872628]], shape=(1, 6), dtype=float32)\n",
      "277 tf.Tensor([[0.1663751  0.16720973 0.1684702  0.16990247 0.1593162  0.16872628]], shape=(1, 6), dtype=float32)\n",
      "278 tf.Tensor([[0.1663751  0.16720973 0.1684702  0.16990247 0.1593162  0.16872628]], shape=(1, 6), dtype=float32)\n",
      "279 tf.Tensor([[0.1663751  0.16720973 0.1684702  0.16990247 0.1593162  0.16872628]], shape=(1, 6), dtype=float32)\n",
      "280 tf.Tensor([[0.1663751  0.16720973 0.1684702  0.16990247 0.1593162  0.16872628]], shape=(1, 6), dtype=float32)\n",
      "281 tf.Tensor([[0.1663751  0.16720973 0.1684702  0.16990247 0.1593162  0.16872628]], shape=(1, 6), dtype=float32)\n",
      "282 tf.Tensor([[0.1663751  0.16720973 0.1684702  0.16990247 0.1593162  0.16872628]], shape=(1, 6), dtype=float32)\n",
      "283 tf.Tensor([[0.1663751  0.16720973 0.1684702  0.16990247 0.1593162  0.16872628]], shape=(1, 6), dtype=float32)\n",
      "284 tf.Tensor([[0.1663751  0.16720973 0.1684702  0.16990247 0.1593162  0.16872628]], shape=(1, 6), dtype=float32)\n",
      "285 tf.Tensor([[0.1663751  0.16720973 0.1684702  0.16990247 0.1593162  0.16872628]], shape=(1, 6), dtype=float32)\n",
      "286 tf.Tensor([[0.1663751  0.16720973 0.1684702  0.16990247 0.1593162  0.16872628]], shape=(1, 6), dtype=float32)\n",
      "287 tf.Tensor([[0.1663751  0.16720973 0.1684702  0.16990247 0.1593162  0.16872628]], shape=(1, 6), dtype=float32)\n",
      "288 tf.Tensor([[0.1663751  0.16720973 0.1684702  0.16990247 0.1593162  0.16872628]], shape=(1, 6), dtype=float32)\n",
      "289 tf.Tensor([[0.1663751  0.16720973 0.1684702  0.16990247 0.1593162  0.16872628]], shape=(1, 6), dtype=float32)\n",
      "290 tf.Tensor([[0.1663751  0.16720973 0.1684702  0.16990247 0.1593162  0.16872628]], shape=(1, 6), dtype=float32)\n",
      "291 tf.Tensor([[0.1663751  0.16720973 0.1684702  0.16990247 0.1593162  0.16872628]], shape=(1, 6), dtype=float32)\n",
      "292 tf.Tensor([[0.1663751  0.16720973 0.1684702  0.16990247 0.1593162  0.16872628]], shape=(1, 6), dtype=float32)\n",
      "293 tf.Tensor([[0.1663751  0.16720973 0.1684702  0.16990247 0.1593162  0.16872628]], shape=(1, 6), dtype=float32)\n",
      "294 tf.Tensor([[0.1663751  0.16720973 0.1684702  0.16990247 0.1593162  0.16872628]], shape=(1, 6), dtype=float32)\n",
      "295 tf.Tensor([[0.1663751  0.16720973 0.1684702  0.16990247 0.1593162  0.16872628]], shape=(1, 6), dtype=float32)\n",
      "296 tf.Tensor([[0.1663751  0.16720973 0.1684702  0.16990247 0.1593162  0.16872628]], shape=(1, 6), dtype=float32)\n",
      "297 tf.Tensor([[0.1663751  0.16720973 0.1684702  0.16990247 0.1593162  0.16872628]], shape=(1, 6), dtype=float32)\n",
      "298 tf.Tensor([[0.1663751  0.16720973 0.1684702  0.16990247 0.1593162  0.16872628]], shape=(1, 6), dtype=float32)\n",
      "299 tf.Tensor([[0.1663751  0.16720973 0.1684702  0.16990247 0.1593162  0.16872628]], shape=(1, 6), dtype=float32)\n",
      "300 tf.Tensor([[0.1663751  0.16720973 0.1684702  0.16990247 0.1593162  0.16872628]], shape=(1, 6), dtype=float32)\n",
      "301 tf.Tensor([[0.1663751  0.16720973 0.1684702  0.16990247 0.1593162  0.16872628]], shape=(1, 6), dtype=float32)\n",
      "302 tf.Tensor([[0.1663751  0.16720973 0.1684702  0.16990247 0.1593162  0.16872628]], shape=(1, 6), dtype=float32)\n",
      "303 tf.Tensor([[0.1663751  0.16720973 0.1684702  0.16990247 0.1593162  0.16872628]], shape=(1, 6), dtype=float32)\n",
      "304 tf.Tensor([[0.1663751  0.16720973 0.1684702  0.16990247 0.1593162  0.16872628]], shape=(1, 6), dtype=float32)\n",
      "305 tf.Tensor([[0.1663751  0.16720973 0.1684702  0.16990247 0.1593162  0.16872628]], shape=(1, 6), dtype=float32)\n",
      "306 tf.Tensor([[0.1663751  0.16720973 0.1684702  0.16990247 0.1593162  0.16872628]], shape=(1, 6), dtype=float32)\n",
      "307 tf.Tensor([[0.1663751  0.16720973 0.1684702  0.16990247 0.1593162  0.16872628]], shape=(1, 6), dtype=float32)\n",
      "308 tf.Tensor([[0.1663751  0.16720973 0.1684702  0.16990247 0.1593162  0.16872628]], shape=(1, 6), dtype=float32)\n",
      "309 tf.Tensor([[0.1663751  0.16720973 0.1684702  0.16990247 0.1593162  0.16872628]], shape=(1, 6), dtype=float32)\n",
      "310 tf.Tensor([[0.1663751  0.16720973 0.1684702  0.16990247 0.1593162  0.16872628]], shape=(1, 6), dtype=float32)\n",
      "311 tf.Tensor([[0.1663751  0.16720973 0.1684702  0.16990247 0.1593162  0.16872628]], shape=(1, 6), dtype=float32)\n",
      "312 tf.Tensor([[0.1663751  0.16720973 0.1684702  0.16990247 0.1593162  0.16872628]], shape=(1, 6), dtype=float32)\n",
      "313 tf.Tensor([[0.1663751  0.16720973 0.1684702  0.16990247 0.1593162  0.16872628]], shape=(1, 6), dtype=float32)\n",
      "314 tf.Tensor([[0.1663751  0.16720973 0.1684702  0.16990247 0.1593162  0.16872628]], shape=(1, 6), dtype=float32)\n",
      "315 tf.Tensor([[0.1663751  0.16720973 0.1684702  0.16990247 0.1593162  0.16872628]], shape=(1, 6), dtype=float32)\n",
      "316 tf.Tensor([[0.1663751  0.16720973 0.1684702  0.16990247 0.1593162  0.16872628]], shape=(1, 6), dtype=float32)\n",
      "317 tf.Tensor([[0.1663751  0.16720973 0.1684702  0.16990247 0.1593162  0.16872628]], shape=(1, 6), dtype=float32)\n",
      "318 tf.Tensor([[0.1663751  0.16720973 0.1684702  0.16990247 0.1593162  0.16872628]], shape=(1, 6), dtype=float32)\n",
      "319 tf.Tensor([[0.1663751  0.16720973 0.1684702  0.16990247 0.1593162  0.16872628]], shape=(1, 6), dtype=float32)\n",
      "320 tf.Tensor([[0.1663751  0.16720973 0.1684702  0.16990247 0.1593162  0.16872628]], shape=(1, 6), dtype=float32)\n",
      "321 tf.Tensor([[0.1663751  0.16720973 0.1684702  0.16990247 0.1593162  0.16872628]], shape=(1, 6), dtype=float32)\n",
      "322 tf.Tensor([[0.1663751  0.16720973 0.1684702  0.16990247 0.1593162  0.16872628]], shape=(1, 6), dtype=float32)\n",
      "323 tf.Tensor([[0.1663751  0.16720973 0.1684702  0.16990247 0.1593162  0.16872628]], shape=(1, 6), dtype=float32)\n",
      "324 tf.Tensor([[0.1663751  0.16720973 0.1684702  0.16990247 0.1593162  0.16872628]], shape=(1, 6), dtype=float32)\n",
      "325 tf.Tensor([[0.1663751  0.16720973 0.1684702  0.16990247 0.1593162  0.16872628]], shape=(1, 6), dtype=float32)\n",
      "326 tf.Tensor([[0.1663751  0.16720973 0.1684702  0.16990247 0.1593162  0.16872628]], shape=(1, 6), dtype=float32)\n",
      "327 tf.Tensor([[0.1663751  0.16720973 0.1684702  0.16990247 0.1593162  0.16872628]], shape=(1, 6), dtype=float32)\n",
      "328 tf.Tensor([[0.1663751  0.16720973 0.1684702  0.16990247 0.1593162  0.16872628]], shape=(1, 6), dtype=float32)\n",
      "329 tf.Tensor([[0.1663751  0.16720973 0.1684702  0.16990247 0.1593162  0.16872628]], shape=(1, 6), dtype=float32)\n",
      "330 tf.Tensor([[0.1663751  0.16720973 0.1684702  0.16990247 0.1593162  0.16872628]], shape=(1, 6), dtype=float32)\n",
      "331 tf.Tensor([[0.1663751  0.16720973 0.1684702  0.16990247 0.1593162  0.16872628]], shape=(1, 6), dtype=float32)\n",
      "332 tf.Tensor([[0.1663751  0.16720973 0.1684702  0.16990247 0.1593162  0.16872628]], shape=(1, 6), dtype=float32)\n",
      "333 tf.Tensor([[0.1663751  0.16720973 0.1684702  0.16990247 0.1593162  0.16872628]], shape=(1, 6), dtype=float32)\n",
      "334 tf.Tensor([[0.1663751  0.16720973 0.1684702  0.16990247 0.1593162  0.16872628]], shape=(1, 6), dtype=float32)\n",
      "335 tf.Tensor([[0.1663751  0.16720973 0.1684702  0.16990247 0.1593162  0.16872628]], shape=(1, 6), dtype=float32)\n",
      "336 tf.Tensor([[0.1663751  0.16720973 0.1684702  0.16990247 0.1593162  0.16872628]], shape=(1, 6), dtype=float32)\n",
      "337 tf.Tensor([[0.1663751  0.16720973 0.1684702  0.16990247 0.1593162  0.16872628]], shape=(1, 6), dtype=float32)\n",
      "338 tf.Tensor([[0.1663751  0.16720973 0.1684702  0.16990247 0.1593162  0.16872628]], shape=(1, 6), dtype=float32)\n",
      "339 tf.Tensor([[0.1663751  0.16720973 0.1684702  0.16990247 0.1593162  0.16872628]], shape=(1, 6), dtype=float32)\n",
      "340 tf.Tensor([[0.1663751  0.16720973 0.1684702  0.16990247 0.1593162  0.16872628]], shape=(1, 6), dtype=float32)\n",
      "341 tf.Tensor([[0.1663751  0.16720973 0.1684702  0.16990247 0.1593162  0.16872628]], shape=(1, 6), dtype=float32)\n",
      "342 tf.Tensor([[0.1663751  0.16720973 0.1684702  0.16990247 0.1593162  0.16872628]], shape=(1, 6), dtype=float32)\n",
      "343 tf.Tensor([[0.1663751  0.16720973 0.1684702  0.16990247 0.1593162  0.16872628]], shape=(1, 6), dtype=float32)\n",
      "344 tf.Tensor([[0.1663751  0.16720973 0.1684702  0.16990247 0.1593162  0.16872628]], shape=(1, 6), dtype=float32)\n",
      "345 tf.Tensor([[0.1663751  0.16720973 0.1684702  0.16990247 0.1593162  0.16872628]], shape=(1, 6), dtype=float32)\n",
      "346 tf.Tensor([[0.1663751  0.16720973 0.1684702  0.16990247 0.1593162  0.16872628]], shape=(1, 6), dtype=float32)\n",
      "347 tf.Tensor([[0.1663751  0.16720973 0.1684702  0.16990247 0.1593162  0.16872628]], shape=(1, 6), dtype=float32)\n",
      "348 tf.Tensor([[0.1663751  0.16720973 0.1684702  0.16990247 0.1593162  0.16872628]], shape=(1, 6), dtype=float32)\n",
      "349 tf.Tensor([[0.1663751  0.16720973 0.1684702  0.16990247 0.1593162  0.16872628]], shape=(1, 6), dtype=float32)\n",
      "350 tf.Tensor([[0.1663751  0.16720973 0.1684702  0.16990247 0.1593162  0.16872628]], shape=(1, 6), dtype=float32)\n",
      "351 tf.Tensor([[0.1663751  0.16720973 0.1684702  0.16990247 0.1593162  0.16872628]], shape=(1, 6), dtype=float32)\n",
      "352 tf.Tensor([[0.1663751  0.16720973 0.1684702  0.16990247 0.1593162  0.16872628]], shape=(1, 6), dtype=float32)\n"
     ]
    }
   ],
   "source": [
    "for i in range(y_train.shape[0]):\n",
    "    X_batch = np.expand_dims(X_train[i], axis=0)\n",
    "    print(i,model(X_batch))\n",
    "# print(y_batch)"
   ]
  },
  {
   "cell_type": "code",
   "execution_count": 68,
   "id": "92723cb5-9f56-4887-b4db-b1cdf27fcd8f",
   "metadata": {
    "scrolled": true
   },
   "outputs": [
    {
     "name": "stdout",
     "output_type": "stream",
     "text": [
      "tf.Tensor([[0.1663751  0.16720973 0.1684702  0.16990247 0.1593162  0.16872628]], shape=(1, 6), dtype=float32)\n"
     ]
    }
   ],
   "source": [
    "X_batch = np.expand_dims(X_train[i], axis=0)\n",
    "print(model(X_batch))"
   ]
  },
  {
   "cell_type": "code",
   "execution_count": 69,
   "id": "950ae5fa-1b92-459b-9cba-f6b2ed7cffd1",
   "metadata": {},
   "outputs": [
    {
     "name": "stdout",
     "output_type": "stream",
     "text": [
      "12/12 [==============================] - 1s 40ms/step\n"
     ]
    },
    {
     "data": {
      "text/plain": [
       "array([[0.1663751 , 0.16720973, 0.1684702 , 0.16990247, 0.1593162 ,\n",
       "        0.16872628],\n",
       "       [0.1663751 , 0.16720973, 0.1684702 , 0.16990247, 0.1593162 ,\n",
       "        0.16872628],\n",
       "       [0.1663751 , 0.16720973, 0.1684702 , 0.16990247, 0.1593162 ,\n",
       "        0.16872628],\n",
       "       ...,\n",
       "       [0.1663751 , 0.16720973, 0.1684702 , 0.16990247, 0.1593162 ,\n",
       "        0.16872628],\n",
       "       [0.1663751 , 0.16720973, 0.1684702 , 0.16990247, 0.1593162 ,\n",
       "        0.16872628],\n",
       "       [0.1663751 , 0.16720973, 0.1684702 , 0.16990247, 0.1593162 ,\n",
       "        0.16872628]], dtype=float32)"
      ]
     },
     "execution_count": 69,
     "metadata": {},
     "output_type": "execute_result"
    }
   ],
   "source": [
    "model.predict(X_train)"
   ]
  },
  {
   "cell_type": "code",
   "execution_count": 70,
   "id": "2748b0bd-7be2-494b-a20a-f4e08eb5f9c8",
   "metadata": {
    "scrolled": true
   },
   "outputs": [],
   "source": [
    "# predictions"
   ]
  },
  {
   "cell_type": "code",
   "execution_count": null,
   "id": "e189c2e4-7a47-4d5b-a76f-bdd9b3663c01",
   "metadata": {},
   "outputs": [],
   "source": []
  },
  {
   "cell_type": "code",
   "execution_count": 71,
   "id": "6bc7c8fe-10ad-4664-8744-be6cca7a8ca8",
   "metadata": {},
   "outputs": [],
   "source": [
    "num_epochs = 5\n",
    "optimizer = tf.keras.optimizers.Adam(learning_rate=0.001)\n",
    "threshold_value = 0.5\n",
    "total_iterations = 0"
   ]
  },
  {
   "cell_type": "code",
   "execution_count": 72,
   "id": "d4ccecb3-5d9a-41dd-886c-6c7540d904b4",
   "metadata": {
    "scrolled": true
   },
   "outputs": [],
   "source": [
    "import numpy as np\n",
    "import tensorflow as tf\n",
    "\n",
    "def calculate_reward(predictions, true_labels):\n",
    "    rewards = []\n",
    "\n",
    "    for i in range(len(predictions)):\n",
    "        pred = predictions[i]\n",
    "        true_labels_np = true_labels[i]\n",
    "\n",
    "        correct_prediction_reward = 1.0 if np.argmax(pred) == np.argmax(true_labels_np) else 0.0\n",
    "        rewards.append(correct_prediction_reward)\n",
    "\n",
    "    return rewards\n"
   ]
  },
  {
   "cell_type": "code",
   "execution_count": 73,
   "id": "de2467c9-4353-4e32-8e88-01e178d4af43",
   "metadata": {},
   "outputs": [
    {
     "name": "stdout",
     "output_type": "stream",
     "text": [
      "Iteration 100, Epoch 1, Loss: 0.0\n",
      "Iteration 200, Epoch 1, Loss: 0.0\n",
      "Iteration 300, Epoch 1, Loss: 0.0\n",
      "Iteration 400, Epoch 2, Loss: 0.0\n",
      "Iteration 500, Epoch 2, Loss: 0.0\n",
      "Iteration 600, Epoch 2, Loss: 0.0\n",
      "Iteration 700, Epoch 2, Loss: 0.0\n",
      "Iteration 800, Epoch 3, Loss: 0.0\n",
      "Iteration 900, Epoch 3, Loss: 0.0\n",
      "Iteration 1000, Epoch 3, Loss: 0.0\n",
      "Iteration 1100, Epoch 4, Loss: 0.0\n",
      "Iteration 1200, Epoch 4, Loss: 0.0\n",
      "Iteration 1300, Epoch 4, Loss: 0.0\n",
      "Iteration 1400, Epoch 4, Loss: 0.0\n",
      "Iteration 1500, Epoch 5, Loss: 0.0\n",
      "Iteration 1600, Epoch 5, Loss: 0.0\n",
      "Iteration 1700, Epoch 5, Loss: 0.0\n"
     ]
    }
   ],
   "source": [
    "for epoch in range(num_epochs):\n",
    "    for i in range((y_train.shape[0])):\n",
    "        X_batch, y_batch, emotion_labels_batch=X_train[i],y_train[i],emotion_labels_train[i]\n",
    "        total_iterations += 1\n",
    "        with tf.GradientTape() as tape:\n",
    "            # Add batch dimension to X_batch\n",
    "            X_batch = np.expand_dims(X_batch, axis=0)\n",
    "            # print(X_batch)\n",
    "            \n",
    "            predictions = model(X_batch)\n",
    "            \n",
    "            # Add print statements for debugging\n",
    "            # print(\"Predictions:\", predictions)\n",
    "            \n",
    "            rewards = calculate_reward(predictions, y_batch)\n",
    "            # print(predictions)\n",
    "            loss = -tf.reduce_mean(tf.math.log(tf.reduce_sum(predictions * y_batch, axis=1)) * rewards)\n",
    "\n",
    "            loss_value = loss.numpy()\n",
    "\n",
    "            # Check if the loss is infinite\n",
    "            if np.isinf(loss_value):\n",
    "                continue\n",
    "            elif np.isnan(loss_value):\n",
    "                continue\n",
    "            \n",
    "            # Add print statements for debugging\n",
    "            # print(\"Loss:\", loss_value)\n",
    "\n",
    "        gradients = tape.gradient(loss, model.trainable_variables)\n",
    "        optimizer.apply_gradients(zip(gradients, model.trainable_variables))\n",
    "\n",
    "        if(total_iterations%100==0):\n",
    "            print(f\"Iteration {total_iterations}, Epoch {epoch + 1}, Loss: {loss.numpy()}\")\n"
   ]
  },
  {
   "cell_type": "code",
   "execution_count": null,
   "id": "e0ce9666-8553-4f99-82ad-e5b38c0c80ce",
   "metadata": {},
   "outputs": [],
   "source": []
  },
  {
   "cell_type": "code",
   "execution_count": 74,
   "id": "8be3a238-afa4-4180-982a-b92cebd9c40b",
   "metadata": {},
   "outputs": [
    {
     "name": "stdout",
     "output_type": "stream",
     "text": [
      "Hello\n"
     ]
    }
   ],
   "source": [
    "print(\"Hello\")"
   ]
  },
  {
   "cell_type": "code",
   "execution_count": 75,
   "id": "9b0cb0a5-46d1-427d-bfbd-42b57295ad89",
   "metadata": {},
   "outputs": [
    {
     "data": {
      "text/plain": [
       "array([[ 0.66565168,  0.57830656, -1.34838986, ...,  0.        ,\n",
       "         0.        ,  0.        ],\n",
       "       [ 0.66623104,  0.57931364, -1.34288847, ...,  0.        ,\n",
       "         0.        ,  0.        ],\n",
       "       [ 0.66773045,  0.57952607, -1.32803321, ...,  0.        ,\n",
       "         0.        ,  0.        ],\n",
       "       ...,\n",
       "       [ 0.67115724,  0.58145607, -1.35702419, ...,  0.        ,\n",
       "         0.        ,  0.        ],\n",
       "       [ 0.66975653,  0.5817672 , -1.33315277, ...,  0.        ,\n",
       "         0.        ,  0.        ],\n",
       "       [ 0.66895604,  0.58174694, -1.38480449, ...,  0.        ,\n",
       "         0.        ,  0.        ]])"
      ]
     },
     "execution_count": 75,
     "metadata": {},
     "output_type": "execute_result"
    }
   ],
   "source": [
    "X_train[0]"
   ]
  },
  {
   "cell_type": "code",
   "execution_count": 76,
   "id": "f855e864-4c38-45db-9786-c76038f018ab",
   "metadata": {},
   "outputs": [],
   "source": [
    "# model.save_weights('modified_weights.h5')"
   ]
  },
  {
   "cell_type": "code",
   "execution_count": null,
   "id": "8d8a4620-09bb-474d-9343-a801ea8df026",
   "metadata": {},
   "outputs": [],
   "source": []
  },
  {
   "cell_type": "code",
   "execution_count": 77,
   "id": "bbddd8c6-ac22-4a57-b8db-5335fd5755ec",
   "metadata": {},
   "outputs": [
    {
     "name": "stdout",
     "output_type": "stream",
     "text": [
      "1/1 [==============================] - 0s 185ms/step\n"
     ]
    }
   ],
   "source": [
    "res = model.predict(X_test)"
   ]
  },
  {
   "cell_type": "code",
   "execution_count": 78,
   "id": "b8b93676-39c3-4d68-a906-82230af0b47f",
   "metadata": {
    "scrolled": true
   },
   "outputs": [
    {
     "data": {
      "text/plain": [
       "array([[[ 4.65146065e-01,  6.79514706e-01, -1.14846623e+00, ...,\n",
       "          3.52631748e-01,  2.75999308e-01,  6.48785233e-02],\n",
       "        [ 4.64925945e-01,  6.79656327e-01, -1.16058552e+00, ...,\n",
       "          3.51365775e-01,  3.10929000e-01,  1.07449129e-01],\n",
       "        [ 4.64875758e-01,  6.80821538e-01, -1.19107938e+00, ...,\n",
       "          3.51582289e-01,  3.07673603e-01,  7.23030344e-02],\n",
       "        ...,\n",
       "        [ 4.44229990e-01,  6.78261757e-01, -1.25385916e+00, ...,\n",
       "          3.11300546e-01,  2.72562444e-01,  8.56809244e-02],\n",
       "        [ 4.45960045e-01,  6.78895712e-01, -1.15854192e+00, ...,\n",
       "          3.05151552e-01,  2.52692819e-01,  4.02569249e-02],\n",
       "        [ 4.46478128e-01,  6.78753555e-01, -1.09247112e+00, ...,\n",
       "          3.10708582e-01,  2.63939500e-01,  4.43716124e-02]],\n",
       "\n",
       "       [[ 4.89899963e-01,  6.50399327e-01, -1.43113863e+00, ...,\n",
       "          3.22755188e-01,  3.29631329e-01,  1.87327191e-02],\n",
       "        [ 5.05796075e-01,  6.45718277e-01, -1.31178224e+00, ...,\n",
       "          3.23822618e-01,  2.90093452e-01,  1.37680415e-02],\n",
       "        [ 5.06357312e-01,  6.29881084e-01, -1.37912643e+00, ...,\n",
       "          3.28498662e-01,  3.08934748e-01,  1.29153375e-02],\n",
       "        ...,\n",
       "        [ 5.47618151e-01,  6.61941171e-01, -1.51849639e+00, ...,\n",
       "          4.26823825e-01,  2.91866183e-01, -8.23894807e-05],\n",
       "        [ 5.52824438e-01,  6.52145684e-01, -1.55978775e+00, ...,\n",
       "          4.52493995e-01,  2.56751120e-01,  1.12850219e-03],\n",
       "        [ 5.52427769e-01,  6.50941908e-01, -1.54317105e+00, ...,\n",
       "          4.29395735e-01,  2.85972238e-01, -1.23108737e-02]],\n",
       "\n",
       "       [[ 4.67583776e-01,  6.54317796e-01, -2.00811243e+00, ...,\n",
       "          0.00000000e+00,  0.00000000e+00,  0.00000000e+00],\n",
       "        [ 4.78127420e-01,  6.60318613e-01, -1.95141029e+00, ...,\n",
       "          0.00000000e+00,  0.00000000e+00,  0.00000000e+00],\n",
       "        [ 4.90404844e-01,  6.64613247e-01, -1.95391881e+00, ...,\n",
       "          0.00000000e+00,  0.00000000e+00,  0.00000000e+00],\n",
       "        ...,\n",
       "        [ 5.07139206e-01,  6.09990418e-01, -1.38175547e+00, ...,\n",
       "          0.00000000e+00,  0.00000000e+00,  0.00000000e+00],\n",
       "        [ 5.07107437e-01,  6.10264421e-01, -1.36389685e+00, ...,\n",
       "          0.00000000e+00,  0.00000000e+00,  0.00000000e+00],\n",
       "        [ 5.07965446e-01,  6.10504210e-01, -1.38745606e+00, ...,\n",
       "          0.00000000e+00,  0.00000000e+00,  0.00000000e+00]],\n",
       "\n",
       "       ...,\n",
       "\n",
       "       [[ 6.05912447e-01,  7.75784612e-01, -2.14459085e+00, ...,\n",
       "          0.00000000e+00,  0.00000000e+00,  0.00000000e+00],\n",
       "        [ 6.04344010e-01,  7.77594745e-01, -2.18553948e+00, ...,\n",
       "          0.00000000e+00,  0.00000000e+00,  0.00000000e+00],\n",
       "        [ 6.01554513e-01,  7.78794885e-01, -2.12646580e+00, ...,\n",
       "          0.00000000e+00,  0.00000000e+00,  0.00000000e+00],\n",
       "        ...,\n",
       "        [ 5.73980331e-01,  8.25567782e-01, -2.19843221e+00, ...,\n",
       "          0.00000000e+00,  0.00000000e+00,  0.00000000e+00],\n",
       "        [ 5.73444605e-01,  8.25031817e-01, -2.20041704e+00, ...,\n",
       "          0.00000000e+00,  0.00000000e+00,  0.00000000e+00],\n",
       "        [ 5.72506428e-01,  8.24442744e-01, -2.19228101e+00, ...,\n",
       "          0.00000000e+00,  0.00000000e+00,  0.00000000e+00]],\n",
       "\n",
       "       [[ 6.14728332e-01,  5.62254727e-01, -1.02482104e+00, ...,\n",
       "          4.40612614e-01,  4.59677994e-01, -1.28351420e-01],\n",
       "        [ 6.11998618e-01,  5.64023435e-01, -1.02560425e+00, ...,\n",
       "          4.34160531e-01,  4.67382848e-01, -1.40912518e-01],\n",
       "        [ 6.08367324e-01,  5.64046204e-01, -1.03739452e+00, ...,\n",
       "          4.43791360e-01,  4.53465939e-01, -5.64585999e-02],\n",
       "        ...,\n",
       "        [ 5.79641223e-01,  5.77598512e-01, -1.13657701e+00, ...,\n",
       "          4.34176207e-01,  4.28492695e-01, -8.42691809e-02],\n",
       "        [ 5.71489275e-01,  5.69827497e-01, -1.12017119e+00, ...,\n",
       "          4.28764790e-01,  4.28276688e-01, -1.06699839e-01],\n",
       "        [ 5.67838073e-01,  5.51028967e-01, -1.04473078e+00, ...,\n",
       "          4.29739743e-01,  4.30093080e-01, -1.03770338e-01]],\n",
       "\n",
       "       [[ 6.25551224e-01,  5.43271363e-01, -1.40887380e+00, ...,\n",
       "          0.00000000e+00,  0.00000000e+00,  0.00000000e+00],\n",
       "        [ 6.27840221e-01,  5.46029866e-01, -1.42555773e+00, ...,\n",
       "          0.00000000e+00,  0.00000000e+00,  0.00000000e+00],\n",
       "        [ 6.27783179e-01,  5.52238703e-01, -1.24701571e+00, ...,\n",
       "          0.00000000e+00,  0.00000000e+00,  0.00000000e+00],\n",
       "        ...,\n",
       "        [ 6.65981412e-01,  6.03800178e-01, -1.48802221e+00, ...,\n",
       "          0.00000000e+00,  0.00000000e+00,  0.00000000e+00],\n",
       "        [ 6.65927052e-01,  6.06529772e-01, -1.47201371e+00, ...,\n",
       "          0.00000000e+00,  0.00000000e+00,  0.00000000e+00],\n",
       "        [ 6.65886521e-01,  6.07194245e-01, -1.40636337e+00, ...,\n",
       "          0.00000000e+00,  0.00000000e+00,  0.00000000e+00]]])"
      ]
     },
     "execution_count": 78,
     "metadata": {},
     "output_type": "execute_result"
    }
   ],
   "source": [
    "X_test"
   ]
  },
  {
   "cell_type": "code",
   "execution_count": 79,
   "id": "4b0ba857-1553-48be-a655-60730d7faeeb",
   "metadata": {},
   "outputs": [
    {
     "data": {
      "text/plain": [
       "array([[0.1663751 , 0.16720973, 0.1684702 , 0.16990247, 0.1593162 ,\n",
       "        0.16872628],\n",
       "       [0.1663751 , 0.16720973, 0.1684702 , 0.16990247, 0.1593162 ,\n",
       "        0.16872628],\n",
       "       [0.1663751 , 0.16720973, 0.1684702 , 0.16990247, 0.1593162 ,\n",
       "        0.16872628],\n",
       "       [0.1663751 , 0.16720973, 0.1684702 , 0.16990247, 0.1593162 ,\n",
       "        0.16872628],\n",
       "       [0.1663751 , 0.16720973, 0.1684702 , 0.16990247, 0.1593162 ,\n",
       "        0.16872628],\n",
       "       [0.1663751 , 0.16720973, 0.1684702 , 0.16990247, 0.1593162 ,\n",
       "        0.16872628],\n",
       "       [0.1663751 , 0.16720973, 0.1684702 , 0.16990247, 0.1593162 ,\n",
       "        0.16872628],\n",
       "       [0.1663751 , 0.16720973, 0.1684702 , 0.16990247, 0.1593162 ,\n",
       "        0.16872628],\n",
       "       [0.1663751 , 0.16720973, 0.1684702 , 0.16990247, 0.1593162 ,\n",
       "        0.16872628],\n",
       "       [0.1663751 , 0.16720973, 0.1684702 , 0.16990247, 0.1593162 ,\n",
       "        0.16872628],\n",
       "       [0.1663751 , 0.16720973, 0.1684702 , 0.16990247, 0.1593162 ,\n",
       "        0.16872628],\n",
       "       [0.1663751 , 0.16720973, 0.1684702 , 0.16990247, 0.1593162 ,\n",
       "        0.16872628],\n",
       "       [0.1663751 , 0.16720973, 0.1684702 , 0.16990247, 0.1593162 ,\n",
       "        0.16872628],\n",
       "       [0.1663751 , 0.16720973, 0.1684702 , 0.16990247, 0.1593162 ,\n",
       "        0.16872628],\n",
       "       [0.1663751 , 0.16720973, 0.1684702 , 0.16990247, 0.1593162 ,\n",
       "        0.16872628],\n",
       "       [0.1663751 , 0.16720973, 0.1684702 , 0.16990247, 0.1593162 ,\n",
       "        0.16872628],\n",
       "       [0.1663751 , 0.16720973, 0.1684702 , 0.16990247, 0.1593162 ,\n",
       "        0.16872628],\n",
       "       [0.1663751 , 0.16720973, 0.1684702 , 0.16990247, 0.1593162 ,\n",
       "        0.16872628],\n",
       "       [0.1663751 , 0.16720973, 0.1684702 , 0.16990247, 0.1593162 ,\n",
       "        0.16872628]], dtype=float32)"
      ]
     },
     "execution_count": 79,
     "metadata": {},
     "output_type": "execute_result"
    }
   ],
   "source": [
    "res"
   ]
  },
  {
   "cell_type": "code",
   "execution_count": 80,
   "id": "c6809fb5-aaba-4d85-a104-a18c7238fcf4",
   "metadata": {},
   "outputs": [
    {
     "data": {
      "text/plain": [
       "'neutral'"
      ]
     },
     "execution_count": 80,
     "metadata": {},
     "output_type": "execute_result"
    }
   ],
   "source": [
    "actions[np.argmax(res[4])]"
   ]
  },
  {
   "cell_type": "code",
   "execution_count": 81,
   "id": "1f7f78e1-9acc-48b7-8996-46c2f267532d",
   "metadata": {},
   "outputs": [
    {
     "data": {
      "text/plain": [
       "'neutral'"
      ]
     },
     "execution_count": 81,
     "metadata": {},
     "output_type": "execute_result"
    }
   ],
   "source": [
    "actions[np.argmax(y_test[4])]"
   ]
  },
  {
   "cell_type": "code",
   "execution_count": 82,
   "id": "1fcf47a0-c3e0-4708-a9c1-0441a8dc6211",
   "metadata": {},
   "outputs": [
    {
     "name": "stderr",
     "output_type": "stream",
     "text": [
      "H:\\PYTHON\\PYTHON SYSTEM FILES\\Lib\\site-packages\\keras\\src\\engine\\training.py:3000: UserWarning: You are saving your model as an HDF5 file via `model.save()`. This file format is considered legacy. We recommend using instead the native Keras format, e.g. `model.save('my_model.keras')`.\n",
      "  saving_api.save_model(\n"
     ]
    }
   ],
   "source": [
    "model.save('action_with_reward.h5')"
   ]
  },
  {
   "cell_type": "code",
   "execution_count": 83,
   "id": "f3b8d333-7911-4481-9596-ced4e9e29055",
   "metadata": {},
   "outputs": [],
   "source": [
    "from sklearn.metrics import multilabel_confusion_matrix, accuracy_score"
   ]
  },
  {
   "cell_type": "code",
   "execution_count": 84,
   "id": "284f8fd0-d79c-4d93-969c-b9d3b3cad2f8",
   "metadata": {},
   "outputs": [
    {
     "name": "stdout",
     "output_type": "stream",
     "text": [
      "1/1 [==============================] - 0s 120ms/step\n"
     ]
    }
   ],
   "source": [
    "yhat = model.predict(X_test)"
   ]
  },
  {
   "cell_type": "code",
   "execution_count": 85,
   "id": "1cb5ecfd-2c4f-479b-a3a8-958f535bc248",
   "metadata": {},
   "outputs": [],
   "source": [
    "ytrue = np.argmax(y_test, axis=1).tolist()\n",
    "yhat = np.argmax(yhat, axis=1).tolist()"
   ]
  },
  {
   "cell_type": "code",
   "execution_count": 86,
   "id": "3ebba58e-0bf0-4538-8463-def16143bc4d",
   "metadata": {},
   "outputs": [
    {
     "data": {
      "text/plain": [
       "array([[[16,  0],\n",
       "        [ 3,  0]],\n",
       "\n",
       "       [[15,  0],\n",
       "        [ 4,  0]],\n",
       "\n",
       "       [[18,  0],\n",
       "        [ 1,  0]],\n",
       "\n",
       "       [[ 0, 16],\n",
       "        [ 0,  3]],\n",
       "\n",
       "       [[13,  0],\n",
       "        [ 6,  0]],\n",
       "\n",
       "       [[17,  0],\n",
       "        [ 2,  0]]], dtype=int64)"
      ]
     },
     "execution_count": 86,
     "metadata": {},
     "output_type": "execute_result"
    }
   ],
   "source": [
    "multilabel_confusion_matrix(ytrue, yhat)"
   ]
  },
  {
   "cell_type": "code",
   "execution_count": 87,
   "id": "90aff8bb-dfcc-4cbb-8fbf-f6a10a3b75a2",
   "metadata": {},
   "outputs": [
    {
     "data": {
      "text/plain": [
       "0.15789473684210525"
      ]
     },
     "execution_count": 87,
     "metadata": {},
     "output_type": "execute_result"
    }
   ],
   "source": [
    "accuracy_score(ytrue, yhat)"
   ]
  },
  {
   "cell_type": "code",
   "execution_count": null,
   "id": "b81c4741-9b75-42bc-8961-7db954b665a4",
   "metadata": {},
   "outputs": [],
   "source": []
  },
  {
   "cell_type": "code",
   "execution_count": null,
   "id": "3ddf1914-c5b9-43cf-836d-b6acc9461837",
   "metadata": {},
   "outputs": [],
   "source": []
  },
  {
   "cell_type": "code",
   "execution_count": null,
   "id": "e31e8073-40b0-4a8e-8868-3a2279161469",
   "metadata": {},
   "outputs": [],
   "source": []
  },
  {
   "cell_type": "code",
   "execution_count": 88,
   "id": "e88d33aa-b1fe-4890-8878-353a43b573fc",
   "metadata": {},
   "outputs": [
    {
     "name": "stdout",
     "output_type": "stream",
     "text": [
      "0 [0.1663751  0.16720973 0.1684702  0.16990247 0.1593162  0.16872628]\n",
      "1 [0.1663751  0.16720973 0.1684702  0.16990247 0.1593162  0.16872628]\n",
      "2 [0.1663751  0.16720973 0.1684702  0.16990247 0.1593162  0.16872628]\n",
      "3 [0.1663751  0.16720973 0.1684702  0.16990247 0.1593162  0.16872628]\n",
      "4 [0.1663751  0.16720973 0.1684702  0.16990247 0.1593162  0.16872628]\n",
      "5 [0.1663751  0.16720973 0.1684702  0.16990247 0.1593162  0.16872628]\n",
      "6 [0.1663751  0.16720973 0.1684702  0.16990247 0.1593162  0.16872628]\n",
      "7 [0.1663751  0.16720973 0.1684702  0.16990247 0.1593162  0.16872628]\n",
      "8 [0.1663751  0.16720973 0.1684702  0.16990247 0.1593162  0.16872628]\n",
      "9 [0.1663751  0.16720973 0.1684702  0.16990247 0.1593162  0.16872628]\n",
      "10 [0.1663751  0.16720973 0.1684702  0.16990247 0.1593162  0.16872628]\n",
      "11 [0.1663751  0.16720973 0.1684702  0.16990247 0.1593162  0.16872628]\n",
      "12 [0.1663751  0.16720973 0.1684702  0.16990247 0.1593162  0.16872628]\n",
      "13 [0.1663751  0.16720973 0.1684702  0.16990247 0.1593162  0.16872628]\n",
      "14 [0.1663751  0.16720973 0.1684702  0.16990247 0.1593162  0.16872628]\n",
      "15 [0.1663751  0.16720973 0.1684702  0.16990247 0.1593162  0.16872628]\n",
      "16 [0.1663751  0.16720973 0.1684702  0.16990247 0.1593162  0.16872628]\n",
      "17 [0.1663751  0.16720973 0.1684702  0.16990247 0.1593162  0.16872628]\n",
      "18 [0.1663751  0.16720973 0.1684702  0.16990247 0.1593162  0.16872628]\n"
     ]
    }
   ],
   "source": [
    "for num, prob in enumerate(res):\n",
    "    print(num,prob)"
   ]
  },
  {
   "cell_type": "code",
   "execution_count": 89,
   "id": "f3b01f73-7f85-4864-b7a6-66a84608bb79",
   "metadata": {},
   "outputs": [],
   "source": [
    "from scipy import stats"
   ]
  },
  {
   "cell_type": "code",
   "execution_count": 90,
   "id": "7996d41e-8d3d-4166-9a54-1744338ed13a",
   "metadata": {},
   "outputs": [],
   "source": [
    "colors = [(245, 117, 16), (117, 245, 16), (16, 117, 245), (255, 0, 0), (0, 255, 0), (0, 0, 255)]\n",
    "\n",
    "def prob_viz(res, actions, input_frame, colors):\n",
    "    output_frame = input_frame.copy()\n",
    "    for num, prob in enumerate(res):\n",
    "        cv2.rectangle(output_frame, (0, 60 + num * 40), (int(prob * 100), 90 + num * 40), colors[num], -1)\n",
    "        cv2.putText(output_frame, actions[num], (0, 85 + num * 40), cv2.FONT_HERSHEY_SIMPLEX, 1, (255, 255, 255), 2, cv2.LINE_AA)\n",
    "    return output_frame\n"
   ]
  },
  {
   "cell_type": "code",
   "execution_count": 91,
   "id": "af5c67b8-906f-438e-9080-7ed8d60b7d6e",
   "metadata": {},
   "outputs": [],
   "source": [
    "# prob_viz(res[0], actions, image, colors)"
   ]
  },
  {
   "cell_type": "code",
   "execution_count": 92,
   "id": "fc9ac657-b457-40b5-935d-0ca9bf295ab5",
   "metadata": {},
   "outputs": [],
   "source": [
    "# plt.figure(figsize=(18,18))\n",
    "# plt.imshow(prob_viz(res[2], actions, image, colors))"
   ]
  },
  {
   "cell_type": "code",
   "execution_count": null,
   "id": "c330d092-e213-464b-a06a-73b733e48f10",
   "metadata": {},
   "outputs": [],
   "source": []
  },
  {
   "cell_type": "code",
   "execution_count": null,
   "id": "9bf6a51d-f55e-4711-b929-12839d82c9bc",
   "metadata": {},
   "outputs": [],
   "source": [
    "import tensorflow as tf"
   ]
  },
  {
   "cell_type": "code",
   "execution_count": 95,
   "id": "f71f19c6-096d-454e-8063-90db6e2c9db5",
   "metadata": {},
   "outputs": [
    {
     "ename": "TypeError",
     "evalue": "BaseDenseAttention.call() got an unexpected keyword argument 'k'",
     "output_type": "error",
     "traceback": [
      "\u001b[1;31m---------------------------------------------------------------------------\u001b[0m",
      "\u001b[1;31mTypeError\u001b[0m                                 Traceback (most recent call last)",
      "Cell \u001b[1;32mIn[95], line 1\u001b[0m\n\u001b[1;32m----> 1\u001b[0m model \u001b[38;5;241m=\u001b[39m \u001b[43mtf\u001b[49m\u001b[38;5;241;43m.\u001b[39;49m\u001b[43mkeras\u001b[49m\u001b[38;5;241;43m.\u001b[39;49m\u001b[43mmodels\u001b[49m\u001b[38;5;241;43m.\u001b[39;49m\u001b[43mload_model\u001b[49m\u001b[43m(\u001b[49m\u001b[38;5;124;43m\"\u001b[39;49m\u001b[38;5;124;43maction_with_reward.h5\u001b[39;49m\u001b[38;5;124;43m\"\u001b[39;49m\u001b[43m)\u001b[49m\n",
      "File \u001b[1;32mH:\\PYTHON\\PYTHON SYSTEM FILES\\Lib\\site-packages\\keras\\src\\saving\\saving_api.py:238\u001b[0m, in \u001b[0;36mload_model\u001b[1;34m(filepath, custom_objects, compile, safe_mode, **kwargs)\u001b[0m\n\u001b[0;32m    230\u001b[0m     \u001b[38;5;28;01mreturn\u001b[39;00m saving_lib\u001b[38;5;241m.\u001b[39mload_model(\n\u001b[0;32m    231\u001b[0m         filepath,\n\u001b[0;32m    232\u001b[0m         custom_objects\u001b[38;5;241m=\u001b[39mcustom_objects,\n\u001b[0;32m    233\u001b[0m         \u001b[38;5;28mcompile\u001b[39m\u001b[38;5;241m=\u001b[39m\u001b[38;5;28mcompile\u001b[39m,\n\u001b[0;32m    234\u001b[0m         safe_mode\u001b[38;5;241m=\u001b[39msafe_mode,\n\u001b[0;32m    235\u001b[0m     )\n\u001b[0;32m    237\u001b[0m \u001b[38;5;66;03m# Legacy case.\u001b[39;00m\n\u001b[1;32m--> 238\u001b[0m \u001b[38;5;28;01mreturn\u001b[39;00m \u001b[43mlegacy_sm_saving_lib\u001b[49m\u001b[38;5;241;43m.\u001b[39;49m\u001b[43mload_model\u001b[49m\u001b[43m(\u001b[49m\n\u001b[0;32m    239\u001b[0m \u001b[43m    \u001b[49m\u001b[43mfilepath\u001b[49m\u001b[43m,\u001b[49m\u001b[43m \u001b[49m\u001b[43mcustom_objects\u001b[49m\u001b[38;5;241;43m=\u001b[39;49m\u001b[43mcustom_objects\u001b[49m\u001b[43m,\u001b[49m\u001b[43m \u001b[49m\u001b[38;5;28;43mcompile\u001b[39;49m\u001b[38;5;241;43m=\u001b[39;49m\u001b[38;5;28;43mcompile\u001b[39;49m\u001b[43m,\u001b[49m\u001b[43m \u001b[49m\u001b[38;5;241;43m*\u001b[39;49m\u001b[38;5;241;43m*\u001b[39;49m\u001b[43mkwargs\u001b[49m\n\u001b[0;32m    240\u001b[0m \u001b[43m\u001b[49m\u001b[43m)\u001b[49m\n",
      "File \u001b[1;32mH:\\PYTHON\\PYTHON SYSTEM FILES\\Lib\\site-packages\\keras\\src\\utils\\traceback_utils.py:70\u001b[0m, in \u001b[0;36mfilter_traceback.<locals>.error_handler\u001b[1;34m(*args, **kwargs)\u001b[0m\n\u001b[0;32m     67\u001b[0m     filtered_tb \u001b[38;5;241m=\u001b[39m _process_traceback_frames(e\u001b[38;5;241m.\u001b[39m__traceback__)\n\u001b[0;32m     68\u001b[0m     \u001b[38;5;66;03m# To get the full stack trace, call:\u001b[39;00m\n\u001b[0;32m     69\u001b[0m     \u001b[38;5;66;03m# `tf.debugging.disable_traceback_filtering()`\u001b[39;00m\n\u001b[1;32m---> 70\u001b[0m     \u001b[38;5;28;01mraise\u001b[39;00m e\u001b[38;5;241m.\u001b[39mwith_traceback(filtered_tb) \u001b[38;5;28;01mfrom\u001b[39;00m \u001b[38;5;28;01mNone\u001b[39;00m\n\u001b[0;32m     71\u001b[0m \u001b[38;5;28;01mfinally\u001b[39;00m:\n\u001b[0;32m     72\u001b[0m     \u001b[38;5;28;01mdel\u001b[39;00m filtered_tb\n",
      "File \u001b[1;32mH:\\PYTHON\\PYTHON SYSTEM FILES\\Lib\\site-packages\\tensorflow\\python\\autograph\\impl\\api.py:459\u001b[0m, in \u001b[0;36m_call_unconverted\u001b[1;34m(f, args, kwargs, options, update_cache)\u001b[0m\n\u001b[0;32m    456\u001b[0m   \u001b[38;5;28;01mreturn\u001b[39;00m f\u001b[38;5;241m.\u001b[39m\u001b[38;5;18m__self__\u001b[39m\u001b[38;5;241m.\u001b[39mcall(args, kwargs)\n\u001b[0;32m    458\u001b[0m \u001b[38;5;28;01mif\u001b[39;00m kwargs \u001b[38;5;129;01mis\u001b[39;00m \u001b[38;5;129;01mnot\u001b[39;00m \u001b[38;5;28;01mNone\u001b[39;00m:\n\u001b[1;32m--> 459\u001b[0m   \u001b[38;5;28;01mreturn\u001b[39;00m \u001b[43mf\u001b[49m\u001b[43m(\u001b[49m\u001b[38;5;241;43m*\u001b[39;49m\u001b[43margs\u001b[49m\u001b[43m,\u001b[49m\u001b[43m \u001b[49m\u001b[38;5;241;43m*\u001b[39;49m\u001b[38;5;241;43m*\u001b[39;49m\u001b[43mkwargs\u001b[49m\u001b[43m)\u001b[49m\n\u001b[0;32m    460\u001b[0m \u001b[38;5;28;01mreturn\u001b[39;00m f(\u001b[38;5;241m*\u001b[39margs)\n",
      "\u001b[1;31mTypeError\u001b[0m: BaseDenseAttention.call() got an unexpected keyword argument 'k'"
     ]
    }
   ],
   "source": [
    "model = tf.keras.models.load_model(\"action_with_reward.h5\")"
   ]
  },
  {
   "cell_type": "code",
   "execution_count": 96,
   "id": "6a446d35-a21e-45f7-98a6-a9af75b63a90",
   "metadata": {
    "scrolled": true
   },
   "outputs": [
    {
     "name": "stdout",
     "output_type": "stream",
     "text": [
      "<class 'mediapipe.python.solution_base.SolutionOutputs'>\n",
      "<class 'mediapipe.python.solution_base.SolutionOutputs'>\n",
      "<class 'mediapipe.python.solution_base.SolutionOutputs'>\n",
      "<class 'mediapipe.python.solution_base.SolutionOutputs'>\n",
      "<class 'mediapipe.python.solution_base.SolutionOutputs'>\n",
      "<class 'mediapipe.python.solution_base.SolutionOutputs'>\n",
      "<class 'mediapipe.python.solution_base.SolutionOutputs'>\n",
      "<class 'mediapipe.python.solution_base.SolutionOutputs'>\n",
      "<class 'mediapipe.python.solution_base.SolutionOutputs'>\n",
      "<class 'mediapipe.python.solution_base.SolutionOutputs'>\n",
      "<class 'mediapipe.python.solution_base.SolutionOutputs'>\n",
      "<class 'mediapipe.python.solution_base.SolutionOutputs'>\n",
      "<class 'mediapipe.python.solution_base.SolutionOutputs'>\n",
      "<class 'mediapipe.python.solution_base.SolutionOutputs'>\n",
      "<class 'mediapipe.python.solution_base.SolutionOutputs'>\n",
      "<class 'mediapipe.python.solution_base.SolutionOutputs'>\n",
      "<class 'mediapipe.python.solution_base.SolutionOutputs'>\n",
      "<class 'mediapipe.python.solution_base.SolutionOutputs'>\n",
      "<class 'mediapipe.python.solution_base.SolutionOutputs'>\n",
      "<class 'mediapipe.python.solution_base.SolutionOutputs'>\n",
      "<class 'mediapipe.python.solution_base.SolutionOutputs'>\n",
      "<class 'mediapipe.python.solution_base.SolutionOutputs'>\n",
      "<class 'mediapipe.python.solution_base.SolutionOutputs'>\n",
      "<class 'mediapipe.python.solution_base.SolutionOutputs'>\n",
      "<class 'mediapipe.python.solution_base.SolutionOutputs'>\n",
      "<class 'mediapipe.python.solution_base.SolutionOutputs'>\n",
      "<class 'mediapipe.python.solution_base.SolutionOutputs'>\n",
      "<class 'mediapipe.python.solution_base.SolutionOutputs'>\n",
      "<class 'mediapipe.python.solution_base.SolutionOutputs'>\n",
      "<class 'mediapipe.python.solution_base.SolutionOutputs'>\n",
      "1/1 [==============================] - 0s 86ms/step\n",
      "[0.1663751  0.16720973 0.1684702  0.16990247 0.1593162  0.16872628]\n",
      "neutral\n",
      "<class 'mediapipe.python.solution_base.SolutionOutputs'>\n",
      "1/1 [==============================] - 0s 96ms/step\n",
      "[0.1663751  0.16720973 0.1684702  0.16990247 0.1593162  0.16872628]\n",
      "neutral\n",
      "<class 'mediapipe.python.solution_base.SolutionOutputs'>\n",
      "1/1 [==============================] - 0s 127ms/step\n",
      "[0.1663751  0.16720973 0.1684702  0.16990247 0.1593162  0.16872628]\n",
      "neutral\n",
      "<class 'mediapipe.python.solution_base.SolutionOutputs'>\n",
      "1/1 [==============================] - 0s 64ms/step\n",
      "[0.1663751  0.16720973 0.1684702  0.16990247 0.1593162  0.16872628]\n",
      "neutral\n",
      "<class 'mediapipe.python.solution_base.SolutionOutputs'>\n",
      "1/1 [==============================] - 0s 81ms/step\n",
      "[0.1663751  0.16720973 0.1684702  0.16990247 0.1593162  0.16872628]\n",
      "neutral\n",
      "<class 'mediapipe.python.solution_base.SolutionOutputs'>\n",
      "1/1 [==============================] - 0s 115ms/step\n",
      "[0.1663751  0.16720973 0.1684702  0.16990247 0.1593162  0.16872628]\n",
      "neutral\n",
      "<class 'mediapipe.python.solution_base.SolutionOutputs'>\n",
      "1/1 [==============================] - 0s 67ms/step\n",
      "[0.1663751  0.16720973 0.1684702  0.16990247 0.1593162  0.16872628]\n",
      "neutral\n",
      "<class 'mediapipe.python.solution_base.SolutionOutputs'>\n",
      "1/1 [==============================] - 0s 103ms/step\n",
      "[0.1663751  0.16720973 0.1684702  0.16990247 0.1593162  0.16872628]\n",
      "neutral\n",
      "<class 'mediapipe.python.solution_base.SolutionOutputs'>\n",
      "1/1 [==============================] - 0s 78ms/step\n",
      "[0.1663751  0.16720973 0.1684702  0.16990247 0.1593162  0.16872628]\n",
      "neutral\n",
      "<class 'mediapipe.python.solution_base.SolutionOutputs'>\n",
      "1/1 [==============================] - 0s 103ms/step\n",
      "[0.1663751  0.16720973 0.1684702  0.16990247 0.1593162  0.16872628]\n",
      "neutral\n",
      "<class 'mediapipe.python.solution_base.SolutionOutputs'>\n",
      "1/1 [==============================] - 0s 75ms/step\n",
      "[0.1663751  0.16720973 0.1684702  0.16990247 0.1593162  0.16872628]\n",
      "neutral\n",
      "<class 'mediapipe.python.solution_base.SolutionOutputs'>\n",
      "1/1 [==============================] - 0s 90ms/step\n",
      "[0.1663751  0.16720973 0.1684702  0.16990247 0.1593162  0.16872628]\n",
      "neutral\n",
      "<class 'mediapipe.python.solution_base.SolutionOutputs'>\n",
      "1/1 [==============================] - 0s 87ms/step\n",
      "[0.1663751  0.16720973 0.1684702  0.16990247 0.1593162  0.16872628]\n",
      "neutral\n",
      "<class 'mediapipe.python.solution_base.SolutionOutputs'>\n",
      "1/1 [==============================] - 0s 78ms/step\n",
      "[0.1663751  0.16720973 0.1684702  0.16990247 0.1593162  0.16872628]\n",
      "neutral\n",
      "<class 'mediapipe.python.solution_base.SolutionOutputs'>\n",
      "1/1 [==============================] - 0s 80ms/step\n",
      "[0.1663751  0.16720973 0.1684702  0.16990247 0.1593162  0.16872628]\n",
      "neutral\n",
      "<class 'mediapipe.python.solution_base.SolutionOutputs'>\n",
      "1/1 [==============================] - 0s 107ms/step\n",
      "[0.1663751  0.16720973 0.1684702  0.16990247 0.1593162  0.16872628]\n",
      "neutral\n",
      "<class 'mediapipe.python.solution_base.SolutionOutputs'>\n",
      "1/1 [==============================] - 0s 105ms/step\n",
      "[0.1663751  0.16720973 0.1684702  0.16990247 0.1593162  0.16872628]\n",
      "neutral\n",
      "<class 'mediapipe.python.solution_base.SolutionOutputs'>\n",
      "1/1 [==============================] - 0s 84ms/step\n",
      "[0.1663751  0.16720973 0.1684702  0.16990247 0.1593162  0.16872628]\n",
      "neutral\n",
      "<class 'mediapipe.python.solution_base.SolutionOutputs'>\n",
      "1/1 [==============================] - 0s 101ms/step\n",
      "[0.1663751  0.16720973 0.1684702  0.16990247 0.1593162  0.16872628]\n",
      "neutral\n",
      "<class 'mediapipe.python.solution_base.SolutionOutputs'>\n",
      "1/1 [==============================] - 0s 102ms/step\n",
      "[0.1663751  0.16720973 0.1684702  0.16990247 0.1593162  0.16872628]\n",
      "neutral\n",
      "<class 'mediapipe.python.solution_base.SolutionOutputs'>\n",
      "1/1 [==============================] - 0s 148ms/step\n",
      "[0.1663751  0.16720973 0.1684702  0.16990247 0.1593162  0.16872628]\n",
      "neutral\n",
      "<class 'mediapipe.python.solution_base.SolutionOutputs'>\n",
      "1/1 [==============================] - 0s 107ms/step\n",
      "[0.1663751  0.16720973 0.1684702  0.16990247 0.1593162  0.16872628]\n",
      "neutral\n",
      "<class 'mediapipe.python.solution_base.SolutionOutputs'>\n",
      "1/1 [==============================] - 0s 77ms/step\n",
      "[0.1663751  0.16720973 0.1684702  0.16990247 0.1593162  0.16872628]\n",
      "neutral\n",
      "<class 'mediapipe.python.solution_base.SolutionOutputs'>\n",
      "1/1 [==============================] - 0s 74ms/step\n",
      "[0.1663751  0.16720973 0.1684702  0.16990247 0.1593162  0.16872628]\n",
      "neutral\n",
      "<class 'mediapipe.python.solution_base.SolutionOutputs'>\n",
      "1/1 [==============================] - 0s 90ms/step\n",
      "[0.1663751  0.16720973 0.1684702  0.16990247 0.1593162  0.16872628]\n",
      "neutral\n",
      "<class 'mediapipe.python.solution_base.SolutionOutputs'>\n",
      "1/1 [==============================] - 0s 88ms/step\n",
      "[0.1663751  0.16720973 0.1684702  0.16990247 0.1593162  0.16872628]\n",
      "neutral\n",
      "<class 'mediapipe.python.solution_base.SolutionOutputs'>\n",
      "1/1 [==============================] - 0s 100ms/step\n",
      "[0.1663751  0.16720973 0.1684702  0.16990247 0.1593162  0.16872628]\n",
      "neutral\n",
      "<class 'mediapipe.python.solution_base.SolutionOutputs'>\n",
      "1/1 [==============================] - 0s 110ms/step\n",
      "[0.1663751  0.16720973 0.1684702  0.16990247 0.1593162  0.16872628]\n",
      "neutral\n",
      "<class 'mediapipe.python.solution_base.SolutionOutputs'>\n",
      "1/1 [==============================] - 0s 73ms/step\n",
      "[0.1663751  0.16720973 0.1684702  0.16990247 0.1593162  0.16872628]\n",
      "neutral\n",
      "<class 'mediapipe.python.solution_base.SolutionOutputs'>\n",
      "1/1 [==============================] - 0s 78ms/step\n",
      "[0.1663751  0.16720973 0.1684702  0.16990247 0.1593162  0.16872628]\n",
      "neutral\n",
      "<class 'mediapipe.python.solution_base.SolutionOutputs'>\n",
      "1/1 [==============================] - 0s 99ms/step\n",
      "[0.1663751  0.16720973 0.1684702  0.16990247 0.1593162  0.16872628]\n",
      "neutral\n",
      "<class 'mediapipe.python.solution_base.SolutionOutputs'>\n",
      "1/1 [==============================] - 0s 63ms/step\n",
      "[0.1663751  0.16720973 0.1684702  0.16990247 0.1593162  0.16872628]\n",
      "neutral\n",
      "<class 'mediapipe.python.solution_base.SolutionOutputs'>\n",
      "1/1 [==============================] - 0s 90ms/step\n",
      "[0.1663751  0.16720973 0.1684702  0.16990247 0.1593162  0.16872628]\n",
      "neutral\n",
      "<class 'mediapipe.python.solution_base.SolutionOutputs'>\n",
      "1/1 [==============================] - 0s 77ms/step\n",
      "[0.1663751  0.16720973 0.1684702  0.16990247 0.1593162  0.16872628]\n",
      "neutral\n",
      "<class 'mediapipe.python.solution_base.SolutionOutputs'>\n",
      "1/1 [==============================] - 0s 76ms/step\n",
      "[0.1663751  0.16720973 0.1684702  0.16990247 0.1593162  0.16872628]\n",
      "neutral\n",
      "<class 'mediapipe.python.solution_base.SolutionOutputs'>\n",
      "1/1 [==============================] - 0s 74ms/step\n",
      "[0.1663751  0.16720973 0.1684702  0.16990247 0.1593162  0.16872628]\n",
      "neutral\n"
     ]
    }
   ],
   "source": [
    "sequence = []\n",
    "sentence = []\n",
    "predictions = []\n",
    "threshold = 0.5\n",
    "\n",
    "cap = cv2.VideoCapture(\"happy19.mp4\")\n",
    "# Set mediapipe model \n",
    "with mp_holistic.Holistic(min_detection_confidence=0.5, min_tracking_confidence=0.5) as holistic:\n",
    "    while cap.isOpened():\n",
    "\n",
    "        # Read feed\n",
    "        ret, frame = cap.read()\n",
    "        if not ret or frame is None:\n",
    "            break\n",
    "\n",
    "        # Make detections\n",
    "        image, results = mediapipe_detection(frame, holistic)\n",
    "        print(results)\n",
    "        \n",
    "        # Draw landmarks\n",
    "        draw_styled_landmarks(image, results)\n",
    "        \n",
    "        # 2. Prediction logic\n",
    "        keypoints = extract_keypoints(results)\n",
    "        sequence.append(keypoints)\n",
    "        sequence = sequence[-30:]\n",
    "        \n",
    "        if len(sequence) == 30:\n",
    "            res = model.predict(np.expand_dims(sequence, axis=0))[0]\n",
    "            print(res)\n",
    "            print(actions[np.argmax(res)])\n",
    "            predictions.append(np.argmax(res))\n",
    "            \n",
    "            \n",
    "        #3. Viz logic\n",
    "            if np.unique(predictions[-10:])[0]==np.argmax(res): \n",
    "                if res[np.argmax(res)] > threshold: \n",
    "                    \n",
    "                    if len(sentence) > 0: \n",
    "                        if actions[np.argmax(res)] != sentence[-1]:\n",
    "                            sentence.append(actions[np.argmax(res)])\n",
    "                    else:\n",
    "                        sentence.append(actions[np.argmax(res)])\n",
    "\n",
    "            if len(sentence) > 5: \n",
    "                sentence = sentence[-5:]\n",
    "\n",
    "            # Viz probabilities\n",
    "            image = prob_viz(res, actions, image, colors)\n",
    "            \n",
    "        cv2.rectangle(image, (0,0), (640, 40), (245, 117, 16), -1)\n",
    "        cv2.putText(image, ' '.join(sentence), (3,30), \n",
    "                       cv2.FONT_HERSHEY_SIMPLEX, 1, (255, 255, 255), 2, cv2.LINE_AA)\n",
    "        \n",
    "        # Show to screen\n",
    "        cv2.imshow('Feed', image)\n",
    "\n",
    "        # Break gracefully\n",
    "        if cv2.waitKey(10) & 0xFF == ord('q'):\n",
    "            break\n",
    "    cap.release()\n",
    "    cv2.destroyAllWindows()"
   ]
  },
  {
   "cell_type": "code",
   "execution_count": null,
   "id": "89288a6e-1a9c-4905-b1de-ce604ef81c63",
   "metadata": {},
   "outputs": [],
   "source": []
  },
  {
   "cell_type": "code",
   "execution_count": null,
   "id": "0aca3de7-635d-411c-b6b8-0cb40c5b1eaa",
   "metadata": {
    "scrolled": true
   },
   "outputs": [],
   "source": [
    "plt.figure(figsize=(18,18))\n",
    "plt.imshow(image)"
   ]
  },
  {
   "cell_type": "code",
   "execution_count": null,
   "id": "1dc38256-9a0e-48c7-99db-a6756901fd35",
   "metadata": {
    "scrolled": true
   },
   "outputs": [],
   "source": [
    "# history"
   ]
  },
  {
   "cell_type": "code",
   "execution_count": null,
   "id": "cc9c54fd-f743-4d9d-ac7d-fbbab72aeee5",
   "metadata": {},
   "outputs": [],
   "source": [
    "res"
   ]
  },
  {
   "cell_type": "code",
   "execution_count": 97,
   "id": "79cd6bb6-1866-403b-b7ba-95bc5904218d",
   "metadata": {},
   "outputs": [
    {
     "name": "stdout",
     "output_type": "stream",
     "text": [
      "anger ----> 0.1663751\n",
      "fear ----> 0.16720973\n",
      "happy ----> 0.1684702\n",
      "neutral ----> 0.16990247\n",
      "sad ----> 0.1593162\n",
      "surprise ----> 0.16872628\n"
     ]
    }
   ],
   "source": [
    "emo=['happy','sad','anger','surprise','fear','neutral']\n",
    "emo.sort()\n",
    "res\n",
    "for i in range(len(actions)):\n",
    "    print(emo[i],\"---->\",res[i])"
   ]
  },
  {
   "cell_type": "code",
   "execution_count": null,
   "id": "dfc25aca-060b-4a62-a6c6-66a708e64b42",
   "metadata": {},
   "outputs": [],
   "source": [
    "import numpy as np\n",
    "\n",
    "\n",
    "# Get the indices of the top 3 elements\n",
    "top_indices = np.argsort(res)[-2:][::-1]\n",
    "\n",
    "print(\"Indices of the top 3 elements:\", top_indices)"
   ]
  },
  {
   "cell_type": "code",
   "execution_count": null,
   "id": "af4a7648-8602-40dc-88f0-732446ded8a4",
   "metadata": {},
   "outputs": [],
   "source": [
    "ans=[]"
   ]
  },
  {
   "cell_type": "code",
   "execution_count": null,
   "id": "8c0af76a-11a9-4949-980e-d619b10157c5",
   "metadata": {},
   "outputs": [],
   "source": [
    "for i in top_indices:\n",
    "    ans.append(actions[i])"
   ]
  },
  {
   "cell_type": "code",
   "execution_count": null,
   "id": "9c25c4bf-df21-4e6f-8c8d-ddbb11630db8",
   "metadata": {},
   "outputs": [],
   "source": [
    "ans"
   ]
  },
  {
   "cell_type": "code",
   "execution_count": null,
   "id": "1bc82f49-5ca5-413c-983b-f92dd2e68521",
   "metadata": {},
   "outputs": [],
   "source": []
  },
  {
   "cell_type": "code",
   "execution_count": null,
   "id": "1cae9046-c3c9-479d-bcc5-1e6badefc4c4",
   "metadata": {},
   "outputs": [],
   "source": []
  },
  {
   "cell_type": "code",
   "execution_count": null,
   "id": "d2ae58bb-7c82-4950-95c6-5b703b0eae4e",
   "metadata": {
    "scrolled": true
   },
   "outputs": [],
   "source": [
    "sequence = []\n",
    "sentence = []\n",
    "predictions = []\n",
    "threshold = 0.5\n",
    "\n",
    "cap = cv2.VideoCapture(\"J:/AUTISM DETECTION PROJECT/3DCNN/videos/sad/sad30.mp4\")\n",
    "# Set mediapipe model \n",
    "with mp_holistic.Holistic(min_detection_confidence=0.5, min_tracking_confidence=0.5) as holistic:\n",
    "    while cap.isOpened():\n",
    "\n",
    "        # Read feed\n",
    "        ret, frame = cap.read()\n",
    "        if not ret or frame is None:\n",
    "            break\n",
    "\n",
    "        # Make detections\n",
    "        image, results = mediapipe_detection(frame, holistic)\n",
    "        print(results)\n",
    "        \n",
    "        # Draw landmarks\n",
    "        draw_styled_landmarks(image, results)\n",
    "        \n",
    "        # 2. Prediction logic\n",
    "        keypoints = extract_keypoints(results)\n",
    "        sequence.append(keypoints)\n",
    "        sequence = sequence[-30:]\n",
    "        \n",
    "        if len(sequence) == 30:\n",
    "            res = model.predict(np.expand_dims(sequence, axis=0))[0]\n",
    "            print(res)\n",
    "            print(actions[np.argmax(res)])\n",
    "            predictions.append(np.argmax(res))\n",
    "            \n",
    "            \n",
    "        #3. Viz logic\n",
    "            if np.unique(predictions[-10:])[0]==np.argmax(res): \n",
    "                if res[np.argmax(res)] > threshold: \n",
    "                    \n",
    "                    if len(sentence) > 0: \n",
    "                        if actions[np.argmax(res)] != sentence[-1]:\n",
    "                            sentence.append(actions[np.argmax(res)])\n",
    "                    else:\n",
    "                        sentence.append(actions[np.argmax(res)])\n",
    "\n",
    "            if len(sentence) > 5: \n",
    "                sentence = sentence[-5:]\n",
    "\n",
    "            # Viz probabilities\n",
    "            image = prob_viz(res, actions, image, colors)\n",
    "            \n",
    "        cv2.rectangle(image, (0,0), (640, 40), (245, 117, 16), -1)\n",
    "        cv2.putText(image, ' '.join(sentence), (3,30), \n",
    "                       cv2.FONT_HERSHEY_SIMPLEX, 1, (255, 255, 255), 2, cv2.LINE_AA)\n",
    "        \n",
    "        # Show to screen\n",
    "        cv2.imshow('Feed', image)\n",
    "\n",
    "        # Break gracefully\n",
    "        if cv2.waitKey(10) & 0xFF == ord('q'):\n",
    "            break\n",
    "    cap.release()\n",
    "    cv2.destroyAllWindows()"
   ]
  },
  {
   "cell_type": "code",
   "execution_count": null,
   "id": "ce04377f-e192-4f66-aa45-b07cf65263e2",
   "metadata": {},
   "outputs": [],
   "source": [
    "res"
   ]
  },
  {
   "cell_type": "code",
   "execution_count": null,
   "id": "cc868c24-6412-4589-ba22-ecee387cf965",
   "metadata": {},
   "outputs": [],
   "source": [
    "emo=['happy','sad','anger','surprise','fear','neutral']\n",
    "emo.sort()\n",
    "res\n",
    "for i in range(len(actions)):\n",
    "    print(emo[i],\"---->\",res[i])"
   ]
  },
  {
   "cell_type": "code",
   "execution_count": null,
   "id": "5775f72a-354b-45ca-b229-27024578d5ca",
   "metadata": {
    "scrolled": true
   },
   "outputs": [],
   "source": [
    "plt.figure(figsize=(18,18))\n",
    "plt.imshow(image)"
   ]
  },
  {
   "cell_type": "code",
   "execution_count": null,
   "id": "b7976aad-ae8a-4306-8564-2ce8bfafc739",
   "metadata": {},
   "outputs": [],
   "source": []
  },
  {
   "cell_type": "code",
   "execution_count": null,
   "id": "1be692a4-ea6b-47c9-a242-669e3ddfec65",
   "metadata": {
    "scrolled": true
   },
   "outputs": [],
   "source": [
    "sequence = []\n",
    "sentence = []\n",
    "predictions = []\n",
    "threshold = 0.5\n",
    "\n",
    "actions=['happy','sad','anger','surprise','fear','neutral']\n",
    "actions.sort()\n",
    "\n",
    "cap = cv2.VideoCapture(\"fear20.mp4\")\n",
    "# Set mediapipe model \n",
    "with mp_holistic.Holistic(min_detection_confidence=0.5, min_tracking_confidence=0.5) as holistic:\n",
    "    while cap.isOpened():\n",
    "\n",
    "        # Read feed\n",
    "        ret, frame = cap.read()\n",
    "        if not ret or frame is None:\n",
    "            break\n",
    "\n",
    "        # Make detections\n",
    "        image, results = mediapipe_detection(frame, holistic)\n",
    "        print(results)\n",
    "        \n",
    "        # Draw landmarks\n",
    "        draw_styled_landmarks(image, results)\n",
    "        \n",
    "        # 2. Prediction logic\n",
    "        keypoints = extract_keypoints(results)\n",
    "        sequence.append(keypoints)\n",
    "        sequence = sequence[-30:]\n",
    "        \n",
    "        if len(sequence) == 30:\n",
    "            res = model.predict(np.expand_dims(sequence, axis=0))[0]\n",
    "            print(res)\n",
    "            print(actions[np.argmax(res)])\n",
    "            predictions.append(np.argmax(res))\n",
    "            \n",
    "            if np.unique(predictions[-10:])[0]==np.argmax(res): \n",
    "                if res[np.argmax(res)] > threshold: \n",
    "                    \n",
    "                    if len(sentence) > 0: \n",
    "                        if actions[np.argmax(res)] != sentence[-1]:\n",
    "                            sentence.append(actions[np.argmax(res)])\n",
    "                    else:\n",
    "                        sentence.append(actions[np.argmax(res)])\n",
    "\n",
    "            if len(sentence) > 5: \n",
    "                sentence = sentence[-5:]\n",
    "\n",
    "            image = prob_viz(res, actions, image, colors)\n",
    "            \n",
    "        # cv2.rectangle(image, (0,0), (640, 40), (245, 117, 16), -1)\n",
    "        # cv2.putText(image, ' '.join(sentence), (3,30), \n",
    "        #                cv2.FONT_HERSHEY_SIMPLEX, 1, (255, 255, 255), 2, cv2.LINE_AA)\n",
    "        \n",
    "        cv2.imshow('Feed', image)\n",
    "\n",
    "        if cv2.waitKey(10) & 0xFF == ord('q'):\n",
    "            break\n",
    "    cap.release()\n",
    "    cv2.destroyAllWindows()"
   ]
  },
  {
   "cell_type": "code",
   "execution_count": null,
   "id": "37d84d65-1460-4a8d-80bb-e6ccc2f1011a",
   "metadata": {},
   "outputs": [],
   "source": [
    "res"
   ]
  },
  {
   "cell_type": "code",
   "execution_count": null,
   "id": "e5dc4981-399a-48c3-ae51-c8d839399cbf",
   "metadata": {},
   "outputs": [],
   "source": [
    "for i in range(len(actions)):\n",
    "    print(actions[i],\"---->\",float(res[i]))"
   ]
  },
  {
   "cell_type": "code",
   "execution_count": null,
   "id": "e8f947ea-ed3f-4a80-b141-2aeafc52f074",
   "metadata": {},
   "outputs": [],
   "source": [
    "resized_image = cv2.resize(cv2.cvtColor(image, cv2.COLOR_BGR2RGB), (650, 650))\n",
    "plt.imshow(resized_image)\n",
    "plt.show()"
   ]
  },
  {
   "cell_type": "code",
   "execution_count": null,
   "id": "8e937119-7200-4963-a26c-29a21037be94",
   "metadata": {},
   "outputs": [],
   "source": []
  }
 ],
 "metadata": {
  "kernelspec": {
   "display_name": "Python 3 (ipykernel)",
   "language": "python",
   "name": "python3"
  },
  "language_info": {
   "codemirror_mode": {
    "name": "ipython",
    "version": 3
   },
   "file_extension": ".py",
   "mimetype": "text/x-python",
   "name": "python",
   "nbconvert_exporter": "python",
   "pygments_lexer": "ipython3",
   "version": "3.11.4"
  }
 },
 "nbformat": 4,
 "nbformat_minor": 5
}
